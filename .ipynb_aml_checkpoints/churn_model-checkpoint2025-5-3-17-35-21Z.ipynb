{
  "cells": [
    {
      "cell_type": "code",
      "execution_count": 1,
      "metadata": {
        "colab": {
          "base_uri": "https://localhost:8080/",
          "height": 222
        },
        "id": "9T6UkKG2uAqT",
        "outputId": "1af85557-fb8e-4357-a3c4-270ebb50e709"
      },
      "outputs": [
        {
          "name": "stderr",
          "output_type": "stream",
          "text": [
            "SLF4J: Class path contains multiple SLF4J bindings.\n",
            "SLF4J: Found binding in [jar:file:/anaconda/envs/azureml_py38/lib/python3.10/site-packages/pyspark/jars/log4j-slf4j-impl-2.17.2.jar!/org/slf4j/impl/StaticLoggerBinder.class]\n",
            "SLF4J: Found binding in [jar:file:/anaconda/envs/azureml_py38/lib/python3.10/site-packages/pyspark/jars/log4j-slf4j-impl-2.17.1.jar!/org/slf4j/impl/StaticLoggerBinder.class]\n",
            "SLF4J: See http://www.slf4j.org/codes.html#multiple_bindings for an explanation.\n",
            "SLF4J: Actual binding is of type [org.apache.logging.slf4j.Log4jLoggerFactory]\n"
          ]
        },
        {
          "name": "stdout",
          "output_type": "stream",
          "text": [
            "25/06/01 23:33:46 WARN Utils: Your hostname, fernandabomtorin1 resolves to a loopback address: 127.0.0.1; using 10.0.0.4 instead (on interface eth0)\n",
            "25/06/01 23:33:46 WARN Utils: Set SPARK_LOCAL_IP if you need to bind to another address\n"
          ]
        },
        {
          "name": "stderr",
          "output_type": "stream",
          "text": [
            "Setting default log level to \"WARN\".\n",
            "To adjust logging level use sc.setLogLevel(newLevel). For SparkR, use setLogLevel(newLevel).\n"
          ]
        },
        {
          "name": "stdout",
          "output_type": "stream",
          "text": [
            "25/06/01 23:33:46 WARN NativeCodeLoader: Unable to load native-hadoop library for your platform... using builtin-java classes where applicable\n"
          ]
        },
        {
          "data": {
            "text/html": [
              "\n",
              "            <div>\n",
              "                <p><b>SparkSession - in-memory</b></p>\n",
              "                \n",
              "        <div>\n",
              "            <p><b>SparkContext</b></p>\n",
              "\n",
              "            <p><a href=\"http://fernandabomtorin1phdh8o.internal.cloudapp.net:4040\">Spark UI</a></p>\n",
              "\n",
              "            <dl>\n",
              "              <dt>Version</dt>\n",
              "                <dd><code>v3.3.1</code></dd>\n",
              "              <dt>Master</dt>\n",
              "                <dd><code>local[*]</code></dd>\n",
              "              <dt>AppName</dt>\n",
              "                <dd><code>Azure ML - Spark Session</code></dd>\n",
              "            </dl>\n",
              "        </div>\n",
              "        \n",
              "            </div>\n",
              "        "
            ],
            "text/plain": [
              "<pyspark.sql.session.SparkSession at 0x76dfaa87bfd0>"
            ]
          },
          "execution_count": 1,
          "metadata": {},
          "output_type": "execute_result"
        }
      ],
      "source": [
        "import os\n",
        "import sys\n",
        "import pandas as pd\n",
        "import numpy as np\n",
        "import seaborn as sns\n",
        "import matplotlib.pyplot as plt\n",
        "from pyspark.sql import SparkSession\n",
        "from pyspark.sql import functions as F\n",
        "from pyspark.sql.window import Window\n",
        "from pyspark.sql.types import StructType, StructField, StringType, DoubleType, IntegerType, DateType\n",
        "\n",
        "# Configuração do Spark\n",
        "spark = (\n",
        "    SparkSession.builder\n",
        "    .appName(\"Azure ML - Spark Session\") \n",
        "    .getOrCreate()\n",
        ")\n",
        "spark"
      ]
    },
    {
      "cell_type": "code",
      "execution_count": 2,
      "metadata": {},
      "outputs": [],
      "source": [
        "spark.sparkContext.setLogLevel(\"ERROR\")\n",
        "# pd.set_option('display.max_rows', None)\n",
        "# pd.set_option('display.max_columns', None)"
      ]
    },
    {
      "cell_type": "markdown",
      "metadata": {
        "id": "fihcVVwKH65u"
      },
      "source": [
        "# Extração dos dados e análise exploratória\n",
        "- Loading dos arquivos parquet, referente as bases de dados do problema\n",
        "- Base de transações, membros e logs\n",
        "- Entendimento dos dados disponiveis"
      ]
    },
    {
      "cell_type": "code",
      "execution_count": 3,
      "metadata": {
        "id": "p_sZ_AJmG-8G"
      },
      "outputs": [
        {
          "name": "stderr",
          "output_type": "stream",
          "text": [
            "                                                                                                                                                                                                                                                                                                                                                                                                                                                                                                                                                                                                                                                                                                                                                                                                                                                                                                                                                                                                                                        \r"
          ]
        }
      ],
      "source": [
        "# Definição do diretório base dos dados\n",
        "base_path = os.path.join(os.getcwd(), \"dados\")\n",
        "\n",
        "# Loading das bases de dados\n",
        "df_transactions = spark.read.parquet(\"/home/azureuser/cloudfiles/code/dados/transactions.parquet\")\n",
        "df_members = spark.read.parquet(\"/home/azureuser/cloudfiles/code/dados/members.parquet\")\n",
        "df_logs = spark.read.parquet(\"/home/azureuser/cloudfiles/code/dados/user_logs.parquet\")"
      ]
    },
    {
      "cell_type": "markdown",
      "metadata": {
        "id": "aUxq1chNdLJF"
      },
      "source": [
        "### Base de transações"
      ]
    },
    {
      "cell_type": "code",
      "execution_count": 4,
      "metadata": {
        "id": "bgHeHhTptrty"
      },
      "outputs": [],
      "source": [
        "# Transformação das colunas de data\n",
        "df_transactions = df_transactions.select(\n",
        "    F.col('msno'),\n",
        "    F.col('payment_method_id').cast(DoubleType()),\n",
        "    F.col('payment_plan_days').cast(DoubleType()),\n",
        "    F.col('plan_list_price').cast(DoubleType()),\n",
        "    F.col('actual_amount_paid').cast(DoubleType()),\n",
        "    F.col('is_auto_renew').cast(IntegerType()),\n",
        "    F.col('transaction_date'),\n",
        "    F.col('membership_expire_date'),\n",
        "    F.col('is_cancel').cast(IntegerType()),\n",
        "    F.col('safra')\n",
        ").withColumn(\n",
        "    'transaction_date',\n",
        "    F.to_date(F.concat(\n",
        "                F.col('transaction_date').substr(1, 4),\n",
        "                F.lit('-'),\n",
        "                F.col('transaction_date').substr(5, 2),\n",
        "                F.lit('-'),\n",
        "                F.col('transaction_date').substr(7, 2)), 'yyyy-MM-dd')\n",
        ").withColumn(\n",
        "    'membership_expire_date',\n",
        "    F.to_date(F.concat(\n",
        "                F.col('membership_expire_date').substr(1, 4),\n",
        "                F.lit('-'),\n",
        "                F.col('membership_expire_date').substr(5, 2),\n",
        "                F.lit('-'),\n",
        "                F.col('membership_expire_date').substr(7, 2)), 'yyyy-MM-dd')\n",
        ").withColumn(\n",
        "    'safra',\n",
        "    F.to_date(\n",
        "        F.concat(\n",
        "            F.col('safra').substr(1, 4),\n",
        "            F.lit('-'),\n",
        "            F.col('safra').substr(5, 2),\n",
        "            F.lit('-'),\n",
        "            F.lit('01')), 'yyyy-MM-dd')\n",
        ")"
      ]
    },
    {
      "cell_type": "code",
      "execution_count": 7,
      "metadata": {
        "colab": {
          "base_uri": "https://localhost:8080/"
        },
        "id": "Bb3Qq6SgGykQ",
        "outputId": "fcb4dd65-f314-4d48-ff42-71853384491f"
      },
      "outputs": [
        {
          "name": "stderr",
          "output_type": "stream",
          "text": [
            "                                                                                                                                                                                                                                                                                                                                                                                                                                                                                                                                                                                                                                                                                                                                                                                                                                                                                                                                                                                                                                        \r"
          ]
        },
        {
          "name": "stdout",
          "output_type": "stream",
          "text": [
            "+-------+--------------------+------------------+------------------+------------------+------------------+------------------+-------------------+\n",
            "|summary|                msno| payment_method_id| payment_plan_days|   plan_list_price|actual_amount_paid|     is_auto_renew|          is_cancel|\n",
            "+-------+--------------------+------------------+------------------+------------------+------------------+------------------+-------------------+\n",
            "|  count|            20712225|          20712225|          20712225|          20712225|          20712225|          20712225|           20712225|\n",
            "|   mean|                null|38.926502005458126|31.428997850303382|140.24088353617248|142.83468555406287|0.8543830998359664|0.03287691206521752|\n",
            "| stddev|                null|3.5062855923423513|30.559829808399385|132.27679209056055|133.60944276809502|0.3527217381412334| 0.1783143916048489|\n",
            "|    min|+++FOrTS7ab3tIgIh...|               1.0|               0.0|               0.0|               0.0|                 0|                  0|\n",
            "|    25%|                null|              38.0|              30.0|              99.0|              99.0|                 1|                  0|\n",
            "|    50%|                null|              41.0|              30.0|             149.0|             149.0|                 1|                  0|\n",
            "|    75%|                null|              41.0|              30.0|             149.0|             149.0|                 1|                  0|\n",
            "|    max|zzzyOgMk9MljCerbC...|              41.0|             450.0|            2000.0|            2000.0|                 1|                  1|\n",
            "+-------+--------------------+------------------+------------------+------------------+------------------+------------------+-------------------+\n",
            "\n"
          ]
        }
      ],
      "source": [
        "df_transactions.summary().show()"
      ]
    },
    {
      "cell_type": "code",
      "execution_count": null,
      "metadata": {
        "colab": {
          "base_uri": "https://localhost:8080/"
        },
        "id": "oSmMQJekDSKM",
        "outputId": "49912fdd-ae95-4080-a277-0bbb9e07edbf"
      },
      "outputs": [
        {
          "name": "stdout",
          "output_type": "stream",
          "text": [
            "Total de clientes: \n",
            "2363626\n",
            "Total de transações: \n",
            "20712225\n"
          ]
        }
      ],
      "source": [
        "print('Total de clientes: ')\n",
        "print(df_transactions.select(F.countDistinct('msno')).collect()[0][0])\n",
        "print('Total de transações: ')\n",
        "print(df_transactions.count())"
      ]
    },
    {
      "cell_type": "code",
      "execution_count": null,
      "metadata": {
        "colab": {
          "base_uri": "https://localhost:8080/"
        },
        "id": "Or_DsXWEFcoq",
        "outputId": "acf0792f-0d2e-4c3f-b99b-680eea8c5422"
      },
      "outputs": [
        {
          "name": "stdout",
          "output_type": "stream",
          "text": [
            "Média de cancelamentos mensalmente:  0.03374890214137594\n"
          ]
        }
      ],
      "source": [
        "cancelamento = df_transactions.groupBy('safra').agg(\n",
        "    F.mean('is_cancel').alias('percentual_cancelamento')\n",
        ")\n",
        "print('Média de cancelamentos mensalmente: ', cancelamento.agg(F.mean('percentual_cancelamento')).collect()[0][0])"
      ]
    },
    {
      "cell_type": "markdown",
      "metadata": {
        "id": "Z6jkeqW1Po9t"
      },
      "source": [
        "Observações sobre os dados de transacções:\n",
        "- Nenhum valor missing\n",
        "- Transações de 01-2015 à 12-2027\n",
        "- 3,2% das transações foram cancelamento\n",
        "- Em 85% das transações, o cliente esta com renovação automatica acionada"
      ]
    },
    {
      "cell_type": "markdown",
      "metadata": {
        "id": "A6JvORZrdDkj"
      },
      "source": [
        "### Base de membros"
      ]
    },
    {
      "cell_type": "code",
      "execution_count": 5,
      "metadata": {
        "id": "esoL5wSidDU-"
      },
      "outputs": [],
      "source": [
        "df_members = df_members.select(\n",
        "    F.col('msno'),\n",
        "    F.col('city').cast(IntegerType()),\n",
        "    F.col('bd').cast(IntegerType()),\n",
        "    F.col('gender'),\n",
        "    F.col('registered_via').cast(IntegerType()),\n",
        "    F.col('registration_init_time'),\n",
        "    F.col('is_ativo').cast(IntegerType()),\n",
        "    F.col('safra')\n",
        ").withColumn(\n",
        "    'safra',\n",
        "    F.to_date(\n",
        "        F.concat(\n",
        "            F.col('safra').substr(1, 4),\n",
        "            F.lit('-'),\n",
        "            F.col('safra').substr(5, 2),\n",
        "            F.lit('-'),\n",
        "            F.lit('01')), 'yyyy-MM-dd')\n",
        ").withColumn(\n",
        "    'registration_init_time',\n",
        "    F.to_date(\n",
        "        F.concat(\n",
        "            F.col('registration_init_time').substr(1, 4),\n",
        "            F.lit('-'),\n",
        "            F.col('registration_init_time').substr(5, 2),\n",
        "            F.lit('-'),\n",
        "            F.col('registration_init_time').substr(7, 2)), 'yyyy-MM-dd')\n",
        ")"
      ]
    },
    {
      "cell_type": "code",
      "execution_count": 8,
      "metadata": {
        "colab": {
          "base_uri": "https://localhost:8080/"
        },
        "id": "UDg-BgJ2eWw9",
        "outputId": "78ece0e2-2b6e-482d-a9b1-0443c6814109"
      },
      "outputs": [
        {
          "name": "stdout",
          "output_type": "stream",
          "text": [
            "+-------+--------------------+-----------------+------------------+--------+------------------+-------------------+\n",
            "|summary|                msno|             city|                bd|  gender|    registered_via|           is_ativo|\n",
            "+-------+--------------------+-----------------+------------------+--------+------------------+-------------------+\n",
            "|  count|            63867246|         63867246|          63867246|25657069|          63867246|           63867246|\n",
            "|   mean|                NULL|4.369941346774214|11.430160210759675|    NULL| 5.455677343594869|0.17603491154135564|\n",
            "| stddev|                NULL|5.807596122789123|19.041318387984273|    NULL|2.4953863289564757| 0.3808498703308826|\n",
            "|    min|+++4vcS9aMH7KWdfh...|                1|             -7168|  female|                -1|                  0|\n",
            "|    25%|                NULL|                1|                 0|    NULL|                 3|                  0|\n",
            "|    50%|                NULL|                1|                 0|    NULL|                 4|                  0|\n",
            "|    75%|                NULL|                5|                24|    NULL|                 9|                  0|\n",
            "|    max|zzzyOgMk9MljCerbC...|               22|              2016|    male|                19|                  1|\n",
            "+-------+--------------------+-----------------+------------------+--------+------------------+-------------------+\n",
            "\n"
          ]
        }
      ],
      "source": [
        "df_members.summary().show()"
      ]
    },
    {
      "cell_type": "markdown",
      "metadata": {
        "id": "PlSk1fWi_abA"
      },
      "source": [
        "Gender\n",
        "* 40% de missing para gender. Por se tratar de uma quantidade muito grande, crio uma nova categoria para os casos em que nao foi informado o gênero."
      ]
    },
    {
      "cell_type": "code",
      "execution_count": 6,
      "metadata": {
        "id": "3lbudW3B2wm9"
      },
      "outputs": [],
      "source": [
        "# Tratamento de missing para gender\n",
        "df_members = df_members.na.fill({'gender': 'nao_informado'})"
      ]
    },
    {
      "cell_type": "code",
      "execution_count": null,
      "metadata": {
        "colab": {
          "base_uri": "https://localhost:8080/"
        },
        "id": "x_exXXa5_S3G",
        "outputId": "0fb56928-8248-4d90-f4c3-922196d264cf"
      },
      "outputs": [
        {
          "name": "stdout",
          "output_type": "stream",
          "text": [
            "+----------+-------+\n",
            "|     safra|  count|\n",
            "+----------+-------+\n",
            "|2016-03-01|4697972|\n",
            "|2016-01-01|4294184|\n",
            "|2016-08-01|5615921|\n",
            "|2016-09-01|5778986|\n",
            "|2016-05-01|5060705|\n",
            "|2016-04-01|4876301|\n",
            "|2016-11-01|6114345|\n",
            "|2016-07-01|5439337|\n",
            "|2016-12-01|6287789|\n",
            "|2016-02-01|4502354|\n",
            "|2016-10-01|5949288|\n",
            "|2016-06-01|5250064|\n",
            "+----------+-------+\n",
            "\n"
          ]
        }
      ],
      "source": [
        "df_members.groupBy('safra').count().show()"
      ]
    },
    {
      "cell_type": "code",
      "execution_count": 21,
      "metadata": {
        "colab": {
          "base_uri": "https://localhost:8080/"
        },
        "id": "R4GlMcW8Ci11",
        "outputId": "aab42d4c-ee3e-499d-b2b0-cda6a091675b"
      },
      "outputs": [
        {
          "name": "stdout",
          "output_type": "stream",
          "text": [
            "25/06/01 22:12:29 WARN WindowExec: No Partition Defined for Window operation! Moving all data to a single partition, this can cause serious performance degradation.\n",
            "25/06/01 22:12:29 WARN WindowExec: No Partition Defined for Window operation! Moving all data to a single partition, this can cause serious performance degradation.\n"
          ]
        },
        {
          "name": "stderr",
          "output_type": "stream",
          "text": [
            "[Stage 7:====================================================================================================================================================================================================================================================================================================================================================================================================================================================================================================================================================================================================================================================================================================================================================================================================================================================================================================================================================================>                                            (21 + 1) / 22]\r"
          ]
        },
        {
          "name": "stdout",
          "output_type": "stream",
          "text": [
            "25/06/01 22:12:36 WARN WindowExec: No Partition Defined for Window operation! Moving all data to a single partition, this can cause serious performance degradation.\n",
            "25/06/01 22:12:36 WARN WindowExec: No Partition Defined for Window operation! Moving all data to a single partition, this can cause serious performance degradation.\n"
          ]
        },
        {
          "name": "stderr",
          "output_type": "stream",
          "text": [
            "[Stage 9:>                                                                                                                                                                                                                                                                                                                                                                                                                                                                                                                                                                                                                                                                                                                                                                                                                                                                                                                                                                                                                  (0 + 1) / 1]\r"
          ]
        },
        {
          "name": "stdout",
          "output_type": "stream",
          "text": [
            "25/06/01 22:13:02 WARN RowBasedKeyValueBatch: Calling spill() on RowBasedKeyValueBatch. Will not spill but return 0.\n",
            "25/06/01 22:13:05 WARN RowBasedKeyValueBatch: Calling spill() on RowBasedKeyValueBatch. Will not spill but return 0.\n",
            "25/06/01 22:13:08 WARN RowBasedKeyValueBatch: Calling spill() on RowBasedKeyValueBatch. Will not spill but return 0.\n",
            "25/06/01 22:13:12 WARN RowBasedKeyValueBatch: Calling spill() on RowBasedKeyValueBatch. Will not spill but return 0.\n",
            "25/06/01 22:13:15 WARN RowBasedKeyValueBatch: Calling spill() on RowBasedKeyValueBatch. Will not spill but return 0.\n",
            "25/06/01 22:13:19 WARN RowBasedKeyValueBatch: Calling spill() on RowBasedKeyValueBatch. Will not spill but return 0.\n",
            "25/06/01 22:13:23 WARN RowBasedKeyValueBatch: Calling spill() on RowBasedKeyValueBatch. Will not spill but return 0.\n",
            "25/06/01 22:13:26 WARN RowBasedKeyValueBatch: Calling spill() on RowBasedKeyValueBatch. Will not spill but return 0.\n",
            "25/06/01 22:13:29 WARN RowBasedKeyValueBatch: Calling spill() on RowBasedKeyValueBatch. Will not spill but return 0.\n",
            "25/06/01 22:13:33 WARN RowBasedKeyValueBatch: Calling spill() on RowBasedKeyValueBatch. Will not spill but return 0.\n",
            "25/06/01 22:13:36 WARN RowBasedKeyValueBatch: Calling spill() on RowBasedKeyValueBatch. Will not spill but return 0.\n"
          ]
        },
        {
          "name": "stderr",
          "output_type": "stream",
          "text": [
            "                                                                                                                                                                                                                                                                                                                                                                                                                                                                                                                                                                                                                                                                                                                                                                                                                                                                                                                                                                                                                                        \r"
          ]
        },
        {
          "name": "stdout",
          "output_type": "stream",
          "text": [
            "+-----------+------+------+--------------------+\n",
            "|bd_quantile|min_bd|max_bd|             mean_bd|\n",
            "+-----------+------+------+--------------------+\n",
            "|          1| -7168|     0|-0.33433906511724476|\n",
            "|          2|     0|     0|                 0.0|\n",
            "|          3|     0|     0|                 0.0|\n",
            "|          4|     0|     0|                 0.0|\n",
            "|          5|     0|     0|                 0.0|\n",
            "|          6|     0|     0|                 0.0|\n",
            "|          7|     0|     0|                 0.0|\n",
            "|          8|     0|     0|                 0.0|\n",
            "|          9|     0|     0|                 0.0|\n",
            "|         10|     0|     0|                 0.0|\n",
            "|         11|     0|     0|                 0.0|\n",
            "|         12|     0|     0|                 0.0|\n",
            "|         13|     0|    18|  10.541769144869889|\n",
            "|         14|    18|    21|  19.668699320653282|\n",
            "|         15|    21|    24|  22.392777267343945|\n",
            "|         16|    24|    27|   25.35950449714126|\n",
            "|         17|    27|    30|  28.463474231859713|\n",
            "|         18|    30|    35|   32.57874146432506|\n",
            "|         19|    35|    42|   37.99426309951706|\n",
            "|         20|    42|  2016|  51.938335835398554|\n",
            "+-----------+------+------+--------------------+\n",
            "\n"
          ]
        },
        {
          "name": "stderr",
          "output_type": "stream",
          "text": [
            "[Stage 10:===================================================================================================================================================================================================================================================================================================================================================================================================================================================================================================================================================================================================================================================================================================================================================================================================================================================================================================================================================================>                                            (21 + 1) / 22]\r"
          ]
        },
        {
          "name": "stdout",
          "output_type": "stream",
          "text": [
            "Mediana geral de bd: 0.0\n"
          ]
        },
        {
          "name": "stderr",
          "output_type": "stream",
          "text": [
            "                                                                                                                                                                                                                                                                                                                                                                                                                                                                                                                                                                                                                                                                                                                                                                                                                                                                                                                                                                                                                                        \r"
          ]
        }
      ],
      "source": [
        "from pyspark.sql import Window\n",
        "\n",
        "# Calcular min, max, mean por quantil\n",
        "df_members.withColumn(\n",
        "    \"bd_quantile\", F.ntile(20).over(Window.orderBy(\"bd\"))\n",
        ").groupBy(\"bd_quantile\").agg(\n",
        "    F.min(\"bd\").alias(\"min_bd\"),\n",
        "    F.max(\"bd\").alias(\"max_bd\"),\n",
        "    F.mean(\"bd\").alias(\"mean_bd\")\n",
        ").show()\n",
        "\n",
        "# Calcular a mediana geral de bd\n",
        "median_bd = df_members.approxQuantile(\"bd\", [0.5], 0.01)[0]\n",
        "print(\"Mediana geral de bd:\", median_bd)"
      ]
    },
    {
      "cell_type": "code",
      "execution_count": 7,
      "metadata": {
        "id": "owfblgSsOgE-"
      },
      "outputs": [],
      "source": [
        "# Utilização dos valores do percentil 99 e 1 para substituir os outliers\n",
        "percentile_99_value = 51\n",
        "percentile_01_value = 0\n",
        "\n",
        "# Substituição dos valores outliers de bd\n",
        "df_members = df_members.withColumn(\n",
        "    'bd',\n",
        "    F.when(F.col('bd') < percentile_01_value, percentile_01_value)\n",
        "     .when(F.col('bd') > percentile_99_value, percentile_99_value)\n",
        "     .otherwise(F.col('bd'))\n",
        ")"
      ]
    },
    {
      "cell_type": "code",
      "execution_count": 9,
      "metadata": {
        "colab": {
          "base_uri": "https://localhost:8080/"
        },
        "id": "hDNFaNLvwty5",
        "outputId": "ffe99af4-b4f5-420b-c6f2-c5df77cc4bd9"
      },
      "outputs": [
        {
          "name": "stderr",
          "output_type": "stream",
          "text": [
            "[Stage 6:===================================================================================================================================================================================================================================================================================================================================================================>                                                                                                                                                                                                                                                                                                                                                                                                                                                                                                                                                                                                                                              (8 + 4) / 22]\r"
          ]
        },
        {
          "name": "stdout",
          "output_type": "stream",
          "text": [
            "[470.774s][warning][gc,alloc] Executor task launch worker for task 9.0 in stage 6.0 (TID 20): Retried waiting for GCLocker too often allocating 4194306 words\n"
          ]
        },
        {
          "name": "stderr",
          "output_type": "stream",
          "text": [
            "[Stage 8:========================================================================================================================================================================================================================================================================================================================================================================================================================================================================================================================================================================================================================================================================================================================================================================================================================================================================================================================================================================================>                        (39 + 1) / 40]\r"
          ]
        },
        {
          "name": "stdout",
          "output_type": "stream",
          "text": [
            "Total de clientes:  6287789\n"
          ]
        },
        {
          "name": "stderr",
          "output_type": "stream",
          "text": [
            "                                                                                                                                                                                                                                                                                                                                                                                                                                                                                                                                                                                                                                                                                                                                                                                                                                                                                                                                                                                                                                        \r"
          ]
        }
      ],
      "source": [
        "print('Total de clientes: ', df_members.select(F.countDistinct('msno')).collect()[0][0])"
      ]
    },
    {
      "cell_type": "markdown",
      "metadata": {
        "id": "RK9fzXhOxabW"
      },
      "source": [
        "### Observações sobre a base de membros:\n",
        "- 63MM de clientes\n",
        "- Apenas 17% dos membros estao ativos"
      ]
    },
    {
      "cell_type": "markdown",
      "metadata": {
        "id": "rHFCJl7_ebtf"
      },
      "source": [
        "### Base logs"
      ]
    },
    {
      "cell_type": "code",
      "execution_count": 8,
      "metadata": {
        "id": "UjRjVS9UPwxu"
      },
      "outputs": [],
      "source": [
        "df_logs = df_logs.select(\n",
        "    F.col('msno'),\n",
        "    F.col('num_25').cast(DoubleType()),\n",
        "    F.col('num_50').cast(DoubleType()),\n",
        "    F.col('num_75').cast(DoubleType()),\n",
        "    F.col('num_985').cast(DoubleType()),\n",
        "    F.col('num_100').cast(DoubleType()),\n",
        "    F.col('num_unq').cast(DoubleType()),\n",
        "    F.col('total_secs').cast(DoubleType()),\n",
        "    F.col('safra')\n",
        ").withColumn(\n",
        "    'safra',\n",
        "    F.to_date(\n",
        "        F.concat(\n",
        "            F.col('safra').substr(1, 4),\n",
        "            F.lit('-'),\n",
        "            F.col('safra').substr(5, 2),\n",
        "            F.lit('-'),\n",
        "            F.lit('01')), 'yyyy-MM-dd')\n",
        ")"
      ]
    },
    {
      "cell_type": "code",
      "execution_count": null,
      "metadata": {
        "colab": {
          "base_uri": "https://localhost:8080/"
        },
        "id": "1IBnaC3eKWBV",
        "outputId": "3b7611d3-6cf5-4896-d3f6-96d641106a5d"
      },
      "outputs": [
        {
          "name": "stdout",
          "output_type": "stream",
          "text": [
            "+-------+--------------------+-----------------+-----------------+-----------------+------------------+------------------+-----------------+------------------+--------------------+\n",
            "|summary|                msno|            safra|           num_25|           num_50|            num_75|           num_985|          num_100|           num_unq|          total_secs|\n",
            "+-------+--------------------+-----------------+-----------------+-----------------+------------------+------------------+-----------------+------------------+--------------------+\n",
            "|  count|            26758971|         26758971|         26758971|         26758971|          26758971|          26758971|         26758971|          26758971|            26758971|\n",
            "|   mean|                NULL|201572.0403868669|95.42601163549973|24.03566975725636|14.903521327483034|16.538671797207748|450.1598216538297|440.91930526775485|-2.11717488634742...|\n",
            "| stddev|                NULL|61.87618074610147|175.2882595645691|39.12554591867812|  22.6267215132517|37.409156681476354|725.3139035411604|  590.605957174868|6.839043702349416E14|\n",
            "|    min|+++4vcS9aMH7KWdfh...|           201501|              0.0|              0.0|               0.0|               0.0|              0.0|               1.0|-2.39807672957245...|\n",
            "|    25%|                NULL|           201508|              9.0|              3.0|               2.0|               1.0|             37.0|              50.0|           11021.553|\n",
            "|    50%|                NULL|           201602|             40.0|             11.0|               7.0|               7.0|            211.0|             239.0|  58359.429000000004|\n",
            "|    75%|                NULL|           201609|            114.0|             30.0|              20.0|              20.0|            564.0|             600.0|          152111.487|\n",
            "|    max|zzzyOgMk9MljCerbC...|           201702|         111864.0|           8875.0|            3485.0|           37698.0|         196741.0|           32706.0|9.223372037135594E15|\n",
            "+-------+--------------------+-----------------+-----------------+-----------------+------------------+------------------+-----------------+------------------+--------------------+\n",
            "\n"
          ]
        }
      ],
      "source": [
        "df_logs.summary().show()"
      ]
    },
    {
      "cell_type": "markdown",
      "metadata": {
        "id": "ax4EsXI_KW9g"
      },
      "source": [
        "# O Case\n",
        "Dados históricos de dois anos de clientes de uma empresa que oferece streaming de musica baseado em assinatura.\n",
        "Quando os usuários se inscrevem no serviço, eles podem optar por renovar o serviço manualmente ou renovar automaticamente, podendo cancelar ativamente sua associação à qualquer momento.\n",
        "## Modelo de Churn\n",
        "Criação de um modelo classificador para prever clientes que serão churn 3 meses no futuro (ou seja, clientes que possuem assinatura ativa no periodo analisado e 3 mses depois desse período ele não esta mais ativo, ou porque cancelou ou não renovou a assinatura) e identifique os clientes que serão direcionados para a ação de forma proativa."
      ]
    },
    {
      "cell_type": "markdown",
      "metadata": {
        "id": "tW27Tn9RlmjA"
      },
      "source": [
        "# Definição de público\n",
        "- Clientes que possuem assinatura ativa\n",
        "- Até 2016-09-01 para que possuam apenas clientes que possamos saber o comportamento 3 meses para a frente\n",
        "- Na base de membros, temos a informacao dos membros ativos, e portanto escolho essa base para selecionar o público"
      ]
    },
    {
      "cell_type": "code",
      "execution_count": 9,
      "metadata": {
        "id": "sW5n3XVwSIAW"
      },
      "outputs": [],
      "source": [
        "spine = df_members.filter(\n",
        "    (F.col('is_ativo') == 1) &\n",
        "    (F.col('safra') < F.lit('2016-09-01'))\n",
        ").drop('is_ativo').dropDuplicates()"
      ]
    },
    {
      "cell_type": "code",
      "execution_count": null,
      "metadata": {
        "colab": {
          "base_uri": "https://localhost:8080/"
        },
        "id": "qaOoSpO4O_to",
        "outputId": "cf86f6eb-29af-4c85-ddb7-cdb4496367a7"
      },
      "outputs": [
        {
          "data": {
            "text/plain": [
              "7153111"
            ]
          },
          "execution_count": 36,
          "metadata": {},
          "output_type": "execute_result"
        }
      ],
      "source": [
        "spine.count()"
      ]
    },
    {
      "cell_type": "code",
      "execution_count": null,
      "metadata": {
        "colab": {
          "base_uri": "https://localhost:8080/"
        },
        "id": "ghNYdDziPwv_",
        "outputId": "b71c2c78-2d3c-47da-d768-1757ad329d91"
      },
      "outputs": [
        {
          "name": "stdout",
          "output_type": "stream",
          "text": [
            "+--------------------------------------------+-----+\n",
            "|msno                                        |count|\n",
            "+--------------------------------------------+-----+\n",
            "|+f7M2fwOgbZKfdDo7U5yF2Tn9SCxtV4TVzSydzrQI40=|8    |\n",
            "|+Pn5eh2MY/PSbCwd1OW+xxZkjcgXETMtzfMf/fcvywI=|8    |\n",
            "|+QrgUC+7auY8Pf0w2wi6p3nbyA9QSVySmdhAVu/wYZ8=|8    |\n",
            "|+YOJTYCPOTYfnWWrwjYK9bEZjWVG++pVbCeTq0eGMhA=|8    |\n",
            "|+QXJIHj6VYFkRpplljnYC+btUq/8MtESX5ng9nIff0U=|8    |\n",
            "+--------------------------------------------+-----+\n",
            "only showing top 5 rows\n",
            "\n"
          ]
        }
      ],
      "source": [
        "spine.groupBy('msno').count().orderBy(F.desc('count')).show(5, truncate=False)"
      ]
    },
    {
      "cell_type": "code",
      "execution_count": null,
      "metadata": {
        "colab": {
          "base_uri": "https://localhost:8080/"
        },
        "id": "S7ebqvK0mMGb",
        "outputId": "df0e6aea-ff32-4c59-b7c6-c17970d576d4"
      },
      "outputs": [
        {
          "name": "stdout",
          "output_type": "stream",
          "text": [
            "+--------------------------------------------+----+---+-------------+--------------+----------------------+----------+\n",
            "|msno                                        |city|bd |gender       |registered_via|registration_init_time|safra     |\n",
            "+--------------------------------------------+----+---+-------------+--------------+----------------------+----------+\n",
            "|++Bks8kE9oclzxZM3hcWs+qzsxuoXFeIE1+7pxKBCQg=|1   |0  |nao_informado|7             |2016-07-30            |2016-07-01|\n",
            "|++OvJH5FmfZ5CRrYfmbQEk7tJwCZhsJnkWbxClRaUpw=|1   |0  |nao_informado|7             |2013-11-14            |2016-02-01|\n",
            "|++aVm+4v87MXzbhiEXoS7OszzRxcfny8aKalISGUR9I=|15  |32 |male         |9             |2011-11-03            |2016-05-01|\n",
            "|++kosgi4V03jOxcBKjM/9tPignUOxcc7jBVnZLJ+lX0=|1   |0  |nao_informado|7             |2015-07-10            |2016-07-01|\n",
            "|+/EF6xPAo8HLjhC7K8VBWUkXnCYi7KYIaNf071llMV0=|5   |35 |female       |9             |2012-05-16            |2016-02-01|\n",
            "+--------------------------------------------+----+---+-------------+--------------+----------------------+----------+\n",
            "only showing top 5 rows\n",
            "\n"
          ]
        }
      ],
      "source": [
        "spine.show(5, truncate=False)"
      ]
    },
    {
      "cell_type": "markdown",
      "metadata": {
        "id": "gxEBjniliVCj"
      },
      "source": [
        "# Definição da target\n",
        "- Churn ou não churns, 3 meses no futuro\n",
        "- Todas as variaveis sobre o cliente, estão em uma visao 3 meses antes da target\n",
        "- A partir da spine, com os clientes ativos em cada safra, é feito um cruzamento buscando o cliente na safra 3 meses para o futuro\n",
        "- Cria-se a variável target, 1 se o cliente estiver ativo, 0 se nao estiver ativo (churn)"
      ]
    },
    {
      "cell_type": "code",
      "execution_count": 10,
      "metadata": {
        "id": "xED9XVO3dAeh"
      },
      "outputs": [],
      "source": [
        "df_members_aliased = df_members.select('msno', 'safra', 'is_ativo').withColumnRenamed('safra', 'safra_target').withColumn('chave', F.concat(F.col('msno'), F.lit('_'), F.col('safra_target')))\n",
        "master = spine.withColumn('chave', F.concat(F.col('msno'), F.lit('_'), F.add_months(F.col('safra'), 3)))\n",
        "master = master.join(df_members_aliased.select('chave', 'is_ativo'),on='chave', how='left').drop('chave').withColumnRenamed('is_ativo', 'target')"
      ]
    },
    {
      "cell_type": "code",
      "execution_count": null,
      "metadata": {
        "colab": {
          "base_uri": "https://localhost:8080/"
        },
        "id": "XrC1im7vXue7",
        "outputId": "57698cc4-6bac-4e85-8836-2ff30cc6e0bf"
      },
      "outputs": [
        {
          "name": "stdout",
          "output_type": "stream",
          "text": [
            "+--------------------------------------------+----+---+-------------+--------------+----------------------+----------+------+\n",
            "|msno                                        |city|bd |gender       |registered_via|registration_init_time|safra     |target|\n",
            "+--------------------------------------------+----+---+-------------+--------------+----------------------+----------+------+\n",
            "|+TX/zz/YToedCiHQ8OaMmRDwaGF4LU1aaNOXeo408VM=|1   |0  |nao_informado|7             |2012-05-24            |2016-06-01|1     |\n",
            "|/8HWkgjEG95U3+82KEXrWRcrmkUl62cEUeg8d37j7dQ=|22  |32 |male         |3             |2016-01-14            |2016-05-01|0     |\n",
            "|+a5M+g3yn6JJoUL0JLg6075GbJZBsBJ4z3FkQ2HJgBU=|1   |0  |nao_informado|7             |2016-04-09            |2016-08-01|1     |\n",
            "|+mM0jyxAgO+WXyjjj1T0lIs4vYbG0zScKm/ifZ6sQYc=|1   |0  |nao_informado|7             |2014-12-20            |2016-08-01|1     |\n",
            "|+2BZVWQhXddu49omjb2OOjOwVv0MTtj5l9Io4n+IAD4=|4   |54 |male         |9             |2016-01-15            |2016-03-01|1     |\n",
            "+--------------------------------------------+----+---+-------------+--------------+----------------------+----------+------+\n",
            "only showing top 5 rows\n",
            "\n"
          ]
        }
      ],
      "source": [
        "master.show(5, truncate=False)"
      ]
    },
    {
      "cell_type": "code",
      "execution_count": 16,
      "metadata": {
        "colab": {
          "base_uri": "https://localhost:8080/"
        },
        "id": "e9dtthPeXyvs",
        "outputId": "ab2b3c06-f448-4647-dfee-97d0f8fb6941"
      },
      "outputs": [
        {
          "name": "stdout",
          "output_type": "stream",
          "text": [
            "+------+-------+\n",
            "|target|  count|\n",
            "+------+-------+\n",
            "|     1|6134030|\n",
            "|     0|1019081|\n",
            "+------+-------+\n",
            "\n"
          ]
        }
      ],
      "source": [
        "master.groupBy('target').count().show()"
      ]
    },
    {
      "cell_type": "code",
      "execution_count": 11,
      "metadata": {
        "id": "g0hf__ZC2ssQ"
      },
      "outputs": [],
      "source": [
        "# Obtendo uma amostra, mantendo a proporção da target\n",
        "fractions = {0: 0.1, 1: 0.1}\n",
        "\n",
        "df_sample = master.sampleBy(\"target\", fractions, seed=42)"
      ]
    },
    {
      "cell_type": "code",
      "execution_count": 36,
      "metadata": {
        "id": "ab8pdVC36sX5"
      },
      "outputs": [
        {
          "name": "stderr",
          "output_type": "stream",
          "text": [
            "                                                                                                                                                                                                                                                                                                                                                                                                                                                                                                                                                                                                                                                                                                                                                                                                                                                                                                                                                                                                                                        \r"
          ]
        },
        {
          "name": "stdout",
          "output_type": "stream",
          "text": [
            "25/06/01 22:35:16 WARN RowBasedKeyValueBatch: Calling spill() on RowBasedKeyValueBatch. Will not spill but return 0.\n"
          ]
        },
        {
          "name": "stderr",
          "output_type": "stream",
          "text": [
            "[Stage 96:============================================================================================================================================================================================================================================================================================================================================================================================================================================================>                               (14 + 1) / 15][Stage 105:>                                                                                                                                                                                                                                                                                                                                                                                                                                                                                           (0 + 3) / 67]\r"
          ]
        },
        {
          "name": "stdout",
          "output_type": "stream",
          "text": [
            "25/06/01 22:35:16 WARN RowBasedKeyValueBatch: Calling spill() on RowBasedKeyValueBatch. Will not spill but return 0.\n",
            "25/06/01 22:35:17 WARN RowBasedKeyValueBatch: Calling spill() on RowBasedKeyValueBatch. Will not spill but return 0.\n"
          ]
        },
        {
          "name": "stderr",
          "output_type": "stream",
          "text": [
            "[Stage 105:=============================>                                                                                                                                                                                                                                                                                                                                                                                                                                                                                                                                                                                                                                                                                                                                                                                                                                                                                                                                                                                  (2 + 4) / 67]\r"
          ]
        },
        {
          "name": "stdout",
          "output_type": "stream",
          "text": [
            "25/06/01 22:35:18 WARN RowBasedKeyValueBatch: Calling spill() on RowBasedKeyValueBatch. Will not spill but return 0.\n",
            "25/06/01 22:35:18 WARN RowBasedKeyValueBatch: Calling spill() on RowBasedKeyValueBatch. Will not spill but return 0.\n"
          ]
        },
        {
          "name": "stderr",
          "output_type": "stream",
          "text": [
            "[Stage 105:=====================>                                                                                                                                                                                                                                                                                                                                                                                                                                                                      (3 + 4) / 67][Stage 110:>                                                                                                                                                                                                                                                                                                                                                                                                                                                                                            (0 + 0) / 1]\r"
          ]
        },
        {
          "name": "stdout",
          "output_type": "stream",
          "text": [
            "25/06/01 22:35:18 WARN RowBasedKeyValueBatch: Calling spill() on RowBasedKeyValueBatch. Will not spill but return 0.\n",
            "25/06/01 22:35:18 WARN RowBasedKeyValueBatch: Calling spill() on RowBasedKeyValueBatch. Will not spill but return 0.\n"
          ]
        },
        {
          "name": "stderr",
          "output_type": "stream",
          "text": [
            "[Stage 105:=================================================>                                                                                                                                                                                                                                                                                                                                                                                                                                          (7 + 4) / 67][Stage 110:>                                                                                                                                                                                                                                                                                                                                                                                                                                                                                            (0 + 0) / 1]\r"
          ]
        },
        {
          "name": "stdout",
          "output_type": "stream",
          "text": [
            "25/06/01 22:35:20 WARN RowBasedKeyValueBatch: Calling spill() on RowBasedKeyValueBatch. Will not spill but return 0.\n",
            "25/06/01 22:35:20 WARN RowBasedKeyValueBatch: Calling spill() on RowBasedKeyValueBatch. Will not spill but return 0.\n",
            "25/06/01 22:35:20 WARN RowBasedKeyValueBatch: Calling spill() on RowBasedKeyValueBatch. Will not spill but return 0.\n",
            "25/06/01 22:35:20 WARN RowBasedKeyValueBatch: Calling spill() on RowBasedKeyValueBatch. Will not spill but return 0.\n"
          ]
        },
        {
          "name": "stderr",
          "output_type": "stream",
          "text": [
            "[Stage 105:========================================================>                                                                                                                                                                                                                                                                                                                                                                                                                                   (8 + 4) / 67][Stage 110:>                                                                                                                                                                                                                                                                                                                                                                                                                                                                                            (0 + 0) / 1]\r"
          ]
        },
        {
          "name": "stdout",
          "output_type": "stream",
          "text": [
            "25/06/01 22:35:21 WARN RowBasedKeyValueBatch: Calling spill() on RowBasedKeyValueBatch. Will not spill but return 0.\n"
          ]
        },
        {
          "name": "stderr",
          "output_type": "stream",
          "text": [
            "[Stage 105:=============================================================================>                                                                                                                                                                                                                                                                                                                                                                                                             (11 + 4) / 67][Stage 110:>                                                                                                                                                                                                                                                                                                                                                                                                                                                                                            (0 + 0) / 1]\r"
          ]
        },
        {
          "name": "stdout",
          "output_type": "stream",
          "text": [
            "25/06/01 22:35:22 WARN RowBasedKeyValueBatch: Calling spill() on RowBasedKeyValueBatch. Will not spill but return 0.\n",
            "25/06/01 22:35:22 WARN RowBasedKeyValueBatch: Calling spill() on RowBasedKeyValueBatch. Will not spill but return 0.\n",
            "25/06/01 22:35:22 WARN RowBasedKeyValueBatch: Calling spill() on RowBasedKeyValueBatch. Will not spill but return 0.\n"
          ]
        },
        {
          "name": "stderr",
          "output_type": "stream",
          "text": [
            "[Stage 105:==========================================================================================================>                                                                                                                                                                                                                                                                                                                                                                                (15 + 4) / 67][Stage 110:>                                                                                                                                                                                                                                                                                                                                                                                                                                                                                            (0 + 0) / 1]\r"
          ]
        },
        {
          "name": "stdout",
          "output_type": "stream",
          "text": [
            "25/06/01 22:35:23 WARN RowBasedKeyValueBatch: Calling spill() on RowBasedKeyValueBatch. Will not spill but return 0.\n",
            "25/06/01 22:35:23 WARN RowBasedKeyValueBatch: Calling spill() on RowBasedKeyValueBatch. Will not spill but return 0.\n",
            "25/06/01 22:35:23 WARN RowBasedKeyValueBatch: Calling spill() on RowBasedKeyValueBatch. Will not spill but return 0.\n",
            "25/06/01 22:35:24 WARN RowBasedKeyValueBatch: Calling spill() on RowBasedKeyValueBatch. Will not spill but return 0.\n"
          ]
        },
        {
          "name": "stderr",
          "output_type": "stream",
          "text": [
            "[Stage 105:===============================================================================================================================>                                                                                                                                                                                                                                                                                                                                                           (18 + 4) / 67][Stage 110:>                                                                                                                                                                                                                                                                                                                                                                                                                                                                                            (0 + 0) / 1]\r"
          ]
        },
        {
          "name": "stdout",
          "output_type": "stream",
          "text": [
            "25/06/01 22:35:25 WARN RowBasedKeyValueBatch: Calling spill() on RowBasedKeyValueBatch. Will not spill but return 0.\n",
            "25/06/01 22:35:25 WARN RowBasedKeyValueBatch: Calling spill() on RowBasedKeyValueBatch. Will not spill but return 0.\n",
            "25/06/01 22:35:25 WARN RowBasedKeyValueBatch: Calling spill() on RowBasedKeyValueBatch. Will not spill but return 0.\n"
          ]
        },
        {
          "name": "stderr",
          "output_type": "stream",
          "text": [
            "[Stage 105:======================================================================================================================================>                                                                                                                                                                                                                                                                                                                                                    (19 + 4) / 67][Stage 110:>                                                                                                                                                                                                                                                                                                                                                                                                                                                                                            (0 + 0) / 1]\r"
          ]
        },
        {
          "name": "stdout",
          "output_type": "stream",
          "text": [
            "25/06/01 22:35:25 WARN RowBasedKeyValueBatch: Calling spill() on RowBasedKeyValueBatch. Will not spill but return 0.\n"
          ]
        },
        {
          "name": "stderr",
          "output_type": "stream",
          "text": [
            "[Stage 105:===========================================================================================================================================================>                                                                                                                                                                                                                                                                                                                               (22 + 4) / 67][Stage 110:>                                                                                                                                                                                                                                                                                                                                                                                                                                                                                            (0 + 0) / 1]\r"
          ]
        },
        {
          "name": "stdout",
          "output_type": "stream",
          "text": [
            "25/06/01 22:35:26 WARN RowBasedKeyValueBatch: Calling spill() on RowBasedKeyValueBatch. Will not spill but return 0.\n",
            "25/06/01 22:35:27 WARN RowBasedKeyValueBatch: Calling spill() on RowBasedKeyValueBatch. Will not spill but return 0.\n",
            "25/06/01 22:35:27 WARN RowBasedKeyValueBatch: Calling spill() on RowBasedKeyValueBatch. Will not spill but return 0.\n"
          ]
        },
        {
          "name": "stderr",
          "output_type": "stream",
          "text": [
            "[Stage 105:===================================================================================================================================================================>                                                                                                                                                                                                                                                                                                                       (23 + 4) / 67][Stage 110:>                                                                                                                                                                                                                                                                                                                                                                                                                                                                                            (0 + 0) / 1]\r"
          ]
        },
        {
          "name": "stdout",
          "output_type": "stream",
          "text": [
            "25/06/01 22:35:27 WARN RowBasedKeyValueBatch: Calling spill() on RowBasedKeyValueBatch. Will not spill but return 0.\n"
          ]
        },
        {
          "name": "stderr",
          "output_type": "stream",
          "text": [
            "[Stage 105:========================================================================================================================================================================================>                                                                                                                                                                                                                                                                                                  (26 + 4) / 67][Stage 110:>                                                                                                                                                                                                                                                                                                                                                                                                                                                                                            (0 + 0) / 1]\r"
          ]
        },
        {
          "name": "stdout",
          "output_type": "stream",
          "text": [
            "25/06/01 22:35:28 WARN RowBasedKeyValueBatch: Calling spill() on RowBasedKeyValueBatch. Will not spill but return 0.\n",
            "25/06/01 22:35:28 WARN RowBasedKeyValueBatch: Calling spill() on RowBasedKeyValueBatch. Will not spill but return 0.\n",
            "25/06/01 22:35:29 WARN RowBasedKeyValueBatch: Calling spill() on RowBasedKeyValueBatch. Will not spill but return 0.\n"
          ]
        },
        {
          "name": "stderr",
          "output_type": "stream",
          "text": [
            "[Stage 105:===============================================================================================================================================================================================>                                                                                                                                                                                                                                                                                           (27 + 4) / 67][Stage 110:>                                                                                                                                                                                                                                                                                                                                                                                                                                                                                            (0 + 0) / 1]\r"
          ]
        },
        {
          "name": "stdout",
          "output_type": "stream",
          "text": [
            "25/06/01 22:35:29 WARN RowBasedKeyValueBatch: Calling spill() on RowBasedKeyValueBatch. Will not spill but return 0.\n"
          ]
        },
        {
          "name": "stderr",
          "output_type": "stream",
          "text": [
            "[Stage 105:====================================================================================================================================================================================================================>                                                                                                                                                                                                                                                                      (30 + 4) / 67][Stage 110:>                                                                                                                                                                                                                                                                                                                                                                                                                                                                                            (0 + 0) / 1]\r"
          ]
        },
        {
          "name": "stdout",
          "output_type": "stream",
          "text": [
            "25/06/01 22:35:30 WARN RowBasedKeyValueBatch: Calling spill() on RowBasedKeyValueBatch. Will not spill but return 0.\n",
            "25/06/01 22:35:30 WARN RowBasedKeyValueBatch: Calling spill() on RowBasedKeyValueBatch. Will not spill but return 0.\n",
            "25/06/01 22:35:30 WARN RowBasedKeyValueBatch: Calling spill() on RowBasedKeyValueBatch. Will not spill but return 0.\n"
          ]
        },
        {
          "name": "stderr",
          "output_type": "stream",
          "text": [
            "[Stage 105:===========================================================================================================================================================================================================================>                                                                                                                                                                                                                                                               (31 + 4) / 67][Stage 110:>                                                                                                                                                                                                                                                                                                                                                                                                                                                                                            (0 + 0) / 1]\r"
          ]
        },
        {
          "name": "stdout",
          "output_type": "stream",
          "text": [
            "25/06/01 22:35:31 WARN RowBasedKeyValueBatch: Calling spill() on RowBasedKeyValueBatch. Will not spill but return 0.\n"
          ]
        },
        {
          "name": "stderr",
          "output_type": "stream",
          "text": [
            "[Stage 105:=================================================================================================================================================================================================================================================>                                                                                                                                                                                                                                         (34 + 4) / 67][Stage 110:>                                                                                                                                                                                                                                                                                                                                                                                                                                                                                            (0 + 0) / 1]\r"
          ]
        },
        {
          "name": "stdout",
          "output_type": "stream",
          "text": [
            "25/06/01 22:35:32 WARN RowBasedKeyValueBatch: Calling spill() on RowBasedKeyValueBatch. Will not spill but return 0.\n",
            "25/06/01 22:35:32 WARN RowBasedKeyValueBatch: Calling spill() on RowBasedKeyValueBatch. Will not spill but return 0.\n",
            "25/06/01 22:35:32 WARN RowBasedKeyValueBatch: Calling spill() on RowBasedKeyValueBatch. Will not spill but return 0.\n"
          ]
        },
        {
          "name": "stderr",
          "output_type": "stream",
          "text": [
            "[Stage 105:========================================================================================================================================================================================================================================================>                                                                                                                                                                                                                                  (35 + 4) / 67][Stage 110:>                                                                                                                                                                                                                                                                                                                                                                                                                                                                                            (0 + 0) / 1]\r"
          ]
        },
        {
          "name": "stdout",
          "output_type": "stream",
          "text": [
            "25/06/01 22:35:32 WARN RowBasedKeyValueBatch: Calling spill() on RowBasedKeyValueBatch. Will not spill but return 0.\n"
          ]
        },
        {
          "name": "stderr",
          "output_type": "stream",
          "text": [
            "[Stage 105:=============================================================================================================================================================================================================================================================================>                                                                                                                                                                                                             (38 + 4) / 67][Stage 110:>                                                                                                                                                                                                                                                                                                                                                                                                                                                                                            (0 + 0) / 1]\r"
          ]
        },
        {
          "name": "stdout",
          "output_type": "stream",
          "text": [
            "25/06/01 22:35:33 WARN RowBasedKeyValueBatch: Calling spill() on RowBasedKeyValueBatch. Will not spill but return 0.\n"
          ]
        },
        {
          "name": "stderr",
          "output_type": "stream",
          "text": [
            "[Stage 105:====================================================================================================================================================================================================================================================================================>                                                                                                                                                                                                      (39 + 4) / 67][Stage 110:>                                                                                                                                                                                                                                                                                                                                                                                                                                                                                            (0 + 0) / 1]"
          ]
        },
        {
          "name": "stdout",
          "output_type": "stream",
          "text": [
            "25/06/01 22:35:34 WARN RowBasedKeyValueBatch: Calling spill() on RowBasedKeyValueBatch. Will not spill but return 0.\n",
            "25/06/01 22:35:34 WARN RowBasedKeyValueBatch: Calling spill() on RowBasedKeyValueBatch. Will not spill but return 0.\n"
          ]
        },
        {
          "name": "stderr",
          "output_type": "stream",
          "text": [
            "]\r"
          ]
        },
        {
          "name": "stdout",
          "output_type": "stream",
          "text": [
            "25/06/01 22:35:34 WARN RowBasedKeyValueBatch: Calling spill() on RowBasedKeyValueBatch. Will not spill but return 0.\n"
          ]
        },
        {
          "name": "stderr",
          "output_type": "stream",
          "text": [
            "[Stage 105:===========================================================================================================================================================================================================================================================================================>                                                                                                                                                                                               (40 + 4) / 67][Stage 110:>                                                                                                                                                                                                                                                                                                                                                                                                                                                                                            (0 + 0) / 1]\r"
          ]
        },
        {
          "name": "stdout",
          "output_type": "stream",
          "text": [
            "25/06/01 22:35:35 WARN RowBasedKeyValueBatch: Calling spill() on RowBasedKeyValueBatch. Will not spill but return 0.\n"
          ]
        },
        {
          "name": "stderr",
          "output_type": "stream",
          "text": [
            "[Stage 105:================================================================================================================================================================================================================================================================================================================>                                                                                                                                                                          (43 + 4) / 67][Stage 110:>                                                                                                                                                                                                                                                                                                                                                                                                                                                                                            (0 + 0) / 1]\r"
          ]
        },
        {
          "name": "stdout",
          "output_type": "stream",
          "text": [
            "25/06/01 22:35:35 WARN RowBasedKeyValueBatch: Calling spill() on RowBasedKeyValueBatch. Will not spill but return 0.\n",
            "25/06/01 22:35:36 WARN RowBasedKeyValueBatch: Calling spill() on RowBasedKeyValueBatch. Will not spill but return 0.\n",
            "25/06/01 22:35:36 WARN RowBasedKeyValueBatch: Calling spill() on RowBasedKeyValueBatch. Will not spill but return 0.\n"
          ]
        },
        {
          "name": "stderr",
          "output_type": "stream",
          "text": [
            "[Stage 105:===============================================================================================================================================================================================================================================================================================================================>                                                                                                                                                           (45 + 4) / 67][Stage 110:>                                                                                                                                                                                                                                                                                                                                                                                                                                                                                            (0 + 0) / 1]\r"
          ]
        },
        {
          "name": "stdout",
          "output_type": "stream",
          "text": [
            "25/06/01 22:35:37 WARN RowBasedKeyValueBatch: Calling spill() on RowBasedKeyValueBatch. Will not spill but return 0.\n"
          ]
        },
        {
          "name": "stderr",
          "output_type": "stream",
          "text": [
            "[Stage 105:=============================================================================================================================================================================================================================================================================================================================================>                                                                                                                                             (47 + 4) / 67][Stage 110:>                                                                                                                                                                                                                                                                                                                                                                                                                                                                                            (0 + 0) / 1]\r"
          ]
        },
        {
          "name": "stdout",
          "output_type": "stream",
          "text": [
            "25/06/01 22:35:37 WARN RowBasedKeyValueBatch: Calling spill() on RowBasedKeyValueBatch. Will not spill but return 0.\n",
            "25/06/01 22:35:37 WARN RowBasedKeyValueBatch: Calling spill() on RowBasedKeyValueBatch. Will not spill but return 0.\n",
            "25/06/01 22:35:37 WARN RowBasedKeyValueBatch: Calling spill() on RowBasedKeyValueBatch. Will not spill but return 0.\n"
          ]
        },
        {
          "name": "stderr",
          "output_type": "stream",
          "text": [
            "[Stage 105:===========================================================================================================================================================================================================================================================================================================================================================>                                                                                                                               (49 + 4) / 67][Stage 110:>                                                                                                                                                                                                                                                                                                                                                                                                                                                                                            (0 + 0) / 1]\r"
          ]
        },
        {
          "name": "stdout",
          "output_type": "stream",
          "text": [
            "25/06/01 22:35:39 WARN RowBasedKeyValueBatch: Calling spill() on RowBasedKeyValueBatch. Will not spill but return 0.\n"
          ]
        },
        {
          "name": "stderr",
          "output_type": "stream",
          "text": [
            "[Stage 105:=========================================================================================================================================================================================================================================================================================================================================================================>                                                                                                                 (51 + 4) / 67][Stage 110:>                                                                                                                                                                                                                                                                                                                                                                                                                                                                                            (0 + 0) / 1]\r"
          ]
        },
        {
          "name": "stdout",
          "output_type": "stream",
          "text": [
            "25/06/01 22:35:39 WARN RowBasedKeyValueBatch: Calling spill() on RowBasedKeyValueBatch. Will not spill but return 0.\n",
            "25/06/01 22:35:39 WARN RowBasedKeyValueBatch: Calling spill() on RowBasedKeyValueBatch. Will not spill but return 0.\n",
            "25/06/01 22:35:39 WARN RowBasedKeyValueBatch: Calling spill() on RowBasedKeyValueBatch. Will not spill but return 0.\n"
          ]
        },
        {
          "name": "stderr",
          "output_type": "stream",
          "text": [
            "[Stage 105:==============================================================================================================================================================================================================================================================================================================================================================================================>                                                                                            (54 + 4) / 67][Stage 110:>                                                                                                                                                                                                                                                                                                                                                                                                                                                                                            (0 + 0) / 1]\r"
          ]
        },
        {
          "name": "stdout",
          "output_type": "stream",
          "text": [
            "25/06/01 22:35:40 WARN RowBasedKeyValueBatch: Calling spill() on RowBasedKeyValueBatch. Will not spill but return 0.\n",
            "25/06/01 22:35:40 WARN RowBasedKeyValueBatch: Calling spill() on RowBasedKeyValueBatch. Will not spill but return 0.\n"
          ]
        },
        {
          "name": "stderr",
          "output_type": "stream",
          "text": [
            "[Stage 105:=====================================================================================================================================================================================================================================================================================================================================================================================================>                                                                                     (55 + 4) / 67][Stage 110:>                                                                                                                                                                                                                                                                                                                                                                                                                                                                                            (0 + 0) / 1]\r"
          ]
        },
        {
          "name": "stdout",
          "output_type": "stream",
          "text": [
            "25/06/01 22:35:41 WARN RowBasedKeyValueBatch: Calling spill() on RowBasedKeyValueBatch. Will not spill but return 0.\n",
            "25/06/01 22:35:41 WARN RowBasedKeyValueBatch: Calling spill() on RowBasedKeyValueBatch. Will not spill but return 0.\n"
          ]
        },
        {
          "name": "stderr",
          "output_type": "stream",
          "text": [
            "[Stage 105:===========================================================================================================================================================================================================================================================================================================================================================================================================================>                                                               (58 + 4) / 67][Stage 110:>                                                                                                                                                                                                                                                                                                                                                                                                                                                                                            (0 + 0) / 1]\r"
          ]
        },
        {
          "name": "stdout",
          "output_type": "stream",
          "text": [
            "25/06/01 22:35:42 WARN RowBasedKeyValueBatch: Calling spill() on RowBasedKeyValueBatch. Will not spill but return 0.\n",
            "25/06/01 22:35:42 WARN RowBasedKeyValueBatch: Calling spill() on RowBasedKeyValueBatch. Will not spill but return 0.\n"
          ]
        },
        {
          "name": "stderr",
          "output_type": "stream",
          "text": [
            "[Stage 105:==================================================================================================================================================================================================================================================================================================================================================================================================================================>                                                        (59 + 4) / 67][Stage 110:>                                                                                                                                                                                                                                                                                                                                                                                                                                                                                            (0 + 0) / 1]\r"
          ]
        },
        {
          "name": "stdout",
          "output_type": "stream",
          "text": [
            "25/06/01 22:35:42 WARN RowBasedKeyValueBatch: Calling spill() on RowBasedKeyValueBatch. Will not spill but return 0.\n",
            "25/06/01 22:35:43 WARN RowBasedKeyValueBatch: Calling spill() on RowBasedKeyValueBatch. Will not spill but return 0.\n"
          ]
        },
        {
          "name": "stderr",
          "output_type": "stream",
          "text": [
            "[Stage 105:================================================================================================================================================================================================================================================================================================================================================================================================================================================>                                          (61 + 4) / 67][Stage 110:>                                                                                                                                                                                                                                                                                                                                                                                                                                                                                            (0 + 0) / 1]\r"
          ]
        },
        {
          "name": "stdout",
          "output_type": "stream",
          "text": [
            "25/06/01 22:35:44 WARN RowBasedKeyValueBatch: Calling spill() on RowBasedKeyValueBatch. Will not spill but return 0.\n",
            "25/06/01 22:35:44 WARN RowBasedKeyValueBatch: Calling spill() on RowBasedKeyValueBatch. Will not spill but return 0.\n"
          ]
        },
        {
          "name": "stderr",
          "output_type": "stream",
          "text": [
            "[Stage 105:==============================================================================================================================================================================================================================================================================================================================================================================================================================================================>                            (63 + 4) / 67][Stage 110:>                                                                                                                                                                                                                                                                                                                                                                                                                                                                                            (0 + 0) / 1]\r"
          ]
        },
        {
          "name": "stdout",
          "output_type": "stream",
          "text": [
            "25/06/01 22:35:44 WARN RowBasedKeyValueBatch: Calling spill() on RowBasedKeyValueBatch. Will not spill but return 0.\n"
          ]
        },
        {
          "name": "stderr",
          "output_type": "stream",
          "text": [
            "                                                                                                                                                                                                                                                                                                                                                                                                                                                                                                                                                                                                                                                                                                                                                                                                                                                                                                                                                                                                                                        \r"
          ]
        },
        {
          "name": "stdout",
          "output_type": "stream",
          "text": [
            "+------+------+\n",
            "|target| count|\n",
            "+------+------+\n",
            "|     1|615124|\n",
            "|     0|101924|\n",
            "+------+------+\n",
            "\n"
          ]
        }
      ],
      "source": [
        "# Verifique a nova distribuição\n",
        "df_sample.groupBy(\"target\").count().show()"
      ]
    },
    {
      "cell_type": "markdown",
      "metadata": {
        "id": "2R3cygzozRd-"
      },
      "source": [
        "#### *Considerações sobre público e a target*\n",
        "\n",
        "1.   *Target desbalanceada* -> Há uma quantidade bem maior de clientes que continuaram ativos (1), que os clientes churn. Dessa forma, na hora de criar o modelo, é interessante utilizar pesos para balancear a target.\n",
        "2.   *Mesmo cliente pode aparecer mais de uma vez na base* -> estamos capturando o comportamente desse cliente no mes, é necessário trazer as features sobre a transação e logs, mostrando o comportamento diferente em cada mes, e como isso impacta na target (se ele será churn ou não)\n",
        "3.   *Horizonte do público em 2016* -> a target deve ser o cliente ativo ou nao, informação que é possivel de encontrar apenas na base de members, e portanto, temos apenas informações de 2016\n"
      ]
    },
    {
      "cell_type": "markdown",
      "metadata": {
        "id": "wLPRTSz5yDkI"
      },
      "source": [
        "# Feature Engineering\n",
        "- Criação de novas features"
      ]
    },
    {
      "cell_type": "markdown",
      "metadata": {
        "id": "UXK92PS0yR14"
      },
      "source": [
        "#### **Transações:**\n",
        "\n",
        "*variaveis uteis existentes:*\n",
        "- is_auto_renew -> seria um indicativo de que o cliente talvez nao renove o plano?\n",
        "- payment_plan_days -> indicando quanto tempo o cliente tem para renovar o plano\n",
        "- actual_amount_paid -> mostrando o quanto o cliente esta pagando, se for muito pode trazer indicios de cancelamento\n",
        "- membership_expire_date -> transformar em quanto tempo para finalização do plano\n",
        "- is_canceled -> indicando se o plano foi cancelado ou nao -> pode indicar que o cliente cancelou e no mes seguinte a assinatura nao estara mais ativa\n",
        "\n"
      ]
    },
    {
      "cell_type": "code",
      "execution_count": 12,
      "metadata": {
        "id": "_Oo-53JzFmCC"
      },
      "outputs": [],
      "source": [
        "df_transactions=df_transactions.filter(F.year(F.col('safra'))=='2016')"
      ]
    },
    {
      "cell_type": "code",
      "execution_count": null,
      "metadata": {
        "colab": {
          "base_uri": "https://localhost:8080/"
        },
        "id": "OyyIBMzr5Vvx",
        "outputId": "eb94d2d7-6979-43cb-a5c5-aac580eb50c3"
      },
      "outputs": [
        {
          "name": "stdout",
          "output_type": "stream",
          "text": [
            "+--------------------+-----+\n",
            "|               chave|count|\n",
            "+--------------------+-----+\n",
            "|++5BmBHS2ebe4Whfg...|    1|\n",
            "|++3UnufK0Ka+brv8d...|    1|\n",
            "|++4yteQFM9k0Gjq5f...|    1|\n",
            "|++8XaEDast796K/DQ...|    1|\n",
            "|+++snpr7pmobhLKUg...|    1|\n",
            "+--------------------+-----+\n",
            "only showing top 5 rows\n",
            "\n"
          ]
        }
      ],
      "source": [
        "df_transactions.withColumn('chave', F.concat(F.col('msno'), F.lit('_'), F.col('safra'))).groupBy('chave').count().orderBy(F.desc('count')).show(5)"
      ]
    },
    {
      "cell_type": "code",
      "execution_count": 13,
      "metadata": {
        "id": "_m9RjlnL5Dz8"
      },
      "outputs": [],
      "source": [
        "df_sample = df_sample.withColumn('chave', F.concat(F.col('msno'), F.lit('_'), F.col('safra')))\n",
        "df_sample = df_sample.join(df_transactions.withColumn('chave', F.concat(F.col('msno'), F.lit('_'), F.col('safra'))).select('chave', 'is_auto_renew', 'payment_plan_days', 'actual_amount_paid', 'membership_expire_date', 'is_cancel'),\n",
        "                     on='chave', how='left')"
      ]
    },
    {
      "cell_type": "code",
      "execution_count": 41,
      "metadata": {
        "colab": {
          "base_uri": "https://localhost:8080/"
        },
        "id": "CHY3tCTsDdI2",
        "outputId": "2b9bd0fb-b327-45fa-c1a1-666e3b2f4fc5"
      },
      "outputs": [
        {
          "name": "stderr",
          "output_type": "stream",
          "text": [
            "[Stage 152:>                                                                                                                                                                                                                                                                                                                                                                                                                                                                                                                                                                                                                                                                                                                                                                                                                                                                                                                                                                                                                (0 + 1) / 1]\r"
          ]
        },
        {
          "name": "stdout",
          "output_type": "stream",
          "text": [
            "+-------------------------------------------------------+--------------------------------------------+----+---+-------------+--------------+----------------------+----------+------+-------------+-----------------+------------------+----------------------+---------+\n",
            "|chave                                                  |msno                                        |city|bd |gender       |registered_via|registration_init_time|safra     |target|is_auto_renew|payment_plan_days|actual_amount_paid|membership_expire_date|is_cancel|\n",
            "+-------------------------------------------------------+--------------------------------------------+----+---+-------------+--------------+----------------------+----------+------+-------------+-----------------+------------------+----------------------+---------+\n",
            "|++0nOC7BmrUTtcSboRORfg6ZXTajnBDt1f/SEgH6ONo=_2016-03-01|++0nOC7BmrUTtcSboRORfg6ZXTajnBDt1f/SEgH6ONo=|13  |25 |male         |9             |2010-02-03            |2016-03-01|1     |null         |null             |null              |null                  |null     |\n",
            "|++9l7+WGOZ96gNp0TDXxHAydOlXYE0CiuqWFTxA6zZI=_2016-06-01|++9l7+WGOZ96gNp0TDXxHAydOlXYE0CiuqWFTxA6zZI=|13  |25 |female       |9             |2011-07-21            |2016-06-01|1     |null         |null             |null              |null                  |null     |\n",
            "|++FojTWzKjhz7uxsZXEN3KBpxSmSvPr2j9KEuLzVAm4=_2016-04-01|++FojTWzKjhz7uxsZXEN3KBpxSmSvPr2j9KEuLzVAm4=|13  |23 |male         |3             |2013-02-10            |2016-04-01|1     |1            |30.0             |149.0             |2016-05-08            |0        |\n",
            "|++M4G6SSlhINyHbCMt5KVjPdbDAZkaJ0a51FF8lGr04=_2016-08-01|++M4G6SSlhINyHbCMt5KVjPdbDAZkaJ0a51FF8lGr04=|1   |0  |nao_informado|7             |2015-11-17            |2016-08-01|1     |1            |30.0             |99.0              |2016-09-17            |0        |\n",
            "|++OvJH5FmfZ5CRrYfmbQEk7tJwCZhsJnkWbxClRaUpw=_2016-05-01|++OvJH5FmfZ5CRrYfmbQEk7tJwCZhsJnkWbxClRaUpw=|1   |0  |nao_informado|7             |2013-11-14            |2016-05-01|1     |1            |30.0             |149.0             |2016-06-13            |0        |\n",
            "+-------------------------------------------------------+--------------------------------------------+----+---+-------------+--------------+----------------------+----------+------+-------------+-----------------+------------------+----------------------+---------+\n",
            "only showing top 5 rows\n",
            "\n"
          ]
        },
        {
          "name": "stderr",
          "output_type": "stream",
          "text": [
            "                                                                                                                                                                                                                                                                                                                                                                                                                                                                                                                                                                                                                                                                                                                                                                                                                                                                                                                                                                                                                                        \r"
          ]
        }
      ],
      "source": [
        "df_sample.show(5, truncate=False)"
      ]
    },
    {
      "cell_type": "markdown",
      "metadata": {
        "id": "Rwlpet485eU3"
      },
      "source": [
        "#### **Logs:**\n",
        "Utilizar a ultima data do mês para buscar as estatisticas sobre o uso, porque dessa forma é possível compreender como foi o comportamento do cliente ao longo do mês com o uso da plataforma.\n",
        "\n",
        "*variáveis:*\n",
        "1. num_25\n",
        "2. num_50\n",
        "3. num_75\n",
        "4. num_985\n",
        "5. num_100\n",
        "6. num_unq\n",
        "7. total_secs"
      ]
    },
    {
      "cell_type": "code",
      "execution_count": 14,
      "metadata": {
        "id": "OaZJ0Z2yFz7J"
      },
      "outputs": [],
      "source": [
        "df_logs=df_logs.filter(F.year(F.col('safra'))=='2016')"
      ]
    },
    {
      "cell_type": "code",
      "execution_count": null,
      "metadata": {
        "colab": {
          "base_uri": "https://localhost:8080/"
        },
        "id": "n3yGjoV5CInl",
        "outputId": "5ba64177-d115-4a3a-b7cf-accd9b58d4fb"
      },
      "outputs": [
        {
          "name": "stdout",
          "output_type": "stream",
          "text": [
            "+--------------------+-----+\n",
            "|               chave|count|\n",
            "+--------------------+-----+\n",
            "|T2gUhlBhFMoSFA9jF...|    1|\n",
            "|W9RH26bbCJ/jz8erW...|    1|\n",
            "|53QW6B70J23X2UCvx...|    1|\n",
            "|WppnGUHAP0pV79RBZ...|    1|\n",
            "|SwlrSivYHoKF9V5wm...|    1|\n",
            "+--------------------+-----+\n",
            "only showing top 5 rows\n",
            "\n"
          ]
        }
      ],
      "source": [
        "df_logs.withColumn('chave', F.concat(F.col('msno'), F.lit('_'), F.col('safra'))).groupBy('chave').count().orderBy(F.desc('count')).show(5)"
      ]
    },
    {
      "cell_type": "code",
      "execution_count": 15,
      "metadata": {
        "id": "72yi3YLnHRJX"
      },
      "outputs": [],
      "source": [
        "df_sample = df_sample.join(df_logs.withColumn('chave', F.concat(F.col('msno'), F.lit('_'), F.col('safra'))).select('chave', 'num_25', 'num_50', 'num_75', 'num_985', 'num_100', 'num_unq', 'total_secs'),\n",
        "                     on='chave', how='left')"
      ]
    },
    {
      "cell_type": "code",
      "execution_count": null,
      "metadata": {
        "colab": {
          "base_uri": "https://localhost:8080/"
        },
        "id": "9VzwvdsVIugR",
        "outputId": "9dfbc2d2-4cc4-4faa-ce0a-787cd6d12750"
      },
      "outputs": [
        {
          "name": "stdout",
          "output_type": "stream",
          "text": [
            "+-------------------------------------------------------+--------------------------------------------+----+---+-------------+--------------+----------------------+----------+------+-------------+-----------------+------------------+----------------------+---------+------+------+------+-------+-------+-------+------------------+\n",
            "|chave                                                  |msno                                        |city|bd |gender       |registered_via|registration_init_time|safra     |target|is_auto_renew|payment_plan_days|actual_amount_paid|membership_expire_date|is_cancel|num_25|num_50|num_75|num_985|num_100|num_unq|total_secs        |\n",
            "+-------------------------------------------------------+--------------------------------------------+----+---+-------------+--------------+----------------------+----------+------+-------------+-----------------+------------------+----------------------+---------+------+------+------+-------+-------+-------+------------------+\n",
            "|+++l/EXNMLTijfLBa8p2TUVVVp2aFGSuUI/h7mLmthw=_2016-08-01|+++l/EXNMLTijfLBa8p2TUVVVp2aFGSuUI/h7mLmthw=|15  |26 |male         |9             |2010-11-18            |2016-08-01|1     |1            |30.0             |149.0             |2016-10-19            |0        |77.0  |27.0  |35.0  |29.0   |709.0  |747.0  |185178.16899999997|\n",
            "|+++snpr7pmobhLKUgSHTv/mpkqgBT0tQJ0zQj6qKrqc=_2016-01-01|+++snpr7pmobhLKUgSHTv/mpkqgBT0tQJ0zQj6qKrqc=|1   |0  |nao_informado|7             |2014-09-27            |2016-01-01|1     |1            |30.0             |149.0             |2016-02-26            |0        |113.0 |48.0  |33.0  |45.0   |774.0  |845.0  |217292.24200000006|\n",
            "|+++snpr7pmobhLKUgSHTv/mpkqgBT0tQJ0zQj6qKrqc=_2016-05-01|+++snpr7pmobhLKUgSHTv/mpkqgBT0tQJ0zQj6qKrqc=|1   |0  |nao_informado|7             |2014-09-27            |2016-05-01|1     |1            |30.0             |149.0             |2016-06-26            |0        |194.0 |47.0  |32.0  |34.0   |947.0  |1088.0 |250853.736        |\n",
            "|++/ZHqwUNa7U21Qz+zqteiXlZapxey86l6eEorrak/g=_2016-01-01|++/ZHqwUNa7U21Qz+zqteiXlZapxey86l6eEorrak/g=|13  |39 |male         |3             |2014-04-21            |2016-01-01|1     |1            |30.0             |149.0             |2016-03-04            |0        |13.0  |3.0   |4.0   |3.0    |110.0  |118.0  |28960.859         |\n",
            "|++/gTmVgKUbNFmsTiriZdWV1uZIrLXCUiEWN0fEU6BM=_2016-01-01|++/gTmVgKUbNFmsTiriZdWV1uZIrLXCUiEWN0fEU6BM=|1   |0  |nao_informado|7             |2015-11-11            |2016-01-01|0     |1            |30.0             |149.0             |2016-02-10            |0        |6.0   |2.0   |1.0   |0.0    |55.0   |53.0   |13400.342         |\n",
            "+-------------------------------------------------------+--------------------------------------------+----+---+-------------+--------------+----------------------+----------+------+-------------+-----------------+------------------+----------------------+---------+------+------+------+-------+-------+-------+------------------+\n",
            "only showing top 5 rows\n",
            "\n"
          ]
        }
      ],
      "source": [
        "df_sample.show(5, truncate=False)"
      ]
    },
    {
      "cell_type": "markdown",
      "metadata": {
        "id": "op6drVogi248"
      },
      "source": [
        "# Seleção das features\n",
        "- Análise das variaveis categóricas e numericas em relacao à target\n",
        "- Selecao de feature a partir de feature importance usando RandomForest *\n",
        "\n",
        "\n",
        "\n",
        "\n",
        "\n",
        "\n",
        "\n",
        "\n",
        "\n",
        "\n",
        "\n",
        "\n",
        "\n",
        "\n",
        "\n",
        "\n"
      ]
    },
    {
      "cell_type": "code",
      "execution_count": 16,
      "metadata": {
        "colab": {
          "base_uri": "https://localhost:8080/",
          "height": 1000
        },
        "id": "xigEropblhyF",
        "outputId": "83540040-81ff-4a64-e615-5f5042ba0435"
      },
      "outputs": [
        {
          "name": "stderr",
          "output_type": "stream",
          "text": [
            "                                                                                                                                                                                                                                                                                                                                                                                                                                                                                                                                                                                                                                                                                                                                                                                                                                                                                                                                                                                                                                        ]\r"
          ]
        }
      ],
      "source": [
        "master_pd = df_sample.toPandas()"
      ]
    },
    {
      "cell_type": "code",
      "execution_count": 17,
      "metadata": {},
      "outputs": [
        {
          "data": {
            "text/html": [
              "<div>\n",
              "<style scoped>\n",
              "    .dataframe tbody tr th:only-of-type {\n",
              "        vertical-align: middle;\n",
              "    }\n",
              "\n",
              "    .dataframe tbody tr th {\n",
              "        vertical-align: top;\n",
              "    }\n",
              "\n",
              "    .dataframe thead th {\n",
              "        text-align: right;\n",
              "    }\n",
              "</style>\n",
              "<table border=\"1\" class=\"dataframe\">\n",
              "  <thead>\n",
              "    <tr style=\"text-align: right;\">\n",
              "      <th></th>\n",
              "      <th>city</th>\n",
              "      <th>bd</th>\n",
              "      <th>registered_via</th>\n",
              "      <th>target</th>\n",
              "      <th>is_auto_renew</th>\n",
              "      <th>payment_plan_days</th>\n",
              "      <th>actual_amount_paid</th>\n",
              "      <th>is_cancel</th>\n",
              "      <th>num_25</th>\n",
              "      <th>num_50</th>\n",
              "      <th>num_75</th>\n",
              "      <th>num_985</th>\n",
              "      <th>num_100</th>\n",
              "      <th>num_unq</th>\n",
              "      <th>total_secs</th>\n",
              "    </tr>\n",
              "  </thead>\n",
              "  <tbody>\n",
              "    <tr>\n",
              "      <th>count</th>\n",
              "      <td>717048.000000</td>\n",
              "      <td>717048.000000</td>\n",
              "      <td>717048.000000</td>\n",
              "      <td>717048.000000</td>\n",
              "      <td>580387.000000</td>\n",
              "      <td>580387.000000</td>\n",
              "      <td>580387.000000</td>\n",
              "      <td>580387.000000</td>\n",
              "      <td>643152.000000</td>\n",
              "      <td>643152.000000</td>\n",
              "      <td>643152.000000</td>\n",
              "      <td>643152.000000</td>\n",
              "      <td>643152.000000</td>\n",
              "      <td>643152.000000</td>\n",
              "      <td>6.431520e+05</td>\n",
              "    </tr>\n",
              "    <tr>\n",
              "      <th>mean</th>\n",
              "      <td>6.782888</td>\n",
              "      <td>15.943955</td>\n",
              "      <td>6.949747</td>\n",
              "      <td>0.857856</td>\n",
              "      <td>0.843518</td>\n",
              "      <td>32.793963</td>\n",
              "      <td>144.337671</td>\n",
              "      <td>0.022955</td>\n",
              "      <td>115.198948</td>\n",
              "      <td>28.692409</td>\n",
              "      <td>17.670038</td>\n",
              "      <td>19.485226</td>\n",
              "      <td>535.981463</td>\n",
              "      <td>529.478553</td>\n",
              "      <td>-5.162719e+11</td>\n",
              "    </tr>\n",
              "    <tr>\n",
              "      <th>std</th>\n",
              "      <td>6.558636</td>\n",
              "      <td>16.148424</td>\n",
              "      <td>2.048782</td>\n",
              "      <td>0.349198</td>\n",
              "      <td>0.363312</td>\n",
              "      <td>26.165173</td>\n",
              "      <td>112.855437</td>\n",
              "      <td>0.149761</td>\n",
              "      <td>181.206039</td>\n",
              "      <td>42.956058</td>\n",
              "      <td>23.975141</td>\n",
              "      <td>37.140524</td>\n",
              "      <td>750.193823</td>\n",
              "      <td>611.298541</td>\n",
              "      <td>8.132227e+13</td>\n",
              "    </tr>\n",
              "    <tr>\n",
              "      <th>min</th>\n",
              "      <td>1.000000</td>\n",
              "      <td>0.000000</td>\n",
              "      <td>3.000000</td>\n",
              "      <td>0.000000</td>\n",
              "      <td>0.000000</td>\n",
              "      <td>1.000000</td>\n",
              "      <td>0.000000</td>\n",
              "      <td>0.000000</td>\n",
              "      <td>0.000000</td>\n",
              "      <td>0.000000</td>\n",
              "      <td>0.000000</td>\n",
              "      <td>0.000000</td>\n",
              "      <td>0.000000</td>\n",
              "      <td>1.000000</td>\n",
              "      <td>-2.767012e+16</td>\n",
              "    </tr>\n",
              "    <tr>\n",
              "      <th>25%</th>\n",
              "      <td>1.000000</td>\n",
              "      <td>0.000000</td>\n",
              "      <td>7.000000</td>\n",
              "      <td>1.000000</td>\n",
              "      <td>1.000000</td>\n",
              "      <td>30.000000</td>\n",
              "      <td>99.000000</td>\n",
              "      <td>0.000000</td>\n",
              "      <td>20.000000</td>\n",
              "      <td>5.000000</td>\n",
              "      <td>3.000000</td>\n",
              "      <td>3.000000</td>\n",
              "      <td>106.000000</td>\n",
              "      <td>129.000000</td>\n",
              "      <td>3.050205e+04</td>\n",
              "    </tr>\n",
              "    <tr>\n",
              "      <th>50%</th>\n",
              "      <td>5.000000</td>\n",
              "      <td>19.000000</td>\n",
              "      <td>7.000000</td>\n",
              "      <td>1.000000</td>\n",
              "      <td>1.000000</td>\n",
              "      <td>30.000000</td>\n",
              "      <td>149.000000</td>\n",
              "      <td>0.000000</td>\n",
              "      <td>58.000000</td>\n",
              "      <td>16.000000</td>\n",
              "      <td>10.000000</td>\n",
              "      <td>11.000000</td>\n",
              "      <td>304.000000</td>\n",
              "      <td>341.000000</td>\n",
              "      <td>8.373863e+04</td>\n",
              "    </tr>\n",
              "    <tr>\n",
              "      <th>75%</th>\n",
              "      <td>13.000000</td>\n",
              "      <td>29.000000</td>\n",
              "      <td>9.000000</td>\n",
              "      <td>1.000000</td>\n",
              "      <td>1.000000</td>\n",
              "      <td>30.000000</td>\n",
              "      <td>149.000000</td>\n",
              "      <td>0.000000</td>\n",
              "      <td>141.000000</td>\n",
              "      <td>36.000000</td>\n",
              "      <td>23.000000</td>\n",
              "      <td>24.000000</td>\n",
              "      <td>667.000000</td>\n",
              "      <td>707.000000</td>\n",
              "      <td>1.795824e+05</td>\n",
              "    </tr>\n",
              "    <tr>\n",
              "      <th>max</th>\n",
              "      <td>22.000000</td>\n",
              "      <td>51.000000</td>\n",
              "      <td>13.000000</td>\n",
              "      <td>1.000000</td>\n",
              "      <td>1.000000</td>\n",
              "      <td>450.000000</td>\n",
              "      <td>2000.000000</td>\n",
              "      <td>1.000000</td>\n",
              "      <td>21286.000000</td>\n",
              "      <td>5929.000000</td>\n",
              "      <td>3216.000000</td>\n",
              "      <td>4136.000000</td>\n",
              "      <td>35868.000000</td>\n",
              "      <td>20236.000000</td>\n",
              "      <td>3.765841e+06</td>\n",
              "    </tr>\n",
              "  </tbody>\n",
              "</table>\n",
              "</div>"
            ],
            "text/plain": [
              "                city             bd  registered_via         target  \\\n",
              "count  717048.000000  717048.000000   717048.000000  717048.000000   \n",
              "mean        6.782888      15.943955        6.949747       0.857856   \n",
              "std         6.558636      16.148424        2.048782       0.349198   \n",
              "min         1.000000       0.000000        3.000000       0.000000   \n",
              "25%         1.000000       0.000000        7.000000       1.000000   \n",
              "50%         5.000000      19.000000        7.000000       1.000000   \n",
              "75%        13.000000      29.000000        9.000000       1.000000   \n",
              "max        22.000000      51.000000       13.000000       1.000000   \n",
              "\n",
              "       is_auto_renew  payment_plan_days  actual_amount_paid      is_cancel  \\\n",
              "count  580387.000000      580387.000000       580387.000000  580387.000000   \n",
              "mean        0.843518          32.793963          144.337671       0.022955   \n",
              "std         0.363312          26.165173          112.855437       0.149761   \n",
              "min         0.000000           1.000000            0.000000       0.000000   \n",
              "25%         1.000000          30.000000           99.000000       0.000000   \n",
              "50%         1.000000          30.000000          149.000000       0.000000   \n",
              "75%         1.000000          30.000000          149.000000       0.000000   \n",
              "max         1.000000         450.000000         2000.000000       1.000000   \n",
              "\n",
              "              num_25         num_50         num_75        num_985  \\\n",
              "count  643152.000000  643152.000000  643152.000000  643152.000000   \n",
              "mean      115.198948      28.692409      17.670038      19.485226   \n",
              "std       181.206039      42.956058      23.975141      37.140524   \n",
              "min         0.000000       0.000000       0.000000       0.000000   \n",
              "25%        20.000000       5.000000       3.000000       3.000000   \n",
              "50%        58.000000      16.000000      10.000000      11.000000   \n",
              "75%       141.000000      36.000000      23.000000      24.000000   \n",
              "max     21286.000000    5929.000000    3216.000000    4136.000000   \n",
              "\n",
              "             num_100        num_unq    total_secs  \n",
              "count  643152.000000  643152.000000  6.431520e+05  \n",
              "mean      535.981463     529.478553 -5.162719e+11  \n",
              "std       750.193823     611.298541  8.132227e+13  \n",
              "min         0.000000       1.000000 -2.767012e+16  \n",
              "25%       106.000000     129.000000  3.050205e+04  \n",
              "50%       304.000000     341.000000  8.373863e+04  \n",
              "75%       667.000000     707.000000  1.795824e+05  \n",
              "max     35868.000000   20236.000000  3.765841e+06  "
            ]
          },
          "execution_count": 17,
          "metadata": {},
          "output_type": "execute_result"
        }
      ],
      "source": [
        "master_pd.describe()"
      ]
    },
    {
      "cell_type": "code",
      "execution_count": 20,
      "metadata": {},
      "outputs": [
        {
          "name": "stderr",
          "output_type": "stream",
          "text": [
            "                                                                                                                                                                                                                                                                                                                                                                                                                                                                                                                                                                                                                                                                                                                                                                                                                                                                                                                                                                                                                                        \r"
          ]
        },
        {
          "name": "stdout",
          "output_type": "stream",
          "text": [
            "+--------------------------------------------+-----------------+-----------------+---------------+------------------+-------------+----------------+----------------------+---------+----------+\n",
            "|msno                                        |payment_method_id|payment_plan_days|plan_list_price|actual_amount_paid|is_auto_renew|transaction_date|membership_expire_date|is_cancel|safra     |\n",
            "+--------------------------------------------+-----------------+-----------------+---------------+------------------+-------------+----------------+----------------------+---------+----------+\n",
            "|++0nOC7BmrUTtcSboRORfg6ZXTajnBDt1f/SEgH6ONo=|32.0             |270.0            |894.0          |894.0             |0            |2016-06-09      |2017-03-15            |0        |2016-06-01|\n",
            "+--------------------------------------------+-----------------+-----------------+---------------+------------------+-------------+----------------+----------------------+---------+----------+\n",
            "\n"
          ]
        }
      ],
      "source": [
        "df_transactions.filter(F.col('msno')=='++0nOC7BmrUTtcSboRORfg6ZXTajnBDt1f/SEgH6ONo=').show(100, truncate=False)"
      ]
    },
    {
      "cell_type": "markdown",
      "metadata": {},
      "source": [
        "cliente que tem assinatura anual, nao tera transações nos meses vigentes, por conta disso, fica como nulo com o cruzamento com df_transações. \n",
        "\n",
        "para isso, é possível criar um df com apenas os clientes com plano anual, e trazer as informações da ultima transação quando o cliente fez a assinatura anual"
      ]
    },
    {
      "cell_type": "code",
      "execution_count": 24,
      "metadata": {},
      "outputs": [
        {
          "name": "stderr",
          "output_type": "stream",
          "text": [
            "[Stage 26:======================================================================================================================================================================================================================================================================================================================================================================================================================================================================================================================================================================================================================================================================================================================================================================================================================================================================>                                                                                                                                           (6 + 1) / 7]\r"
          ]
        },
        {
          "name": "stdout",
          "output_type": "stream",
          "text": [
            "+-----------------+--------+\n",
            "|payment_plan_days|count   |\n",
            "+-----------------+--------+\n",
            "|70.0             |239     |\n",
            "|0.0              |3       |\n",
            "|7.0              |345510  |\n",
            "|365.0            |96      |\n",
            "|410.0            |11180   |\n",
            "|180.0            |25456   |\n",
            "|35.0             |362     |\n",
            "|395.0            |1536    |\n",
            "|80.0             |138     |\n",
            "|120.0            |9339    |\n",
            "|1.0              |970     |\n",
            "|270.0            |171     |\n",
            "|230.0            |27      |\n",
            "|400.0            |397     |\n",
            "|21.0             |54      |\n",
            "|14.0             |356     |\n",
            "|60.0             |2309    |\n",
            "|66.0             |172     |\n",
            "|3.0              |25      |\n",
            "|195.0            |45394   |\n",
            "|2.0              |38      |\n",
            "|200.0            |3447    |\n",
            "|10.0             |9462    |\n",
            "|30.0             |10273014|\n",
            "|99.0             |331     |\n",
            "|100.0            |15977   |\n",
            "|360.0            |1946    |\n",
            "|90.0             |9727    |\n",
            "|450.0            |15      |\n",
            "|110.0            |155     |\n",
            "|415.0            |1       |\n",
            "+-----------------+--------+\n",
            "\n"
          ]
        },
        {
          "name": "stderr",
          "output_type": "stream",
          "text": [
            "                                                                                                                                                                                                                                                                                                                                                                                                                                                                                                                                                                                                                                                                                                                                                                                                                                                                                                                                                                                                                                        \r"
          ]
        }
      ],
      "source": [
        "df_transactions.groupBy('payment_plan_days').count().show(100, truncate=False)"
      ]
    },
    {
      "cell_type": "code",
      "execution_count": 22,
      "metadata": {},
      "outputs": [
        {
          "data": {
            "text/html": [
              "<div>\n",
              "<style scoped>\n",
              "    .dataframe tbody tr th:only-of-type {\n",
              "        vertical-align: middle;\n",
              "    }\n",
              "\n",
              "    .dataframe tbody tr th {\n",
              "        vertical-align: top;\n",
              "    }\n",
              "\n",
              "    .dataframe thead th {\n",
              "        text-align: right;\n",
              "    }\n",
              "</style>\n",
              "<table border=\"1\" class=\"dataframe\">\n",
              "  <thead>\n",
              "    <tr style=\"text-align: right;\">\n",
              "      <th></th>\n",
              "      <th>msno</th>\n",
              "      <th>safra</th>\n",
              "      <th>target</th>\n",
              "      <th>is_auto_renew</th>\n",
              "      <th>payment_plan_days</th>\n",
              "      <th>actual_amount_paid</th>\n",
              "      <th>membership_expire_date</th>\n",
              "      <th>is_cancel</th>\n",
              "    </tr>\n",
              "  </thead>\n",
              "  <tbody>\n",
              "    <tr>\n",
              "      <th>0</th>\n",
              "      <td>++0nOC7BmrUTtcSboRORfg6ZXTajnBDt1f/SEgH6ONo=</td>\n",
              "      <td>2016-03-01</td>\n",
              "      <td>1</td>\n",
              "      <td>NaN</td>\n",
              "      <td>NaN</td>\n",
              "      <td>NaN</td>\n",
              "      <td>None</td>\n",
              "      <td>NaN</td>\n",
              "    </tr>\n",
              "    <tr>\n",
              "      <th>2</th>\n",
              "      <td>++c3oe/WQWwDmbbk3jy+E5nz71Qj3dwrqeZAQGD+XaM=</td>\n",
              "      <td>2016-02-01</td>\n",
              "      <td>1</td>\n",
              "      <td>NaN</td>\n",
              "      <td>NaN</td>\n",
              "      <td>NaN</td>\n",
              "      <td>None</td>\n",
              "      <td>NaN</td>\n",
              "    </tr>\n",
              "    <tr>\n",
              "      <th>3</th>\n",
              "      <td>++n1QG1Xys48ql+FvrZCbjM2gFqqMQEUfYNV+9rnqrg=</td>\n",
              "      <td>2016-05-01</td>\n",
              "      <td>1</td>\n",
              "      <td>NaN</td>\n",
              "      <td>NaN</td>\n",
              "      <td>NaN</td>\n",
              "      <td>None</td>\n",
              "      <td>NaN</td>\n",
              "    </tr>\n",
              "    <tr>\n",
              "      <th>8</th>\n",
              "      <td>+/Jwy03uSBPFIJFd5M7P/orFmrS5udM5N4ODxdQc914=</td>\n",
              "      <td>2016-05-01</td>\n",
              "      <td>0</td>\n",
              "      <td>NaN</td>\n",
              "      <td>NaN</td>\n",
              "      <td>NaN</td>\n",
              "      <td>None</td>\n",
              "      <td>NaN</td>\n",
              "    </tr>\n",
              "    <tr>\n",
              "      <th>21</th>\n",
              "      <td>+2JT6OQeSjvVbITvYTgxqm+3S9Y81RCiTNOPHx3XS2o=</td>\n",
              "      <td>2016-01-01</td>\n",
              "      <td>1</td>\n",
              "      <td>NaN</td>\n",
              "      <td>NaN</td>\n",
              "      <td>NaN</td>\n",
              "      <td>None</td>\n",
              "      <td>NaN</td>\n",
              "    </tr>\n",
              "    <tr>\n",
              "      <th>25</th>\n",
              "      <td>+2SiTFKd4yXm+Ou6SgcTGvrbZ8Qumo/VLBsqhBGI2NU=</td>\n",
              "      <td>2016-02-01</td>\n",
              "      <td>0</td>\n",
              "      <td>NaN</td>\n",
              "      <td>NaN</td>\n",
              "      <td>NaN</td>\n",
              "      <td>None</td>\n",
              "      <td>NaN</td>\n",
              "    </tr>\n",
              "    <tr>\n",
              "      <th>26</th>\n",
              "      <td>+2kDvb9XKRF1S19k4EBrjGPnrPvXO042q/qhAain3Qw=</td>\n",
              "      <td>2016-06-01</td>\n",
              "      <td>1</td>\n",
              "      <td>NaN</td>\n",
              "      <td>NaN</td>\n",
              "      <td>NaN</td>\n",
              "      <td>None</td>\n",
              "      <td>NaN</td>\n",
              "    </tr>\n",
              "    <tr>\n",
              "      <th>29</th>\n",
              "      <td>+3MwNNjQl9q+NRcsVXeQ2nE8vRmCyZdnIWWscHbj+jI=</td>\n",
              "      <td>2016-01-01</td>\n",
              "      <td>1</td>\n",
              "      <td>NaN</td>\n",
              "      <td>NaN</td>\n",
              "      <td>NaN</td>\n",
              "      <td>None</td>\n",
              "      <td>NaN</td>\n",
              "    </tr>\n",
              "    <tr>\n",
              "      <th>38</th>\n",
              "      <td>+5L8RV3+Ti08Um+nVijbxJXdmdnOLRVsnFbH8/SFqQM=</td>\n",
              "      <td>2016-06-01</td>\n",
              "      <td>1</td>\n",
              "      <td>NaN</td>\n",
              "      <td>NaN</td>\n",
              "      <td>NaN</td>\n",
              "      <td>None</td>\n",
              "      <td>NaN</td>\n",
              "    </tr>\n",
              "    <tr>\n",
              "      <th>40</th>\n",
              "      <td>+5V3YUE1yIfuaVbTYz83Fho5B2ZnjJCmzhGji1DdP/w=</td>\n",
              "      <td>2016-08-01</td>\n",
              "      <td>1</td>\n",
              "      <td>NaN</td>\n",
              "      <td>NaN</td>\n",
              "      <td>NaN</td>\n",
              "      <td>None</td>\n",
              "      <td>NaN</td>\n",
              "    </tr>\n",
              "  </tbody>\n",
              "</table>\n",
              "</div>"
            ],
            "text/plain": [
              "                                            msno       safra  target  \\\n",
              "0   ++0nOC7BmrUTtcSboRORfg6ZXTajnBDt1f/SEgH6ONo=  2016-03-01       1   \n",
              "2   ++c3oe/WQWwDmbbk3jy+E5nz71Qj3dwrqeZAQGD+XaM=  2016-02-01       1   \n",
              "3   ++n1QG1Xys48ql+FvrZCbjM2gFqqMQEUfYNV+9rnqrg=  2016-05-01       1   \n",
              "8   +/Jwy03uSBPFIJFd5M7P/orFmrS5udM5N4ODxdQc914=  2016-05-01       0   \n",
              "21  +2JT6OQeSjvVbITvYTgxqm+3S9Y81RCiTNOPHx3XS2o=  2016-01-01       1   \n",
              "25  +2SiTFKd4yXm+Ou6SgcTGvrbZ8Qumo/VLBsqhBGI2NU=  2016-02-01       0   \n",
              "26  +2kDvb9XKRF1S19k4EBrjGPnrPvXO042q/qhAain3Qw=  2016-06-01       1   \n",
              "29  +3MwNNjQl9q+NRcsVXeQ2nE8vRmCyZdnIWWscHbj+jI=  2016-01-01       1   \n",
              "38  +5L8RV3+Ti08Um+nVijbxJXdmdnOLRVsnFbH8/SFqQM=  2016-06-01       1   \n",
              "40  +5V3YUE1yIfuaVbTYz83Fho5B2ZnjJCmzhGji1DdP/w=  2016-08-01       1   \n",
              "\n",
              "    is_auto_renew  payment_plan_days  actual_amount_paid  \\\n",
              "0             NaN                NaN                 NaN   \n",
              "2             NaN                NaN                 NaN   \n",
              "3             NaN                NaN                 NaN   \n",
              "8             NaN                NaN                 NaN   \n",
              "21            NaN                NaN                 NaN   \n",
              "25            NaN                NaN                 NaN   \n",
              "26            NaN                NaN                 NaN   \n",
              "29            NaN                NaN                 NaN   \n",
              "38            NaN                NaN                 NaN   \n",
              "40            NaN                NaN                 NaN   \n",
              "\n",
              "   membership_expire_date  is_cancel  \n",
              "0                    None        NaN  \n",
              "2                    None        NaN  \n",
              "3                    None        NaN  \n",
              "8                    None        NaN  \n",
              "21                   None        NaN  \n",
              "25                   None        NaN  \n",
              "26                   None        NaN  \n",
              "29                   None        NaN  \n",
              "38                   None        NaN  \n",
              "40                   None        NaN  "
            ]
          },
          "execution_count": 22,
          "metadata": {},
          "output_type": "execute_result"
        }
      ],
      "source": [
        "master_pd[master_pd['is_cancel'].isna()][['msno', 'safra', 'target', 'is_auto_renew', 'payment_plan_days', 'actual_amount_paid', 'membership_expire_date', 'is_cancel']].head(10)"
      ]
    },
    {
      "cell_type": "code",
      "execution_count": 25,
      "metadata": {
        "id": "QRv05EvfJfxy"
      },
      "outputs": [],
      "source": [
        "# Separação das features categorias e numericas\n",
        "cat_cols = ['city', 'gender', 'registered_via', 'is_auto_renew','is_cancel']\n",
        "num_cols = ['bd', 'payment_plan_days', 'actual_amount_paid', 'num_25', 'num_50', 'num_75', 'num_985', 'num_100', 'num_unq', 'total_secs']"
      ]
    },
    {
      "cell_type": "code",
      "execution_count": 26,
      "metadata": {
        "colab": {
          "base_uri": "https://localhost:8080/",
          "height": 222
        },
        "id": "YvZB8fMeKfDQ",
        "outputId": "82605ac0-6769-4515-ebb0-3eabd80749cd"
      },
      "outputs": [
        {
          "data": {
            "image/png": "[encoded data removed]",
            "text/plain": [
              "<Figure size 1000x500 with 1 Axes>"
            ]
          },
          "metadata": {},
          "output_type": "display_data"
        },
        {
          "data": {
            "image/png": "[encoded data removed]",
            "text/plain": [
              "<Figure size 1000x500 with 1 Axes>"
            ]
          },
          "metadata": {},
          "output_type": "display_data"
        },
        {
          "data": {
            "image/png": "[encoded data removed]",
            "text/plain": [
              "<Figure size 1000x500 with 1 Axes>"
            ]
          },
          "metadata": {},
          "output_type": "display_data"
        },
        {
          "data": {
            "image/png": "[encoded data removed]",
            "text/plain": [
              "<Figure size 1000x500 with 1 Axes>"
            ]
          },
          "metadata": {},
          "output_type": "display_data"
        },
        {
          "data": {
            "image/png": "[encoded data removed]",
            "text/plain": [
              "<Figure size 1000x500 with 1 Axes>"
            ]
          },
          "metadata": {},
          "output_type": "display_data"
        }
      ],
      "source": [
        "for i in cat_cols:\n",
        "  master_pd[i] = master_pd[i].astype('string')\n",
        "  plt.figure(figsize=(10, 5))\n",
        "  sns.countplot(data=master_pd, x=i, hue='target')\n",
        "  plt.xlabel(i)\n",
        "  plt.ylabel('Count')\n",
        "  plt.legend(title='Target', loc='upper right')\n",
        "  plt.show()"
      ]
    },
    {
      "cell_type": "code",
      "execution_count": 27,
      "metadata": {
        "id": "LiCYuUeZKyT6"
      },
      "outputs": [
        {
          "data": {
            "image/png": "[encoded data removed]",
            "text/plain": [
              "<Figure size 1000x500 with 1 Axes>"
            ]
          },
          "metadata": {},
          "output_type": "display_data"
        },
        {
          "data": {
            "image/png": "[encoded data removed]",
            "text/plain": [
              "<Figure size 1000x500 with 1 Axes>"
            ]
          },
          "metadata": {},
          "output_type": "display_data"
        },
        {
          "data": {
            "image/png": "[encoded data removed]",
            "text/plain": [
              "<Figure size 1000x500 with 1 Axes>"
            ]
          },
          "metadata": {},
          "output_type": "display_data"
        },
        {
          "data": {
            "image/png": "[encoded data removed]",
            "text/plain": [
              "<Figure size 1000x500 with 1 Axes>"
            ]
          },
          "metadata": {},
          "output_type": "display_data"
        },
        {
          "data": {
            "image/png": "[encoded data removed]",
            "text/plain": [
              "<Figure size 1000x500 with 1 Axes>"
            ]
          },
          "metadata": {},
          "output_type": "display_data"
        },
        {
          "data": {
            "image/png": "[encoded data removed]",
            "text/plain": [
              "<Figure size 1000x500 with 1 Axes>"
            ]
          },
          "metadata": {},
          "output_type": "display_data"
        },
        {
          "data": {
            "image/png": "[encoded data removed]",
            "text/plain": [
              "<Figure size 1000x500 with 1 Axes>"
            ]
          },
          "metadata": {},
          "output_type": "display_data"
        },
        {
          "data": {
            "image/png": "[encoded data removed]",
            "text/plain": [
              "<Figure size 1000x500 with 1 Axes>"
            ]
          },
          "metadata": {},
          "output_type": "display_data"
        },
        {
          "data": {
            "image/png": "[encoded data removed]",
            "text/plain": [
              "<Figure size 1000x500 with 1 Axes>"
            ]
          },
          "metadata": {},
          "output_type": "display_data"
        },
        {
          "data": {
            "image/png": "[encoded data removed]",
            "text/plain": [
              "<Figure size 1000x500 with 1 Axes>"
            ]
          },
          "metadata": {},
          "output_type": "display_data"
        }
      ],
      "source": [
        "for i in num_cols:\n",
        "  plt.figure(figsize=(10, 5))\n",
        "  sns.boxplot(data=master_pd, x='target', y=i)\n",
        "  plt.xlabel('Target')\n",
        "  plt.ylabel(i)\n",
        "  plt.show()"
      ]
    },
    {
      "cell_type": "code",
      "execution_count": 30,
      "metadata": {},
      "outputs": [
        {
          "data": {
            "image/png": "[encoded data removed]",
            "text/plain": [
              "<Figure size 1200x600 with 1 Axes>"
            ]
          },
          "metadata": {},
          "output_type": "display_data"
        }
      ],
      "source": [
        "# Analise temporal da variável target\n",
        "plt.figure(figsize=(12, 6))\n",
        "sns.lineplot(data=master_pd.groupby(['safra', 'target']).size().reset_index(name='count'),\n",
        "             x='safra', y='count', hue='target', marker='o')\n",
        "plt.xlabel('Safra')\n",
        "plt.ylabel('Count')\n",
        "plt.title('Distribuição da Target por Safra')\n",
        "plt.xticks(rotation=45)\n",
        "plt.legend(title='Target', loc='upper right')\n",
        "plt.show()"
      ]
    },
    {
      "cell_type": "markdown",
      "metadata": {
        "id": "LnBPVrCUljgQ"
      },
      "source": [
        "# Modelo\n",
        "* Avaliação de dois algoritmos para realizar a classificação binária: XGBoost e regressão logística\n",
        "*"
      ]
    },
    {
      "cell_type": "code",
      "execution_count": null,
      "metadata": {},
      "outputs": [],
      "source": [
        "from sklearn.model_selection import train_test_split\n",
        "from category_encoders import TargetEncoder\n",
        "\n",
        "# Separação dos dados de treino, teste e oot\n",
        "X_oot = master_pd[master_pd['safra'] == '2016-09-01'].drop(columns=['msno', 'safra', 'target']) \n",
        "y_oot = master_pd[master_pd['safra'] == '2016-09-01']['target']\n",
        "\n",
        "X = master_pd[master_pd['safra'] != '2016-09-01'].drop(columns=['msno', 'safra', 'target']) \n",
        "y = master_pd[master_pd['safra'] != '2016-09-01']['target']\n",
        "X_train, X_test, y_train, y_test = train_test_split(X, y, test_size=0.2, random_state=42, stratify=y)\n",
        "# X_test, X_valid, y_test, y_valid = train_test_split(X_test, y_valid, test_size=0.5, random_state=42, stratify=y)\n",
        "\n",
        "# Pré-processamento dos dados\n",
        "cat_features = ['city', 'gender', 'registered_via', 'is_auto_renew', 'is_cancel']\n",
        "encoder = TargetEncoder(cols=cat_features)\n",
        "X_train[cat_features] = encoder.fit_transform(X_train[cat_features], y_train)\n",
        "X_test[cat_features] = encoder.transform(X_test[cat_features])"
      ]
    },
    {
      "cell_type": "code",
      "execution_count": null,
      "metadata": {},
      "outputs": [],
      "source": [
        "from sklearn.metrics import (\n",
        "    accuracy_score, precision_score, recall_score, f1_score,\n",
        "    roc_auc_score, average_precision_score, confusion_matrix, log_loss\n",
        ")\n",
        "\n",
        "def get_binary_classification_metrics(y_true, y_pred, y_pred_proba=None):\n",
        "    \"\"\"\n",
        "    Retorna um DataFrame pandas com as principais métricas de avaliação para classificação binária.\n",
        "\n",
        "    Parâmetros:\n",
        "    - y_true: array-like, rótulos verdadeiros\n",
        "    - y_pred: array-like, predições do modelo (0 ou 1)\n",
        "    - y_pred_proba: array-like, probabilidades da classe positiva (opcional, recomendado)\n",
        "\n",
        "    Retorno:\n",
        "    - metrics_df: pandas.DataFrame com as métricas\n",
        "    \"\"\"\n",
        "\n",
        "    metrics = {\n",
        "        'accuracy': accuracy_score(y_true, y_pred),\n",
        "        'precision': precision_score(y_true, y_pred, zero_division=0),\n",
        "        'recall': recall_score(y_true, y_pred, zero_division=0),\n",
        "        'f1_score': f1_score(y_true, y_pred, zero_division=0)\n",
        "    }\n",
        "    metrics['roc_auc'] = roc_auc_score(y_true, y_pred_proba)\n",
        "    metrics['pr_auc'] = average_precision_score(y_true, y_pred_proba)\n",
        "    metrics['log_loss'] = log_loss(y_true, y_pred_proba)\n",
        "\n",
        "    # Matriz de confusão (TP, FP, TN, FN)\n",
        "    cm = confusion_matrix(y_true, y_pred)\n",
        "    metrics['tn'] = cm[0, 0]\n",
        "    metrics['fp'] = cm[0, 1]\n",
        "    metrics['fn'] = cm[1, 0]\n",
        "    metrics['tp'] = cm[1, 1]\n",
        "\n",
        "    # Retorna em DataFrame para fácil visualização\n",
        "    metrics_df = pd.DataFrame([metrics])\n",
        "    return metrics_df\n"
      ]
    },
    {
      "cell_type": "code",
      "execution_count": null,
      "metadata": {
        "id": "WY2A9h1WPeHR"
      },
      "outputs": [],
      "source": [
        "from sklearn.model_selection import train_test_split\n",
        "from sklearn.metrics import classification_report, roc_auc_score, f1_score, accuracy_score, precision_score, recall_score, confusion_matrix\n",
        "import xgboost as xgb\n",
        "from hyperopt import fmin, tpe, hp, Trials, STATUS_OK\n",
        "\n",
        "# Espaço de busca de hiperparâmetros\n",
        "space = {\n",
        "    'max_depth': hp.choice('max_depth', range(3, 10)),\n",
        "    'learning_rate': hp.uniform('learning_rate', 0.01, 0.3),\n",
        "    'n_estimators': hp.choice('n_estimators', range(50, 300)),\n",
        "    'gamma': hp.uniform('gamma', 0, 5),\n",
        "    'subsample': hp.uniform('subsample', 0.5, 1),\n",
        "    'colsample_bytree': hp.uniform('colsample_bytree', 0.5, 1),\n",
        "    'reg_alpha': hp.uniform('reg_alpha', 0, 1),\n",
        "    'reg_lambda': hp.uniform('reg_lambda', 0, 1)\n",
        "}\n",
        "\n",
        "def objective(params):\n",
        "    model = xgb.XGBClassifier(\n",
        "        objective='binary:logistic',\n",
        "        use_label_encoder=False,\n",
        "        eval_metric='logloss',\n",
        "        **params\n",
        "    )\n",
        "    model.fit(X_train, y_train)\n",
        "    preds = model.predict_proba(X_test)[:, 1]\n",
        "    f1_score = f1_score(y_test, preds)\n",
        "    return {'loss': -f1_score, 'status': STATUS_OK}\n",
        "\n",
        "trials = Trials()\n",
        "best = fmin(fn=objective, \n",
        "            space=space, \n",
        "            algo=tpe.suggest, \n",
        "            max_evals=30, \n",
        "            trials=trials, \n",
        "            rstate=np.random.RandomState(42))\n",
        "\n",
        "print(\"Melhores hiperparâmetros encontrados:\", best)\n",
        "\n",
        "# Treinando o modelo final com os melhores hiperparâmetros\n",
        "best_params = {\n",
        "    'max_depth': range(3, 10)[best['max_depth']],\n",
        "    'learning_rate': best['learning_rate'],\n",
        "    'n_estimators': range(50, 300)[best['n_estimators']],\n",
        "    'gamma': best['gamma'],\n",
        "    'subsample': best['subsample'],\n",
        "    'colsample_bytree': best['colsample_bytree'],\n",
        "    'reg_alpha': best['reg_alpha'],\n",
        "    'reg_lambda': best['reg_lambda']\n",
        "}\n",
        "\n",
        "final_model = xgb.XGBClassifier(\n",
        "    objective='binary:logistic',\n",
        "    use_label_encoder=False,\n",
        "    eval_metric='logloss',\n",
        "    **best_params\n",
        ")\n",
        "final_model.fit(X_train, y_train)\n",
        "y_pred = final_model.predict(X_test)"
      ]
    }
  ],
  "metadata": {
    "colab": {
      "authorship_tag": "ABX9TyPA4xVZGnrrbol/bMEE00XY",
      "include_colab_link": true,
      "mount_file_id": "174GONhf-U3hwHwKEOrDc3g1VmQt9N6mO",
      "provenance": []
    },
    "kernelspec": {
      "display_name": "azureml_py38",
      "language": "python",
      "name": "python3"
    },
    "language_info": {
      "codemirror_mode": {
        "name": "ipython",
        "version": 3
      },
      "file_extension": ".py",
      "mimetype": "text/x-python",
      "name": "python",
      "nbconvert_exporter": "python",
      "pygments_lexer": "ipython3",
      "version": "3.10.11"
    }
  },
  "nbformat": 4,
  "nbformat_minor": 0
}
