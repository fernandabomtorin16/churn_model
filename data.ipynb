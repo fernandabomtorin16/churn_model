{
  "cells": [
    {
      "cell_type": "markdown",
      "metadata": {
        "id": "view-in-github",
        "colab_type": "text"
      },
      "source": [
        "<a href=\"https://colab.research.google.com/github/fernandabomtorin16/churn_model/blob/main/data.ipynb\" target=\"_parent\"><img src=\"https://colab.research.google.com/assets/colab-badge.svg\" alt=\"Open In Colab\"/></a>"
      ]
    },
    {
      "cell_type": "code",
      "execution_count": 8,
      "metadata": {
        "colab": {
          "base_uri": "https://localhost:8080/"
        },
        "id": "zb771hDKFw_S",
        "outputId": "b32b0fa1-8bec-439f-800e-253b157e6938"
      },
      "outputs": [
        {
          "output_type": "stream",
          "name": "stdout",
          "text": [
            "\r0% [Working]\r            \rHit:1 https://cloud.r-project.org/bin/linux/ubuntu jammy-cran40/ InRelease\n",
            "\r0% [Connecting to archive.ubuntu.com (185.125.190.82)] [Waiting for headers] [W\r                                                                               \rHit:2 https://developer.download.nvidia.com/compute/cuda/repos/ubuntu2204/x86_64  InRelease\n",
            "\r0% [Connecting to archive.ubuntu.com (185.125.190.82)] [Waiting for headers] [W\r                                                                               \rHit:3 http://security.ubuntu.com/ubuntu jammy-security InRelease\n",
            "Hit:4 https://r2u.stat.illinois.edu/ubuntu jammy InRelease\n",
            "Hit:5 http://archive.ubuntu.com/ubuntu jammy InRelease\n",
            "Hit:6 http://archive.ubuntu.com/ubuntu jammy-updates InRelease\n",
            "Hit:7 http://archive.ubuntu.com/ubuntu jammy-backports InRelease\n",
            "Hit:8 https://ppa.launchpadcontent.net/deadsnakes/ppa/ubuntu jammy InRelease\n",
            "Hit:9 https://ppa.launchpadcontent.net/graphics-drivers/ppa/ubuntu jammy InRelease\n",
            "Hit:10 https://ppa.launchpadcontent.net/ubuntugis/ppa/ubuntu jammy InRelease\n",
            "Reading package lists... Done\n",
            "W: Skipping acquire of configured file 'main/source/Sources' as repository 'https://r2u.stat.illinois.edu/ubuntu jammy InRelease' does not seem to provide it (sources.list entry misspelt?)\n"
          ]
        }
      ],
      "source": [
        "!apt-get update\n",
        "!apt-get install openjdk-8-jdk-headless -qq > /dev/null\n",
        "!pip install -q pyspark"
      ]
    },
    {
      "cell_type": "code",
      "execution_count": 3,
      "metadata": {
        "id": "Yi2MSUKQEML2"
      },
      "outputs": [],
      "source": [
        "import os\n",
        "\n",
        "# Defina as variáveis de ambiente para o Java\n",
        "os.environ[\"JAVA_HOME\"] = \"/usr/lib/jvm/java-8-openjdk-amd64\""
      ]
    },
    {
      "cell_type": "code",
      "execution_count": 9,
      "metadata": {
        "colab": {
          "base_uri": "https://localhost:8080/",
          "height": 222
        },
        "id": "9T6UkKG2uAqT",
        "outputId": "1af85557-fb8e-4357-a3c4-270ebb50e709"
      },
      "outputs": [
        {
          "output_type": "execute_result",
          "data": {
            "text/plain": [
              "<pyspark.sql.session.SparkSession at 0x7bf3cb9b8e90>"
            ],
            "text/html": [
              "\n",
              "            <div>\n",
              "                <p><b>SparkSession - in-memory</b></p>\n",
              "                \n",
              "        <div>\n",
              "            <p><b>SparkContext</b></p>\n",
              "\n",
              "            <p><a href=\"http://866d77ab3225:4040\">Spark UI</a></p>\n",
              "\n",
              "            <dl>\n",
              "              <dt>Version</dt>\n",
              "                <dd><code>v3.5.1</code></dd>\n",
              "              <dt>Master</dt>\n",
              "                <dd><code>local[*]</code></dd>\n",
              "              <dt>AppName</dt>\n",
              "                <dd><code>Colab PySpark Session</code></dd>\n",
              "            </dl>\n",
              "        </div>\n",
              "        \n",
              "            </div>\n",
              "        "
            ]
          },
          "metadata": {},
          "execution_count": 9
        }
      ],
      "source": [
        "import pandas as pd\n",
        "import numpy as np\n",
        "import seaborn as sns\n",
        "import matplotlib.pyplot as plt\n",
        "import pyarrow.parquet as pq\n",
        "import dask.dataframe as dd\n",
        "from pyspark.sql import SparkSession\n",
        "from pyspark.sql import functions as F\n",
        "from pyspark.sql.window import Window\n",
        "from pyspark.sql.types import StructType, StructField, StringType, IntegerType, DoubleType, DateType\n",
        "\n",
        "spark = (\n",
        "    SparkSession.builder\n",
        "    .appName(\"Colab PySpark Session\")\n",
        "    .config(\"spark.driver.memory\", \"4g\")  # Opcional: ajustar a memória\n",
        "    .getOrCreate()\n",
        ")\n",
        "spark"
      ]
    },
    {
      "cell_type": "markdown",
      "metadata": {
        "id": "fihcVVwKH65u"
      },
      "source": [
        "# Extração dos dados e análise exploratória\n",
        "- Loading dos arquivos parquet, referente as bases de dados do problema\n",
        "- Base de transações, membros e logs\n",
        "- Entendimento dos dados disponiveis"
      ]
    },
    {
      "cell_type": "code",
      "execution_count": 10,
      "metadata": {
        "id": "p_sZ_AJmG-8G"
      },
      "outputs": [],
      "source": [
        "# Loading das bases de dados\n",
        "df_transactions = spark.read.parquet(\"/content/drive/MyDrive/Data Master/transactions.parquet\").persist()\n",
        "df_members = spark.read.parquet(\"/content/drive/MyDrive/Data Master/members.parquet\").persist()\n",
        "df_logs = spark.read.parquet(\"/content/drive/MyDrive/Data Master/user_logs.parquet\").persist()"
      ]
    },
    {
      "cell_type": "markdown",
      "metadata": {
        "id": "aUxq1chNdLJF"
      },
      "source": [
        "### Base de transações"
      ]
    },
    {
      "cell_type": "code",
      "execution_count": 11,
      "metadata": {
        "id": "bgHeHhTptrty"
      },
      "outputs": [],
      "source": [
        "# Transformação das colunas de data\n",
        "df_transactions = df_transactions.select(\n",
        "    F.col('msno'),\n",
        "    F.col('payment_method_id').cast(DoubleType()),\n",
        "    F.col('payment_plan_days').cast(DoubleType()),\n",
        "    F.col('plan_list_price').cast(DoubleType()),\n",
        "    F.col('actual_amount_paid').cast(DoubleType()),\n",
        "    F.col('is_auto_renew').cast(IntegerType()),\n",
        "    F.col('transaction_date'),\n",
        "    F.col('membership_expire_date'),\n",
        "    F.col('is_cancel').cast(IntegerType()),\n",
        "    F.col('safra')\n",
        ").withColumn(\n",
        "    'transaction_date',\n",
        "    F.to_date(F.concat(\n",
        "                F.col('transaction_date').substr(1, 4),\n",
        "                F.lit('-'),\n",
        "                F.col('transaction_date').substr(5, 2),\n",
        "                F.lit('-'),\n",
        "                F.col('transaction_date').substr(7, 2)), 'yyyy-MM-dd')\n",
        ").withColumn(\n",
        "    'membership_expire_date',\n",
        "    F.to_date(F.concat(\n",
        "                F.col('membership_expire_date').substr(1, 4),\n",
        "                F.lit('-'),\n",
        "                F.col('membership_expire_date').substr(5, 2),\n",
        "                F.lit('-'),\n",
        "                F.col('membership_expire_date').substr(7, 2)), 'yyyy-MM-dd')\n",
        ").withColumn(\n",
        "    'safra',\n",
        "    F.to_date(\n",
        "        F.concat(\n",
        "            F.col('safra').substr(1, 4),\n",
        "            F.lit('-'),\n",
        "            F.col('safra').substr(5, 2),\n",
        "            F.lit('-'),\n",
        "            F.lit('01')), 'yyyy-MM-dd')\n",
        ")"
      ]
    },
    {
      "cell_type": "code",
      "execution_count": null,
      "metadata": {
        "colab": {
          "base_uri": "https://localhost:8080/"
        },
        "id": "1jBtkKzd-GTF",
        "outputId": "05a91b20-cd96-489d-d400-8997240f3e53"
      },
      "outputs": [
        {
          "name": "stdout",
          "output_type": "stream",
          "text": [
            "+--------------------------------------------+-----------------+-----------------+---------------+------------------+-------------+----------------+----------------------+---------+----------+\n",
            "|msno                                        |payment_method_id|payment_plan_days|plan_list_price|actual_amount_paid|is_auto_renew|transaction_date|membership_expire_date|is_cancel|safra     |\n",
            "+--------------------------------------------+-----------------+-----------------+---------------+------------------+-------------+----------------+----------------------+---------+----------+\n",
            "|+++IZseRRiQS9aaSkH6cMYU6bGDcxUieAi/tH67sC5s=|38.0             |410.0            |1788.0         |1788.0            |0            |2015-11-21      |2017-01-04            |0        |2015-11-01|\n",
            "|+++snpr7pmobhLKUgSHTv/mpkqgBT0tQJ0zQj6qKrqc=|41.0             |30.0             |149.0          |149.0             |1            |2015-05-26      |2015-06-26            |0        |2015-05-01|\n",
            "|+++snpr7pmobhLKUgSHTv/mpkqgBT0tQJ0zQj6qKrqc=|41.0             |30.0             |149.0          |149.0             |1            |2015-09-26      |2015-10-26            |0        |2015-09-01|\n",
            "|++/9R3sX37CjxbY/AaGvbwr3QkwElKBCtSvVzhCBDOk=|41.0             |30.0             |149.0          |149.0             |1            |2016-06-15      |2016-07-15            |0        |2016-06-01|\n",
            "|++/Gw1B9K+XOlB3hLTloeUK2QlCa2m+BJ8TrzGf7djI=|40.0             |31.0             |149.0          |149.0             |1            |2015-01-13      |2015-02-16            |0        |2015-01-01|\n",
            "+--------------------------------------------+-----------------+-----------------+---------------+------------------+-------------+----------------+----------------------+---------+----------+\n",
            "only showing top 5 rows\n",
            "\n"
          ]
        }
      ],
      "source": [
        "df_transactions.show(5, truncate=False)"
      ]
    },
    {
      "cell_type": "code",
      "execution_count": null,
      "metadata": {
        "colab": {
          "base_uri": "https://localhost:8080/"
        },
        "id": "Bb3Qq6SgGykQ",
        "outputId": "fcb4dd65-f314-4d48-ff42-71853384491f"
      },
      "outputs": [
        {
          "name": "stdout",
          "output_type": "stream",
          "text": [
            "+-------+--------------------+------------------+------------------+------------------+------------------+------------------+-------------------+\n",
            "|summary|                msno| payment_method_id| payment_plan_days|   plan_list_price|actual_amount_paid|     is_auto_renew|          is_cancel|\n",
            "+-------+--------------------+------------------+------------------+------------------+------------------+------------------+-------------------+\n",
            "|  count|            20712225|          20712225|          20712225|          20712225|          20712225|          20712225|           20712225|\n",
            "|   mean|                NULL|38.926502005458126|31.428997850303382|140.24088353617248|142.83468555406287|0.8543830998359664|0.03287691206521752|\n",
            "| stddev|                NULL|3.5062855923423513|30.559829808399385|132.27679209056055|133.60944276809502|0.3527217381412334| 0.1783143916048489|\n",
            "|    min|+++FOrTS7ab3tIgIh...|               1.0|               0.0|               0.0|               0.0|                 0|                  0|\n",
            "|    25%|                NULL|              38.0|              30.0|              99.0|              99.0|                 1|                  0|\n",
            "|    50%|                NULL|              41.0|              30.0|             149.0|             149.0|                 1|                  0|\n",
            "|    75%|                NULL|              41.0|              30.0|             149.0|             149.0|                 1|                  0|\n",
            "|    max|zzzyOgMk9MljCerbC...|              41.0|             450.0|            2000.0|            2000.0|                 1|                  1|\n",
            "+-------+--------------------+------------------+------------------+------------------+------------------+------------------+-------------------+\n",
            "\n"
          ]
        }
      ],
      "source": [
        "df_transactions.summary().show()"
      ]
    },
    {
      "cell_type": "code",
      "execution_count": null,
      "metadata": {
        "colab": {
          "base_uri": "https://localhost:8080/"
        },
        "id": "ntFYAIaWDO1l",
        "outputId": "24b38095-d55a-48d9-995f-0c1ec7b20ca6"
      },
      "outputs": [
        {
          "name": "stdout",
          "output_type": "stream",
          "text": [
            "+----------+-------+\n",
            "|     safra|  count|\n",
            "+----------+-------+\n",
            "|2017-02-01| 885566|\n",
            "|2017-01-01| 988576|\n",
            "|2016-12-01| 968547|\n",
            "|2016-11-01|1094941|\n",
            "|2016-10-01|1033898|\n",
            "|2016-09-01| 982640|\n",
            "|2016-08-01| 966450|\n",
            "|2016-07-01| 924032|\n",
            "|2016-06-01| 804729|\n",
            "|2016-05-01| 783956|\n",
            "|2016-04-01| 774169|\n",
            "|2016-03-01| 775469|\n",
            "|2016-02-01| 792300|\n",
            "|2016-01-01| 856716|\n",
            "|2015-12-01| 861107|\n",
            "|2015-11-01| 820345|\n",
            "|2015-10-01| 680465|\n",
            "|2015-09-01| 714610|\n",
            "|2015-08-01| 705975|\n",
            "|2015-07-01| 665280|\n",
            "|2015-06-01| 775737|\n",
            "|2015-05-01| 571552|\n",
            "|2015-04-01| 564582|\n",
            "|2015-03-01| 626488|\n",
            "|2015-02-01| 545303|\n",
            "|2015-01-01| 548792|\n",
            "+----------+-------+\n",
            "\n"
          ]
        }
      ],
      "source": [
        "df_transactions.groupBy('safra').count().orderBy(F.desc('safra')).show(100)"
      ]
    },
    {
      "cell_type": "code",
      "execution_count": null,
      "metadata": {
        "colab": {
          "base_uri": "https://localhost:8080/"
        },
        "id": "oSmMQJekDSKM",
        "outputId": "49912fdd-ae95-4080-a277-0bbb9e07edbf"
      },
      "outputs": [
        {
          "name": "stdout",
          "output_type": "stream",
          "text": [
            "Total de clientes: \n",
            "2363626\n",
            "Total de transações: \n",
            "20712225\n"
          ]
        }
      ],
      "source": [
        "print('Total de clientes: ')\n",
        "print(df_transactions.select(F.countDistinct('msno')).collect()[0][0])\n",
        "print('Total de transações: ')\n",
        "print(df_transactions.count())"
      ]
    },
    {
      "cell_type": "code",
      "execution_count": null,
      "metadata": {
        "colab": {
          "base_uri": "https://localhost:8080/"
        },
        "id": "Or_DsXWEFcoq",
        "outputId": "acf0792f-0d2e-4c3f-b99b-680eea8c5422"
      },
      "outputs": [
        {
          "name": "stdout",
          "output_type": "stream",
          "text": [
            "Média de cancelamentos mensalmente:  0.03374890214137594\n"
          ]
        }
      ],
      "source": [
        "cancelamento = df_transactions.groupBy('safra').agg(\n",
        "    F.mean('is_cancel').alias('percentual_cancelamento')\n",
        ")\n",
        "print('Média de cancelamentos mensalmente: ', cancelamento.agg(F.mean('percentual_cancelamento')).collect()[0][0])"
      ]
    },
    {
      "cell_type": "markdown",
      "metadata": {
        "id": "Z6jkeqW1Po9t"
      },
      "source": [
        "Observações sobre os dados de transacções:\n",
        "- Nenhum valor missing\n",
        "- Transações de 01-2015 à 12-2027\n",
        "- 3,2% das transações foram cancelamento\n",
        "- Em 85% das transações, o cliente esta com renovação automatica acionada"
      ]
    },
    {
      "cell_type": "markdown",
      "metadata": {
        "id": "A6JvORZrdDkj"
      },
      "source": [
        "### Base de membros"
      ]
    },
    {
      "cell_type": "code",
      "execution_count": null,
      "metadata": {
        "id": "esoL5wSidDU-"
      },
      "outputs": [],
      "source": [
        "df_members = df_members.select(\n",
        "    F.col('msno'),\n",
        "    F.col('city').cast(IntegerType()),\n",
        "    F.col('bd').cast(IntegerType()),\n",
        "    F.col('gender'),\n",
        "    F.col('registered_via').cast(IntegerType()),\n",
        "    F.col('registration_init_time'),\n",
        "    F.col('is_ativo').cast(IntegerType()),\n",
        "    F.col('safra')\n",
        ").withColumn(\n",
        "    'safra',\n",
        "    F.to_date(\n",
        "        F.concat(\n",
        "            F.col('safra').substr(1, 4),\n",
        "            F.lit('-'),\n",
        "            F.col('safra').substr(5, 2),\n",
        "            F.lit('-'),\n",
        "            F.lit('01')), 'yyyy-MM-dd')\n",
        ").withColumn(\n",
        "    'registration_init_time',\n",
        "    F.to_date(\n",
        "        F.concat(\n",
        "            F.col('registration_init_time').substr(1, 4),\n",
        "            F.lit('-'),\n",
        "            F.col('registration_init_time').substr(5, 2),\n",
        "            F.lit('-'),\n",
        "            F.col('registration_init_time').substr(7, 2)), 'yyyy-MM-dd')\n",
        ")"
      ]
    },
    {
      "cell_type": "code",
      "execution_count": 8,
      "metadata": {
        "colab": {
          "base_uri": "https://localhost:8080/"
        },
        "id": "UDg-BgJ2eWw9",
        "outputId": "78ece0e2-2b6e-482d-a9b1-0443c6814109"
      },
      "outputs": [
        {
          "output_type": "stream",
          "name": "stdout",
          "text": [
            "+-------+--------------------+-----------------+------------------+--------+------------------+-------------------+\n",
            "|summary|                msno|             city|                bd|  gender|    registered_via|           is_ativo|\n",
            "+-------+--------------------+-----------------+------------------+--------+------------------+-------------------+\n",
            "|  count|            63867246|         63867246|          63867246|25657069|          63867246|           63867246|\n",
            "|   mean|                NULL|4.369941346774214|11.430160210759675|    NULL| 5.455677343594869|0.17603491154135564|\n",
            "| stddev|                NULL|5.807596122789123|19.041318387984273|    NULL|2.4953863289564757| 0.3808498703308826|\n",
            "|    min|+++4vcS9aMH7KWdfh...|                1|             -7168|  female|                -1|                  0|\n",
            "|    25%|                NULL|                1|                 0|    NULL|                 3|                  0|\n",
            "|    50%|                NULL|                1|                 0|    NULL|                 4|                  0|\n",
            "|    75%|                NULL|                5|                24|    NULL|                 9|                  0|\n",
            "|    max|zzzyOgMk9MljCerbC...|               22|              2016|    male|                19|                  1|\n",
            "+-------+--------------------+-----------------+------------------+--------+------------------+-------------------+\n",
            "\n"
          ]
        }
      ],
      "source": [
        "df_members.summary().show()"
      ]
    },
    {
      "cell_type": "code",
      "execution_count": null,
      "metadata": {
        "colab": {
          "base_uri": "https://localhost:8080/"
        },
        "id": "QWvoqk81zVaJ",
        "outputId": "f466190d-aeed-4832-9dbc-163e02e81ad8"
      },
      "outputs": [
        {
          "data": {
            "text/plain": [
              "63867246"
            ]
          },
          "execution_count": 14,
          "metadata": {},
          "output_type": "execute_result"
        }
      ],
      "source": [
        "df_members.count()"
      ]
    },
    {
      "cell_type": "markdown",
      "metadata": {
        "id": "PlSk1fWi_abA"
      },
      "source": [
        "Gender\n",
        "* 40% de missing para gender. Por se tratar de uma quantidade muito grande, crio uma nova categoria para os casos em que nao foi informado o gênero."
      ]
    },
    {
      "cell_type": "code",
      "execution_count": null,
      "metadata": {
        "id": "3lbudW3B2wm9"
      },
      "outputs": [],
      "source": [
        "# Tratamento de missing para gender\n",
        "df_members = df_members.na.fill({'gender': 'nao_informado'})"
      ]
    },
    {
      "cell_type": "code",
      "execution_count": null,
      "metadata": {
        "colab": {
          "base_uri": "https://localhost:8080/"
        },
        "id": "x_exXXa5_S3G",
        "outputId": "0fb56928-8248-4d90-f4c3-922196d264cf"
      },
      "outputs": [
        {
          "name": "stdout",
          "output_type": "stream",
          "text": [
            "+----------+-------+\n",
            "|     safra|  count|\n",
            "+----------+-------+\n",
            "|2016-03-01|4697972|\n",
            "|2016-01-01|4294184|\n",
            "|2016-08-01|5615921|\n",
            "|2016-09-01|5778986|\n",
            "|2016-05-01|5060705|\n",
            "|2016-04-01|4876301|\n",
            "|2016-11-01|6114345|\n",
            "|2016-07-01|5439337|\n",
            "|2016-12-01|6287789|\n",
            "|2016-02-01|4502354|\n",
            "|2016-10-01|5949288|\n",
            "|2016-06-01|5250064|\n",
            "+----------+-------+\n",
            "\n"
          ]
        }
      ],
      "source": [
        "df_members.groupBy('safra').count().show()"
      ]
    },
    {
      "cell_type": "code",
      "execution_count": null,
      "metadata": {
        "colab": {
          "base_uri": "https://localhost:8080/"
        },
        "id": "p8Rjchbdx2Gx",
        "outputId": "0319acbe-b376-42f8-8f55-616a1dc49245"
      },
      "outputs": [
        {
          "data": {
            "text/plain": [
              "3078"
            ]
          },
          "execution_count": 33,
          "metadata": {},
          "output_type": "execute_result"
        }
      ],
      "source": [
        "df_members.filter(\"bd < 0\").count()"
      ]
    },
    {
      "cell_type": "code",
      "execution_count": null,
      "metadata": {
        "colab": {
          "base_uri": "https://localhost:8080/"
        },
        "id": "RiiRniv0BJGl",
        "outputId": "bf2f4104-912b-426d-aa68-417e9e742ca3"
      },
      "outputs": [
        {
          "data": {
            "text/plain": [
              "56654"
            ]
          },
          "execution_count": 51,
          "metadata": {},
          "output_type": "execute_result"
        }
      ],
      "source": [
        "df_members.filter(\"bd > 100\").count()"
      ]
    },
    {
      "cell_type": "code",
      "execution_count": null,
      "metadata": {
        "id": "Gx0i_nEWj_aa"
      },
      "outputs": [],
      "source": [
        "# Separacao de 10 percentiles de bd para analise os valores\n",
        "# df_members = df_members.withColumn(\"bd_quantile\", F.ntile(20).over(Window.orderBy(\"bd\")))"
      ]
    },
    {
      "cell_type": "code",
      "execution_count": null,
      "metadata": {
        "colab": {
          "base_uri": "https://localhost:8080/"
        },
        "id": "R4GlMcW8Ci11",
        "outputId": "aab42d4c-ee3e-499d-b2b0-cda6a091675b"
      },
      "outputs": [
        {
          "name": "stdout",
          "output_type": "stream",
          "text": [
            "+-----------+-------+-------+--------------------+----------+\n",
            "|bd_quantile|min(bd)|max(bd)|             avg(bd)|median(bd)|\n",
            "+-----------+-------+-------+--------------------+----------+\n",
            "|          1|  -7168|      0|-0.33433906511724476|       0.0|\n",
            "|          2|      0|      0|                 0.0|       0.0|\n",
            "|          3|      0|      0|                 0.0|       0.0|\n",
            "|          4|      0|      0|                 0.0|       0.0|\n",
            "|          5|      0|      0|                 0.0|       0.0|\n",
            "|          6|      0|      0|                 0.0|       0.0|\n",
            "|          7|      0|      0|                 0.0|       0.0|\n",
            "|          8|      0|      0|                 0.0|       0.0|\n",
            "|          9|      0|      0|                 0.0|       0.0|\n",
            "|         10|      0|      0|                 0.0|       0.0|\n",
            "|         11|      0|      0|                 0.0|       0.0|\n",
            "|         12|      0|      0|                 0.0|       0.0|\n",
            "|         13|      0|     18|  10.541769144869889|      16.0|\n",
            "|         14|     18|     21|  19.668699320653282|      20.0|\n",
            "|         15|     21|     24|  22.392777267343945|      22.0|\n",
            "|         16|     24|     27|   25.35950449714126|      25.0|\n",
            "|         17|     27|     30|  28.463474231859713|      28.0|\n",
            "|         18|     30|     35|   32.57874146432506|      33.0|\n",
            "|         19|     35|     42|   37.99426309951706|      38.0|\n",
            "|         20|     42|   2016|  51.938335835398554|      48.0|\n",
            "+-----------+-------+-------+--------------------+----------+\n",
            "\n"
          ]
        }
      ],
      "source": [
        "df_members.groupBy(\"bd_quantile\").agg(F.min(\"bd\"), F.max(\"bd\"), F.mean('bd'), F.median('bd')).show()"
      ]
    },
    {
      "cell_type": "code",
      "execution_count": null,
      "metadata": {
        "id": "wxFiUl79kL6x"
      },
      "outputs": [],
      "source": [
        "# bd_values = df_members.select('bd').rdd.flatMap(lambda x: x).collect()\n",
        "# percentile_99_value = np.percentile(bd_values, 99)\n",
        "# percentile_01_value = np.percentile(bd_values, 1)\n",
        "# percentile_99_value = 51\n",
        "# percentile_01_value = 0"
      ]
    },
    {
      "cell_type": "code",
      "execution_count": null,
      "metadata": {
        "id": "owfblgSsOgE-"
      },
      "outputs": [],
      "source": [
        "# Substituição dos valores outliers de bd\n",
        "# df_members = df_members.withColumn(\n",
        "#     'bd',\n",
        "#     F.when(F.col('bd') < percentile_01_value, percentile_01_value)\n",
        "#      .when(F.col('bd') > percentile_99_value, percentile_99_value)\n",
        "#      .otherwise(F.col('bd'))\n",
        "# )"
      ]
    },
    {
      "cell_type": "code",
      "execution_count": null,
      "metadata": {
        "colab": {
          "base_uri": "https://localhost:8080/"
        },
        "id": "hDNFaNLvwty5",
        "outputId": "ffe99af4-b4f5-420b-c6f2-c5df77cc4bd9"
      },
      "outputs": [
        {
          "name": "stdout",
          "output_type": "stream",
          "text": [
            "Total de clientes:  6287789\n",
            "Total de membros:  63867246\n"
          ]
        }
      ],
      "source": [
        "print('Total de clientes: ', df_members.select(F.countDistinct('msno')).collect()[0][0])\n",
        "print('Total de membros: ', df_members.count())"
      ]
    },
    {
      "cell_type": "markdown",
      "metadata": {
        "id": "RK9fzXhOxabW"
      },
      "source": [
        "### Observações sobre a base de membros:\n",
        "- 63MM de clientes\n",
        "- Apenas 17% dos membros estao ativos"
      ]
    },
    {
      "cell_type": "markdown",
      "metadata": {
        "id": "rHFCJl7_ebtf"
      },
      "source": [
        "### Base logs"
      ]
    },
    {
      "cell_type": "code",
      "execution_count": 10,
      "metadata": {
        "colab": {
          "base_uri": "https://localhost:8080/"
        },
        "id": "KZPBiBBeHdfW",
        "outputId": "8430b019-6ca1-4e1c-d300-4fa8f3bfb650"
      },
      "outputs": [
        {
          "output_type": "stream",
          "name": "stdout",
          "text": [
            "+--------------------+------+------+------+------+-------+-------+-------+----------+\n",
            "|                msno| safra|num_25|num_50|num_75|num_985|num_100|num_unq|total_secs|\n",
            "+--------------------+------+------+------+------+-------+-------+-------+----------+\n",
            "|SwlrSivYHoKF9V5wm...|201701| 121.0|  28.0|  14.0|   29.0|  704.0|  827.0|184606.903|\n",
            "|rE5wSmHEF1Dhu55zh...|201605|  26.0|   2.0|   5.0|    6.0|  462.0|  256.0|119439.485|\n",
            "|hx+cyaQ/Jcdr/Z5fo...|201611| 161.0|  71.0|  49.0|   34.0|  668.0|  891.0|204791.242|\n",
            "|53QW6B70J23X2UCvx...|201502|  37.0|   9.0|   3.0|    9.0|  408.0|  447.0|101186.041|\n",
            "|/0S1N/oRyxGLZlzxn...|201506| 205.0|  49.0|  23.0|   21.0|  225.0|  489.0| 69957.524|\n",
            "+--------------------+------+------+------+------+-------+-------+-------+----------+\n",
            "only showing top 5 rows\n",
            "\n"
          ]
        }
      ],
      "source": [
        "df_logs.show(5)"
      ]
    },
    {
      "cell_type": "code",
      "execution_count": 11,
      "metadata": {
        "id": "UjRjVS9UPwxu"
      },
      "outputs": [],
      "source": [
        "df_logs = df_logs.select(\n",
        "    F.col('msno'),\n",
        "    F.col('num_25').cast(DoubleType()),\n",
        "    F.col('num_50').cast(DoubleType()),\n",
        "    F.col('num_75').cast(DoubleType()),\n",
        "    F.col('num_985').cast(DoubleType()),\n",
        "    F.col('num_100').cast(DoubleType()),\n",
        "    F.col('num_unq').cast(DoubleType()),\n",
        "    F.col('total_secs').cast(DoubleType()),\n",
        "    F.col('safra')\n",
        ").withColumn(\n",
        "    'safra',\n",
        "    F.to_date(\n",
        "        F.concat(\n",
        "            F.col('safra').substr(1, 4),\n",
        "            F.lit('-'),\n",
        "            F.col('safra').substr(5, 2),\n",
        "            F.lit('-'),\n",
        "            F.lit('01')), 'yyyy-MM-dd')\n",
        ")"
      ]
    },
    {
      "cell_type": "code",
      "execution_count": null,
      "metadata": {
        "colab": {
          "base_uri": "https://localhost:8080/"
        },
        "id": "1IBnaC3eKWBV",
        "outputId": "3b7611d3-6cf5-4896-d3f6-96d641106a5d"
      },
      "outputs": [
        {
          "name": "stdout",
          "output_type": "stream",
          "text": [
            "+-------+--------------------+-----------------+-----------------+-----------------+------------------+------------------+-----------------+------------------+--------------------+\n",
            "|summary|                msno|            safra|           num_25|           num_50|            num_75|           num_985|          num_100|           num_unq|          total_secs|\n",
            "+-------+--------------------+-----------------+-----------------+-----------------+------------------+------------------+-----------------+------------------+--------------------+\n",
            "|  count|            26758971|         26758971|         26758971|         26758971|          26758971|          26758971|         26758971|          26758971|            26758971|\n",
            "|   mean|                NULL|201572.0403868669|95.42601163549973|24.03566975725636|14.903521327483034|16.538671797207748|450.1598216538297|440.91930526775485|-2.11717488634742...|\n",
            "| stddev|                NULL|61.87618074610147|175.2882595645691|39.12554591867812|  22.6267215132517|37.409156681476354|725.3139035411604|  590.605957174868|6.839043702349416E14|\n",
            "|    min|+++4vcS9aMH7KWdfh...|           201501|              0.0|              0.0|               0.0|               0.0|              0.0|               1.0|-2.39807672957245...|\n",
            "|    25%|                NULL|           201508|              9.0|              3.0|               2.0|               1.0|             37.0|              50.0|           11021.553|\n",
            "|    50%|                NULL|           201602|             40.0|             11.0|               7.0|               7.0|            211.0|             239.0|  58359.429000000004|\n",
            "|    75%|                NULL|           201609|            114.0|             30.0|              20.0|              20.0|            564.0|             600.0|          152111.487|\n",
            "|    max|zzzyOgMk9MljCerbC...|           201702|         111864.0|           8875.0|            3485.0|           37698.0|         196741.0|           32706.0|9.223372037135594E15|\n",
            "+-------+--------------------+-----------------+-----------------+-----------------+------------------+------------------+-----------------+------------------+--------------------+\n",
            "\n"
          ]
        }
      ],
      "source": [
        "df_logs.summary().show()"
      ]
    },
    {
      "cell_type": "markdown",
      "metadata": {
        "id": "ax4EsXI_KW9g"
      },
      "source": [
        "# O Case\n",
        "Dados históricos de dois anos de clientes de uma empresa que oferece streaming de musica baseado em assinatura.\n",
        "Quando os usuários se inscrevem no serviço, eles podem optar por renovar o serviço manualmente ou renovar automaticamente, podendo cancelar ativamente sua associação à qualquer momento.\n",
        "## Modelo de Churn\n",
        "Criação de um modelo classificador para prever clientes que serão churn 3 meses no futuro (ou seja, clientes que possuem assinatura ativa no periodo analisado e 3 mses depois desse período ele não esta mais ativo, ou porque cancelou ou não renovou a assinatura) e identifique os clientes que serão direcionados para a ação de forma proativa."
      ]
    },
    {
      "cell_type": "markdown",
      "metadata": {
        "id": "tW27Tn9RlmjA"
      },
      "source": [
        "# Definição de público\n",
        "- Clientes que possuem assinatura ativa\n",
        "- Até 2016-09-01 para que possuam apenas clientes que possamos saber o comportamento 3 meses para a frente\n",
        "- Na base de membros, temos a informacao dos membros ativos, e portanto escolho essa base para selecionar o público"
      ]
    },
    {
      "cell_type": "code",
      "execution_count": 14,
      "metadata": {
        "id": "sW5n3XVwSIAW"
      },
      "outputs": [],
      "source": [
        "spine = df_members.filter(\n",
        "    (F.col('is_ativo') == 1) &\n",
        "    (F.col('safra') < F.lit('2016-09-01'))\n",
        ").drop('is_ativo').dropDuplicates()"
      ]
    },
    {
      "cell_type": "code",
      "execution_count": null,
      "metadata": {
        "colab": {
          "base_uri": "https://localhost:8080/"
        },
        "id": "qaOoSpO4O_to",
        "outputId": "cf86f6eb-29af-4c85-ddb7-cdb4496367a7"
      },
      "outputs": [
        {
          "data": {
            "text/plain": [
              "7153111"
            ]
          },
          "execution_count": 36,
          "metadata": {},
          "output_type": "execute_result"
        }
      ],
      "source": [
        "spine.count()"
      ]
    },
    {
      "cell_type": "code",
      "execution_count": null,
      "metadata": {
        "colab": {
          "base_uri": "https://localhost:8080/"
        },
        "id": "ghNYdDziPwv_",
        "outputId": "b71c2c78-2d3c-47da-d768-1757ad329d91"
      },
      "outputs": [
        {
          "name": "stdout",
          "output_type": "stream",
          "text": [
            "+--------------------------------------------+-----+\n",
            "|msno                                        |count|\n",
            "+--------------------------------------------+-----+\n",
            "|+f7M2fwOgbZKfdDo7U5yF2Tn9SCxtV4TVzSydzrQI40=|8    |\n",
            "|+Pn5eh2MY/PSbCwd1OW+xxZkjcgXETMtzfMf/fcvywI=|8    |\n",
            "|+QrgUC+7auY8Pf0w2wi6p3nbyA9QSVySmdhAVu/wYZ8=|8    |\n",
            "|+YOJTYCPOTYfnWWrwjYK9bEZjWVG++pVbCeTq0eGMhA=|8    |\n",
            "|+QXJIHj6VYFkRpplljnYC+btUq/8MtESX5ng9nIff0U=|8    |\n",
            "+--------------------------------------------+-----+\n",
            "only showing top 5 rows\n",
            "\n"
          ]
        }
      ],
      "source": [
        "spine.groupBy('msno').count().orderBy(F.desc('count')).show(5, truncate=False)"
      ]
    },
    {
      "cell_type": "code",
      "execution_count": null,
      "metadata": {
        "colab": {
          "base_uri": "https://localhost:8080/"
        },
        "id": "S7ebqvK0mMGb",
        "outputId": "df0e6aea-ff32-4c59-b7c6-c17970d576d4"
      },
      "outputs": [
        {
          "name": "stdout",
          "output_type": "stream",
          "text": [
            "+--------------------------------------------+----+---+-------------+--------------+----------------------+----------+\n",
            "|msno                                        |city|bd |gender       |registered_via|registration_init_time|safra     |\n",
            "+--------------------------------------------+----+---+-------------+--------------+----------------------+----------+\n",
            "|++Bks8kE9oclzxZM3hcWs+qzsxuoXFeIE1+7pxKBCQg=|1   |0  |nao_informado|7             |2016-07-30            |2016-07-01|\n",
            "|++OvJH5FmfZ5CRrYfmbQEk7tJwCZhsJnkWbxClRaUpw=|1   |0  |nao_informado|7             |2013-11-14            |2016-02-01|\n",
            "|++aVm+4v87MXzbhiEXoS7OszzRxcfny8aKalISGUR9I=|15  |32 |male         |9             |2011-11-03            |2016-05-01|\n",
            "|++kosgi4V03jOxcBKjM/9tPignUOxcc7jBVnZLJ+lX0=|1   |0  |nao_informado|7             |2015-07-10            |2016-07-01|\n",
            "|+/EF6xPAo8HLjhC7K8VBWUkXnCYi7KYIaNf071llMV0=|5   |35 |female       |9             |2012-05-16            |2016-02-01|\n",
            "+--------------------------------------------+----+---+-------------+--------------+----------------------+----------+\n",
            "only showing top 5 rows\n",
            "\n"
          ]
        }
      ],
      "source": [
        "spine.show(5, truncate=False)"
      ]
    },
    {
      "cell_type": "markdown",
      "metadata": {
        "id": "gxEBjniliVCj"
      },
      "source": [
        "# Definição da target\n",
        "- Churn ou não churns, 3 meses no futuro\n",
        "- Todas as variaveis sobre o cliente, estão em uma visao 3 meses antes da target\n",
        "- A partir da spine, com os clientes ativos em cada safra, é feito um cruzamento buscando o cliente na safra 3 meses para o futuro\n",
        "- Cria-se a variável target, 1 se o cliente estiver ativo, 0 se nao estiver ativo (churn)"
      ]
    },
    {
      "cell_type": "code",
      "execution_count": 15,
      "metadata": {
        "id": "xED9XVO3dAeh"
      },
      "outputs": [],
      "source": [
        "df_members_aliased = df_members.select('msno', 'safra', 'is_ativo').withColumnRenamed('safra', 'safra_target').withColumn('chave', F.concat(F.col('msno'), F.lit('_'), F.col('safra_target')))\n",
        "master = spine.withColumn('chave', F.concat(F.col('msno'), F.lit('_'), F.add_months(F.col('safra'), 3)))\n",
        "master = master.join(df_members_aliased.select('chave', 'is_ativo'),on='chave', how='left').drop('chave').withColumnRenamed('is_ativo', 'target')"
      ]
    },
    {
      "cell_type": "code",
      "execution_count": null,
      "metadata": {
        "colab": {
          "base_uri": "https://localhost:8080/"
        },
        "id": "XrC1im7vXue7",
        "outputId": "57698cc4-6bac-4e85-8836-2ff30cc6e0bf"
      },
      "outputs": [
        {
          "name": "stdout",
          "output_type": "stream",
          "text": [
            "+--------------------------------------------+----+---+-------------+--------------+----------------------+----------+------+\n",
            "|msno                                        |city|bd |gender       |registered_via|registration_init_time|safra     |target|\n",
            "+--------------------------------------------+----+---+-------------+--------------+----------------------+----------+------+\n",
            "|+TX/zz/YToedCiHQ8OaMmRDwaGF4LU1aaNOXeo408VM=|1   |0  |nao_informado|7             |2012-05-24            |2016-06-01|1     |\n",
            "|/8HWkgjEG95U3+82KEXrWRcrmkUl62cEUeg8d37j7dQ=|22  |32 |male         |3             |2016-01-14            |2016-05-01|0     |\n",
            "|+a5M+g3yn6JJoUL0JLg6075GbJZBsBJ4z3FkQ2HJgBU=|1   |0  |nao_informado|7             |2016-04-09            |2016-08-01|1     |\n",
            "|+mM0jyxAgO+WXyjjj1T0lIs4vYbG0zScKm/ifZ6sQYc=|1   |0  |nao_informado|7             |2014-12-20            |2016-08-01|1     |\n",
            "|+2BZVWQhXddu49omjb2OOjOwVv0MTtj5l9Io4n+IAD4=|4   |54 |male         |9             |2016-01-15            |2016-03-01|1     |\n",
            "+--------------------------------------------+----+---+-------------+--------------+----------------------+----------+------+\n",
            "only showing top 5 rows\n",
            "\n"
          ]
        }
      ],
      "source": [
        "master.show(5, truncate=False)"
      ]
    },
    {
      "cell_type": "code",
      "execution_count": 16,
      "metadata": {
        "colab": {
          "base_uri": "https://localhost:8080/"
        },
        "id": "e9dtthPeXyvs",
        "outputId": "ab2b3c06-f448-4647-dfee-97d0f8fb6941"
      },
      "outputs": [
        {
          "output_type": "stream",
          "name": "stdout",
          "text": [
            "+------+-------+\n",
            "|target|  count|\n",
            "+------+-------+\n",
            "|     1|6134030|\n",
            "|     0|1019081|\n",
            "+------+-------+\n",
            "\n"
          ]
        }
      ],
      "source": [
        "master.groupBy('target').count().show()"
      ]
    },
    {
      "cell_type": "code",
      "source": [
        "# Obtendo uma amostra, mantendo a proporção da target\n",
        "fractions = {0: 0.01, 1: 0.01}\n",
        "\n",
        "df_sample = master.sampleBy(\"target\", fractions, seed=42)"
      ],
      "metadata": {
        "id": "g0hf__ZC2ssQ"
      },
      "execution_count": 21,
      "outputs": []
    },
    {
      "cell_type": "code",
      "source": [
        "# Verifique a nova distribuição\n",
        "df_sample.groupBy(\"target\").count().show()"
      ],
      "metadata": {
        "id": "ab8pdVC36sX5"
      },
      "execution_count": null,
      "outputs": []
    },
    {
      "cell_type": "markdown",
      "metadata": {
        "id": "LtqC7d-N7Xm-"
      },
      "source": [
        "Target desbalanceada:\n",
        "- Há uma quantidade bem maior de clientes que continuaram ativos (1), que os clientes churn. Dessa forma, na hora de criar o modelo, é interessante utilizar pesos para balancear a target."
      ]
    },
    {
      "cell_type": "markdown",
      "metadata": {
        "id": "2R3cygzozRd-"
      },
      "source": [
        "## *Dúvidas / pontos de atenção*\n",
        "\n",
        "1.   *será necessário apenas um cliente na base?* -> imagino que nao seria um problema o cliente aparecer em mais de um mes, de forma que estamos capturando o comportamente desse cliente no mes, por isso é necessário trazer as features sobre a transação e logs\n",
        "2.   *estaria certo considerara apenas o ano de 2016?* -> Por hora, entendo que a target deve ser o cliente ativo ou nao, informação que é possivel de encontrar apenas na base de members, e portanto, temos apenas informações de 2016\n",
        "\n"
      ]
    },
    {
      "cell_type": "markdown",
      "metadata": {
        "id": "wLPRTSz5yDkI"
      },
      "source": [
        "# Feature Engineering\n",
        "- Criação de novas features"
      ]
    },
    {
      "cell_type": "markdown",
      "metadata": {
        "id": "UXK92PS0yR14"
      },
      "source": [
        "####**Transações:**\n",
        "\n",
        "*variaveis uteis existentes:*\n",
        "- is_auto_renew -> seria um indicativo de que o cliente talvez nao renove o plano?\n",
        "- payment_plan_days -> indicando quanto tempo o cliente tem para renovar o plano\n",
        "- actual_amount_paid -> mostrando o quanto o cliente esta pagando, se for muito pode trazer indicios de cancelamento\n",
        "- membership_expire_date -> transformar em quanto tempo para finalização do plano\n",
        "- is_canceled -> indicando se o plano foi cancelado ou nao -> pode indicar que o cliente cancelou e no mes seguinte a assinatura nao estara mais ativa\n",
        "\n"
      ]
    },
    {
      "cell_type": "code",
      "execution_count": null,
      "metadata": {
        "id": "_Oo-53JzFmCC"
      },
      "outputs": [],
      "source": [
        "df_transactions=df_transactions.filter(F.year(F.col('safra'))=='2016')"
      ]
    },
    {
      "cell_type": "code",
      "execution_count": null,
      "metadata": {
        "colab": {
          "base_uri": "https://localhost:8080/"
        },
        "id": "OyyIBMzr5Vvx",
        "outputId": "eb94d2d7-6979-43cb-a5c5-aac580eb50c3"
      },
      "outputs": [
        {
          "name": "stdout",
          "output_type": "stream",
          "text": [
            "+--------------------+-----+\n",
            "|               chave|count|\n",
            "+--------------------+-----+\n",
            "|++5BmBHS2ebe4Whfg...|    1|\n",
            "|++3UnufK0Ka+brv8d...|    1|\n",
            "|++4yteQFM9k0Gjq5f...|    1|\n",
            "|++8XaEDast796K/DQ...|    1|\n",
            "|+++snpr7pmobhLKUg...|    1|\n",
            "+--------------------+-----+\n",
            "only showing top 5 rows\n",
            "\n"
          ]
        }
      ],
      "source": [
        "df_transactions.withColumn('chave', F.concat(F.col('msno'), F.lit('_'), F.col('safra'))).groupBy('chave').count().orderBy(F.desc('count')).show(5)"
      ]
    },
    {
      "cell_type": "code",
      "execution_count": null,
      "metadata": {
        "id": "_m9RjlnL5Dz8"
      },
      "outputs": [],
      "source": [
        "df_sample = df_sample.withColumn('chave', F.concat(F.col('msno'), F.lit('_'), F.col('safra')))\n",
        "df_sample = df_sample.join(df_transactions.withColumn('chave', F.concat(F.col('msno'), F.lit('_'), F.col('safra'))).select('chave', 'is_auto_renew', 'payment_plan_days', 'actual_amount_paid', 'membership_expire_date', 'is_cancel'),\n",
        "                     on='chave', how='left')"
      ]
    },
    {
      "cell_type": "code",
      "execution_count": null,
      "metadata": {
        "colab": {
          "base_uri": "https://localhost:8080/"
        },
        "id": "W33BPhYk5dtO",
        "outputId": "fefe55a7-f7b4-4a4b-f330-4b557422a52b"
      },
      "outputs": [
        {
          "data": {
            "text/plain": [
              "7153111"
            ]
          },
          "execution_count": 17,
          "metadata": {},
          "output_type": "execute_result"
        }
      ],
      "source": [
        "df_sample.count()"
      ]
    },
    {
      "cell_type": "code",
      "execution_count": null,
      "metadata": {
        "colab": {
          "base_uri": "https://localhost:8080/"
        },
        "id": "CHY3tCTsDdI2",
        "outputId": "2b9bd0fb-b327-45fa-c1a1-666e3b2f4fc5"
      },
      "outputs": [
        {
          "name": "stdout",
          "output_type": "stream",
          "text": [
            "+-------------------------------------------------------+--------------------------------------------+----+---+-------------+--------------+----------------------+----------+------+-------------+-----------------+------------------+----------------------+---------+\n",
            "|chave                                                  |msno                                        |city|bd |gender       |registered_via|registration_init_time|safra     |target|is_auto_renew|payment_plan_days|actual_amount_paid|membership_expire_date|is_cancel|\n",
            "+-------------------------------------------------------+--------------------------------------------+----+---+-------------+--------------+----------------------+----------+------+-------------+-----------------+------------------+----------------------+---------+\n",
            "|+++l/EXNMLTijfLBa8p2TUVVVp2aFGSuUI/h7mLmthw=_2016-08-01|+++l/EXNMLTijfLBa8p2TUVVVp2aFGSuUI/h7mLmthw=|15  |26 |male         |9             |2010-11-18            |2016-08-01|1     |1            |30.0             |149.0             |2016-10-19            |0        |\n",
            "|+++snpr7pmobhLKUgSHTv/mpkqgBT0tQJ0zQj6qKrqc=_2016-01-01|+++snpr7pmobhLKUgSHTv/mpkqgBT0tQJ0zQj6qKrqc=|1   |0  |nao_informado|7             |2014-09-27            |2016-01-01|1     |1            |30.0             |149.0             |2016-02-26            |0        |\n",
            "|+++snpr7pmobhLKUgSHTv/mpkqgBT0tQJ0zQj6qKrqc=_2016-05-01|+++snpr7pmobhLKUgSHTv/mpkqgBT0tQJ0zQj6qKrqc=|1   |0  |nao_informado|7             |2014-09-27            |2016-05-01|1     |1            |30.0             |149.0             |2016-06-26            |0        |\n",
            "|++/ZHqwUNa7U21Qz+zqteiXlZapxey86l6eEorrak/g=_2016-01-01|++/ZHqwUNa7U21Qz+zqteiXlZapxey86l6eEorrak/g=|13  |39 |male         |3             |2014-04-21            |2016-01-01|1     |1            |30.0             |149.0             |2016-03-04            |0        |\n",
            "|++/gTmVgKUbNFmsTiriZdWV1uZIrLXCUiEWN0fEU6BM=_2016-01-01|++/gTmVgKUbNFmsTiriZdWV1uZIrLXCUiEWN0fEU6BM=|1   |0  |nao_informado|7             |2015-11-11            |2016-01-01|0     |1            |30.0             |149.0             |2016-02-10            |0        |\n",
            "+-------------------------------------------------------+--------------------------------------------+----+---+-------------+--------------+----------------------+----------+------+-------------+-----------------+------------------+----------------------+---------+\n",
            "only showing top 5 rows\n",
            "\n"
          ]
        }
      ],
      "source": [
        "df_sample.show(5, truncate=False)"
      ]
    },
    {
      "cell_type": "markdown",
      "metadata": {
        "id": "Rwlpet485eU3"
      },
      "source": [
        "####**Logs:**\n",
        "Utilizar a ultima data do mês para buscar as estatisticas sobre o uso, porque dessa forma é possível compreender como foi o comportamento do cliente ao longo do mês com o uso da plataforma.\n",
        "\n",
        "*variáveis:*\n",
        "1. num_25\n",
        "2. num_50\n",
        "3. num_75\n",
        "4. num_985\n",
        "5. num_100\n",
        "6. num_unq\n",
        "7. total_secs"
      ]
    },
    {
      "cell_type": "code",
      "execution_count": null,
      "metadata": {
        "id": "OaZJ0Z2yFz7J"
      },
      "outputs": [],
      "source": [
        "df_logs=df_logs.filter(F.year(F.col('safra'))=='2016')"
      ]
    },
    {
      "cell_type": "code",
      "execution_count": null,
      "metadata": {
        "colab": {
          "base_uri": "https://localhost:8080/"
        },
        "id": "n3yGjoV5CInl",
        "outputId": "5ba64177-d115-4a3a-b7cf-accd9b58d4fb"
      },
      "outputs": [
        {
          "name": "stdout",
          "output_type": "stream",
          "text": [
            "+--------------------+-----+\n",
            "|               chave|count|\n",
            "+--------------------+-----+\n",
            "|T2gUhlBhFMoSFA9jF...|    1|\n",
            "|W9RH26bbCJ/jz8erW...|    1|\n",
            "|53QW6B70J23X2UCvx...|    1|\n",
            "|WppnGUHAP0pV79RBZ...|    1|\n",
            "|SwlrSivYHoKF9V5wm...|    1|\n",
            "+--------------------+-----+\n",
            "only showing top 5 rows\n",
            "\n"
          ]
        }
      ],
      "source": [
        "df_logs.withColumn('chave', F.concat(F.col('msno'), F.lit('_'), F.col('safra'))).groupBy('chave').count().orderBy(F.desc('count')).show(5)"
      ]
    },
    {
      "cell_type": "code",
      "execution_count": null,
      "metadata": {
        "id": "72yi3YLnHRJX"
      },
      "outputs": [],
      "source": [
        "df_sample = df_sample.join(df_logs.withColumn('chave', F.concat(F.col('msno'), F.lit('_'), F.col('safra'))).select('chave', 'num_25', 'num_50', 'num_75', 'num_985', 'num_100', 'num_unq', 'total_secs'),\n",
        "                     on='chave', how='left')"
      ]
    },
    {
      "cell_type": "code",
      "execution_count": null,
      "metadata": {
        "colab": {
          "base_uri": "https://localhost:8080/"
        },
        "id": "9VzwvdsVIugR",
        "outputId": "9dfbc2d2-4cc4-4faa-ce0a-787cd6d12750"
      },
      "outputs": [
        {
          "name": "stdout",
          "output_type": "stream",
          "text": [
            "+-------------------------------------------------------+--------------------------------------------+----+---+-------------+--------------+----------------------+----------+------+-------------+-----------------+------------------+----------------------+---------+------+------+------+-------+-------+-------+------------------+\n",
            "|chave                                                  |msno                                        |city|bd |gender       |registered_via|registration_init_time|safra     |target|is_auto_renew|payment_plan_days|actual_amount_paid|membership_expire_date|is_cancel|num_25|num_50|num_75|num_985|num_100|num_unq|total_secs        |\n",
            "+-------------------------------------------------------+--------------------------------------------+----+---+-------------+--------------+----------------------+----------+------+-------------+-----------------+------------------+----------------------+---------+------+------+------+-------+-------+-------+------------------+\n",
            "|+++l/EXNMLTijfLBa8p2TUVVVp2aFGSuUI/h7mLmthw=_2016-08-01|+++l/EXNMLTijfLBa8p2TUVVVp2aFGSuUI/h7mLmthw=|15  |26 |male         |9             |2010-11-18            |2016-08-01|1     |1            |30.0             |149.0             |2016-10-19            |0        |77.0  |27.0  |35.0  |29.0   |709.0  |747.0  |185178.16899999997|\n",
            "|+++snpr7pmobhLKUgSHTv/mpkqgBT0tQJ0zQj6qKrqc=_2016-01-01|+++snpr7pmobhLKUgSHTv/mpkqgBT0tQJ0zQj6qKrqc=|1   |0  |nao_informado|7             |2014-09-27            |2016-01-01|1     |1            |30.0             |149.0             |2016-02-26            |0        |113.0 |48.0  |33.0  |45.0   |774.0  |845.0  |217292.24200000006|\n",
            "|+++snpr7pmobhLKUgSHTv/mpkqgBT0tQJ0zQj6qKrqc=_2016-05-01|+++snpr7pmobhLKUgSHTv/mpkqgBT0tQJ0zQj6qKrqc=|1   |0  |nao_informado|7             |2014-09-27            |2016-05-01|1     |1            |30.0             |149.0             |2016-06-26            |0        |194.0 |47.0  |32.0  |34.0   |947.0  |1088.0 |250853.736        |\n",
            "|++/ZHqwUNa7U21Qz+zqteiXlZapxey86l6eEorrak/g=_2016-01-01|++/ZHqwUNa7U21Qz+zqteiXlZapxey86l6eEorrak/g=|13  |39 |male         |3             |2014-04-21            |2016-01-01|1     |1            |30.0             |149.0             |2016-03-04            |0        |13.0  |3.0   |4.0   |3.0    |110.0  |118.0  |28960.859         |\n",
            "|++/gTmVgKUbNFmsTiriZdWV1uZIrLXCUiEWN0fEU6BM=_2016-01-01|++/gTmVgKUbNFmsTiriZdWV1uZIrLXCUiEWN0fEU6BM=|1   |0  |nao_informado|7             |2015-11-11            |2016-01-01|0     |1            |30.0             |149.0             |2016-02-10            |0        |6.0   |2.0   |1.0   |0.0    |55.0   |53.0   |13400.342         |\n",
            "+-------------------------------------------------------+--------------------------------------------+----+---+-------------+--------------+----------------------+----------+------+-------------+-----------------+------------------+----------------------+---------+------+------+------+-------+-------+-------+------------------+\n",
            "only showing top 5 rows\n",
            "\n"
          ]
        }
      ],
      "source": [
        "df_sample.show(5, truncate=False)"
      ]
    },
    {
      "cell_type": "markdown",
      "metadata": {
        "id": "op6drVogi248"
      },
      "source": [
        "# Seleção das features\n",
        "- Análise das variaveis categóricas e numericas em relacao à target\n",
        "- Selecao de feature a partir de feature importance usando RandomForest *\n",
        "\n",
        "\n",
        "\n",
        "\n",
        "\n",
        "\n",
        "\n",
        "\n",
        "\n",
        "\n",
        "\n",
        "\n",
        "\n",
        "\n",
        "\n",
        "\n"
      ]
    },
    {
      "cell_type": "code",
      "execution_count": null,
      "metadata": {
        "colab": {
          "base_uri": "https://localhost:8080/",
          "height": 1000
        },
        "id": "xigEropblhyF",
        "outputId": "83540040-81ff-4a64-e615-5f5042ba0435"
      },
      "outputs": [
        {
          "name": "stderr",
          "output_type": "stream",
          "text": [
            "/usr/local/lib/python3.11/dist-packages/pyspark/sql/pandas/conversion.py:198: UserWarning: toPandas attempted Arrow optimization because 'spark.sql.execution.arrow.pyspark.enabled' is set to true, but has reached the error below and can not continue. Note that 'spark.sql.execution.arrow.pyspark.fallback.enabled' does not have an effect on failures in the middle of computation.\n",
            "  An error occurred while calling o407.getResult.\n",
            ": org.apache.spark.SparkException: Exception thrown in awaitResult: \n",
            "\tat org.apache.spark.util.SparkThreadUtils$.awaitResult(SparkThreadUtils.scala:56)\n",
            "\tat org.apache.spark.util.ThreadUtils$.awaitResult(ThreadUtils.scala:310)\n",
            "\tat org.apache.spark.security.SocketAuthServer.getResult(SocketAuthServer.scala:98)\n",
            "\tat org.apache.spark.security.SocketAuthServer.getResult(SocketAuthServer.scala:94)\n",
            "\tat sun.reflect.NativeMethodAccessorImpl.invoke0(Native Method)\n",
            "\tat sun.reflect.NativeMethodAccessorImpl.invoke(NativeMethodAccessorImpl.java:62)\n",
            "\tat sun.reflect.DelegatingMethodAccessorImpl.invoke(DelegatingMethodAccessorImpl.java:43)\n",
            "\tat java.lang.reflect.Method.invoke(Method.java:498)\n",
            "\tat py4j.reflection.MethodInvoker.invoke(MethodInvoker.java:244)\n",
            "\tat py4j.reflection.ReflectionEngine.invoke(ReflectionEngine.java:374)\n",
            "\tat py4j.Gateway.invoke(Gateway.java:282)\n",
            "\tat py4j.commands.AbstractCommand.invokeMethod(AbstractCommand.java:132)\n",
            "\tat py4j.commands.CallCommand.execute(CallCommand.java:79)\n",
            "\tat py4j.ClientServerConnection.waitForCommands(ClientServerConnection.java:182)\n",
            "\tat py4j.ClientServerConnection.run(ClientServerConnection.java:106)\n",
            "\tat java.lang.Thread.run(Thread.java:750)\n",
            "Caused by: org.apache.spark.SparkException: Job aborted due to stage failure: Total size of serialized results of 6 tasks (1184.7 MiB) is bigger than spark.driver.maxResultSize (1024.0 MiB)\n",
            "\tat org.apache.spark.scheduler.DAGScheduler.failJobAndIndependentStages(DAGScheduler.scala:2856)\n",
            "\tat org.apache.spark.scheduler.DAGScheduler.$anonfun$abortStage$2(DAGScheduler.scala:2792)\n",
            "\tat org.apache.spark.scheduler.DAGScheduler.$anonfun$abortStage$2$adapted(DAGScheduler.scala:2791)\n",
            "\tat scala.collection.mutable.ResizableArray.foreach(ResizableArray.scala:62)\n",
            "\tat scala.collection.mutable.ResizableArray.foreach$(ResizableArray.scala:55)\n",
            "\tat scala.collection.mutable.ArrayBuffer.foreach(ArrayBuffer.scala:49)\n",
            "\tat org.apache.spark.scheduler.DAGScheduler.abortStage(DAGScheduler.scala:2791)\n",
            "\tat org.apache.spark.scheduler.DAGScheduler.$anonfun$handleTaskSetFailed$1(DAGScheduler.scala:1247)\n",
            "\tat org.apache.spark.scheduler.DAGScheduler.$anonfun$handleTaskSetFailed$1$adapted(DAGScheduler.scala:1247)\n",
            "\tat scala.Option.foreach(Option.scala:407)\n",
            "\tat org.apache.spark.scheduler.DAGScheduler.handleTaskSetFailed(DAGScheduler.scala:1247)\n",
            "\tat org.apache.spark.scheduler.DAGSchedulerEventProcessLoop.doOnReceive(DAGScheduler.scala:3060)\n",
            "\tat org.apache.spark.scheduler.DAGSchedulerEventProcessLoop.onReceive(DAGScheduler.scala:2994)\n",
            "\tat org.apache.spark.scheduler.DAGSchedulerEventProcessLoop.onReceive(DAGScheduler.scala:2983)\n",
            "\tat org.apache.spark.util.EventLoop$$anon$1.run(EventLoop.scala:49)\n",
            "\tat org.apache.spark.scheduler.DAGScheduler.runJob(DAGScheduler.scala:989)\n",
            "\tat org.apache.spark.SparkContext.runJob(SparkContext.scala:2393)\n",
            "\tat org.apache.spark.SparkContext.runJob(SparkContext.scala:2488)\n",
            "\tat org.apache.spark.sql.Dataset.$anonfun$collectAsArrowToPython$5(Dataset.scala:4263)\n",
            "\tat scala.runtime.java8.JFunction0$mcV$sp.apply(JFunction0$mcV$sp.java:23)\n",
            "\tat org.apache.spark.util.SparkErrorUtils.tryWithSafeFinally(SparkErrorUtils.scala:64)\n",
            "\tat org.apache.spark.util.SparkErrorUtils.tryWithSafeFinally$(SparkErrorUtils.scala:61)\n",
            "\tat org.apache.spark.util.Utils$.tryWithSafeFinally(Utils.scala:94)\n",
            "\tat org.apache.spark.sql.Dataset.$anonfun$collectAsArrowToPython$2(Dataset.scala:4267)\n",
            "\tat org.apache.spark.sql.Dataset.$anonfun$collectAsArrowToPython$2$adapted(Dataset.scala:4243)\n",
            "\tat org.apache.spark.sql.Dataset.$anonfun$withAction$2(Dataset.scala:4323)\n",
            "\tat org.apache.spark.sql.execution.QueryExecution$.withInternalError(QueryExecution.scala:546)\n",
            "\tat org.apache.spark.sql.Dataset.$anonfun$withAction$1(Dataset.scala:4321)\n",
            "\tat org.apache.spark.sql.execution.SQLExecution$.$anonfun$withNewExecutionId$6(SQLExecution.scala:125)\n",
            "\tat org.apache.spark.sql.execution.SQLExecution$.withSQLConfPropagated(SQLExecution.scala:201)\n",
            "\tat org.apache.spark.sql.execution.SQLExecution$.$anonfun$withNewExecutionId$1(SQLExecution.scala:108)\n",
            "\tat org.apache.spark.sql.SparkSession.withActive(SparkSession.scala:900)\n",
            "\tat org.apache.spark.sql.execution.SQLExecution$.withNewExecutionId(SQLExecution.scala:66)\n",
            "\tat org.apache.spark.sql.Dataset.withAction(Dataset.scala:4321)\n",
            "\tat org.apache.spark.sql.Dataset.$anonfun$collectAsArrowToPython$1(Dataset.scala:4243)\n",
            "\tat org.apache.spark.sql.Dataset.$anonfun$collectAsArrowToPython$1$adapted(Dataset.scala:4242)\n",
            "\tat org.apache.spark.security.SocketAuthServer$.$anonfun$serveToStream$2(SocketAuthServer.scala:140)\n",
            "\tat scala.runtime.java8.JFunction0$mcV$sp.apply(JFunction0$mcV$sp.java:23)\n",
            "\tat org.apache.spark.util.SparkErrorUtils.tryWithSafeFinally(SparkErrorUtils.scala:64)\n",
            "\tat org.apache.spark.util.SparkErrorUtils.tryWithSafeFinally$(SparkErrorUtils.scala:61)\n",
            "\tat org.apache.spark.util.Utils$.tryWithSafeFinally(Utils.scala:94)\n",
            "\tat org.apache.spark.security.SocketAuthServer$.$anonfun$serveToStream$1(SocketAuthServer.scala:142)\n",
            "\tat org.apache.spark.security.SocketAuthServer$.$anonfun$serveToStream$1$adapted(SocketAuthServer.scala:137)\n",
            "\tat org.apache.spark.security.SocketFuncServer.handleConnection(SocketAuthServer.scala:114)\n",
            "\tat org.apache.spark.security.SocketFuncServer.handleConnection(SocketAuthServer.scala:108)\n",
            "\tat org.apache.spark.security.SocketAuthServer$$anon$1.$anonfun$run$4(SocketAuthServer.scala:69)\n",
            "\tat scala.util.Try$.apply(Try.scala:213)\n",
            "\tat org.apache.spark.security.SocketAuthServer$$anon$1.run(SocketAuthServer.scala:69)\n",
            "\n",
            "  warn(msg)\n"
          ]
        },
        {
          "ename": "Py4JJavaError",
          "evalue": "An error occurred while calling o407.getResult.\n: org.apache.spark.SparkException: Exception thrown in awaitResult: \n\tat org.apache.spark.util.SparkThreadUtils$.awaitResult(SparkThreadUtils.scala:56)\n\tat org.apache.spark.util.ThreadUtils$.awaitResult(ThreadUtils.scala:310)\n\tat org.apache.spark.security.SocketAuthServer.getResult(SocketAuthServer.scala:98)\n\tat org.apache.spark.security.SocketAuthServer.getResult(SocketAuthServer.scala:94)\n\tat sun.reflect.NativeMethodAccessorImpl.invoke0(Native Method)\n\tat sun.reflect.NativeMethodAccessorImpl.invoke(NativeMethodAccessorImpl.java:62)\n\tat sun.reflect.DelegatingMethodAccessorImpl.invoke(DelegatingMethodAccessorImpl.java:43)\n\tat java.lang.reflect.Method.invoke(Method.java:498)\n\tat py4j.reflection.MethodInvoker.invoke(MethodInvoker.java:244)\n\tat py4j.reflection.ReflectionEngine.invoke(ReflectionEngine.java:374)\n\tat py4j.Gateway.invoke(Gateway.java:282)\n\tat py4j.commands.AbstractCommand.invokeMethod(AbstractCommand.java:132)\n\tat py4j.commands.CallCommand.execute(CallCommand.java:79)\n\tat py4j.ClientServerConnection.waitForCommands(ClientServerConnection.java:182)\n\tat py4j.ClientServerConnection.run(ClientServerConnection.java:106)\n\tat java.lang.Thread.run(Thread.java:750)\nCaused by: org.apache.spark.SparkException: Job aborted due to stage failure: Total size of serialized results of 6 tasks (1184.7 MiB) is bigger than spark.driver.maxResultSize (1024.0 MiB)\n\tat org.apache.spark.scheduler.DAGScheduler.failJobAndIndependentStages(DAGScheduler.scala:2856)\n\tat org.apache.spark.scheduler.DAGScheduler.$anonfun$abortStage$2(DAGScheduler.scala:2792)\n\tat org.apache.spark.scheduler.DAGScheduler.$anonfun$abortStage$2$adapted(DAGScheduler.scala:2791)\n\tat scala.collection.mutable.ResizableArray.foreach(ResizableArray.scala:62)\n\tat scala.collection.mutable.ResizableArray.foreach$(ResizableArray.scala:55)\n\tat scala.collection.mutable.ArrayBuffer.foreach(ArrayBuffer.scala:49)\n\tat org.apache.spark.scheduler.DAGScheduler.abortStage(DAGScheduler.scala:2791)\n\tat org.apache.spark.scheduler.DAGScheduler.$anonfun$handleTaskSetFailed$1(DAGScheduler.scala:1247)\n\tat org.apache.spark.scheduler.DAGScheduler.$anonfun$handleTaskSetFailed$1$adapted(DAGScheduler.scala:1247)\n\tat scala.Option.foreach(Option.scala:407)\n\tat org.apache.spark.scheduler.DAGScheduler.handleTaskSetFailed(DAGScheduler.scala:1247)\n\tat org.apache.spark.scheduler.DAGSchedulerEventProcessLoop.doOnReceive(DAGScheduler.scala:3060)\n\tat org.apache.spark.scheduler.DAGSchedulerEventProcessLoop.onReceive(DAGScheduler.scala:2994)\n\tat org.apache.spark.scheduler.DAGSchedulerEventProcessLoop.onReceive(DAGScheduler.scala:2983)\n\tat org.apache.spark.util.EventLoop$$anon$1.run(EventLoop.scala:49)\n\tat org.apache.spark.scheduler.DAGScheduler.runJob(DAGScheduler.scala:989)\n\tat org.apache.spark.SparkContext.runJob(SparkContext.scala:2393)\n\tat org.apache.spark.SparkContext.runJob(SparkContext.scala:2488)\n\tat org.apache.spark.sql.Dataset.$anonfun$collectAsArrowToPython$5(Dataset.scala:4263)\n\tat scala.runtime.java8.JFunction0$mcV$sp.apply(JFunction0$mcV$sp.java:23)\n\tat org.apache.spark.util.SparkErrorUtils.tryWithSafeFinally(SparkErrorUtils.scala:64)\n\tat org.apache.spark.util.SparkErrorUtils.tryWithSafeFinally$(SparkErrorUtils.scala:61)\n\tat org.apache.spark.util.Utils$.tryWithSafeFinally(Utils.scala:94)\n\tat org.apache.spark.sql.Dataset.$anonfun$collectAsArrowToPython$2(Dataset.scala:4267)\n\tat org.apache.spark.sql.Dataset.$anonfun$collectAsArrowToPython$2$adapted(Dataset.scala:4243)\n\tat org.apache.spark.sql.Dataset.$anonfun$withAction$2(Dataset.scala:4323)\n\tat org.apache.spark.sql.execution.QueryExecution$.withInternalError(QueryExecution.scala:546)\n\tat org.apache.spark.sql.Dataset.$anonfun$withAction$1(Dataset.scala:4321)\n\tat org.apache.spark.sql.execution.SQLExecution$.$anonfun$withNewExecutionId$6(SQLExecution.scala:125)\n\tat org.apache.spark.sql.execution.SQLExecution$.withSQLConfPropagated(SQLExecution.scala:201)\n\tat org.apache.spark.sql.execution.SQLExecution$.$anonfun$withNewExecutionId$1(SQLExecution.scala:108)\n\tat org.apache.spark.sql.SparkSession.withActive(SparkSession.scala:900)\n\tat org.apache.spark.sql.execution.SQLExecution$.withNewExecutionId(SQLExecution.scala:66)\n\tat org.apache.spark.sql.Dataset.withAction(Dataset.scala:4321)\n\tat org.apache.spark.sql.Dataset.$anonfun$collectAsArrowToPython$1(Dataset.scala:4243)\n\tat org.apache.spark.sql.Dataset.$anonfun$collectAsArrowToPython$1$adapted(Dataset.scala:4242)\n\tat org.apache.spark.security.SocketAuthServer$.$anonfun$serveToStream$2(SocketAuthServer.scala:140)\n\tat scala.runtime.java8.JFunction0$mcV$sp.apply(JFunction0$mcV$sp.java:23)\n\tat org.apache.spark.util.SparkErrorUtils.tryWithSafeFinally(SparkErrorUtils.scala:64)\n\tat org.apache.spark.util.SparkErrorUtils.tryWithSafeFinally$(SparkErrorUtils.scala:61)\n\tat org.apache.spark.util.Utils$.tryWithSafeFinally(Utils.scala:94)\n\tat org.apache.spark.security.SocketAuthServer$.$anonfun$serveToStream$1(SocketAuthServer.scala:142)\n\tat org.apache.spark.security.SocketAuthServer$.$anonfun$serveToStream$1$adapted(SocketAuthServer.scala:137)\n\tat org.apache.spark.security.SocketFuncServer.handleConnection(SocketAuthServer.scala:114)\n\tat org.apache.spark.security.SocketFuncServer.handleConnection(SocketAuthServer.scala:108)\n\tat org.apache.spark.security.SocketAuthServer$$anon$1.$anonfun$run$4(SocketAuthServer.scala:69)\n\tat scala.util.Try$.apply(Try.scala:213)\n\tat org.apache.spark.security.SocketAuthServer$$anon$1.run(SocketAuthServer.scala:69)\n",
          "output_type": "error",
          "traceback": [
            "\u001b[0;31m---------------------------------------------------------------------------\u001b[0m",
            "\u001b[0;31mPy4JJavaError\u001b[0m                             Traceback (most recent call last)",
            "\u001b[0;32m<ipython-input-20-4e5fb4059915>\u001b[0m in \u001b[0;36m<cell line: 0>\u001b[0;34m()\u001b[0m\n\u001b[0;32m----> 1\u001b[0;31m \u001b[0mmaster_pd\u001b[0m \u001b[0;34m=\u001b[0m \u001b[0mmaster\u001b[0m\u001b[0;34m.\u001b[0m\u001b[0mtoPandas\u001b[0m\u001b[0;34m(\u001b[0m\u001b[0;34m)\u001b[0m\u001b[0;34m\u001b[0m\u001b[0;34m\u001b[0m\u001b[0m\n\u001b[0m",
            "\u001b[0;32m/usr/local/lib/python3.11/dist-packages/pyspark/sql/pandas/conversion.py\u001b[0m in \u001b[0;36mtoPandas\u001b[0;34m(self)\u001b[0m\n\u001b[1;32m    129\u001b[0m \u001b[0;34m\u001b[0m\u001b[0m\n\u001b[1;32m    130\u001b[0m                     \u001b[0mself_destruct\u001b[0m \u001b[0;34m=\u001b[0m \u001b[0mjconf\u001b[0m\u001b[0;34m.\u001b[0m\u001b[0marrowPySparkSelfDestructEnabled\u001b[0m\u001b[0;34m(\u001b[0m\u001b[0;34m)\u001b[0m\u001b[0;34m\u001b[0m\u001b[0;34m\u001b[0m\u001b[0m\n\u001b[0;32m--> 131\u001b[0;31m                     \u001b[0mbatches\u001b[0m \u001b[0;34m=\u001b[0m \u001b[0mself\u001b[0m\u001b[0;34m.\u001b[0m\u001b[0m_collect_as_arrow\u001b[0m\u001b[0;34m(\u001b[0m\u001b[0msplit_batches\u001b[0m\u001b[0;34m=\u001b[0m\u001b[0mself_destruct\u001b[0m\u001b[0;34m)\u001b[0m\u001b[0;34m\u001b[0m\u001b[0;34m\u001b[0m\u001b[0m\n\u001b[0m\u001b[1;32m    132\u001b[0m                     \u001b[0;32mif\u001b[0m \u001b[0mlen\u001b[0m\u001b[0;34m(\u001b[0m\u001b[0mbatches\u001b[0m\u001b[0;34m)\u001b[0m \u001b[0;34m>\u001b[0m \u001b[0;36m0\u001b[0m\u001b[0;34m:\u001b[0m\u001b[0;34m\u001b[0m\u001b[0;34m\u001b[0m\u001b[0m\n\u001b[1;32m    133\u001b[0m                         \u001b[0mtable\u001b[0m \u001b[0;34m=\u001b[0m \u001b[0mpyarrow\u001b[0m\u001b[0;34m.\u001b[0m\u001b[0mTable\u001b[0m\u001b[0;34m.\u001b[0m\u001b[0mfrom_batches\u001b[0m\u001b[0;34m(\u001b[0m\u001b[0mbatches\u001b[0m\u001b[0;34m)\u001b[0m\u001b[0;34m\u001b[0m\u001b[0;34m\u001b[0m\u001b[0m\n",
            "\u001b[0;32m/usr/local/lib/python3.11/dist-packages/pyspark/sql/pandas/conversion.py\u001b[0m in \u001b[0;36m_collect_as_arrow\u001b[0;34m(self, split_batches)\u001b[0m\n\u001b[1;32m    282\u001b[0m             \u001b[0;32mwith\u001b[0m \u001b[0munwrap_spark_exception\u001b[0m\u001b[0;34m(\u001b[0m\u001b[0;34m)\u001b[0m\u001b[0;34m:\u001b[0m\u001b[0;34m\u001b[0m\u001b[0;34m\u001b[0m\u001b[0m\n\u001b[1;32m    283\u001b[0m                 \u001b[0;31m# Join serving thread and raise any exceptions from collectAsArrowToPython\u001b[0m\u001b[0;34m\u001b[0m\u001b[0;34m\u001b[0m\u001b[0m\n\u001b[0;32m--> 284\u001b[0;31m                 \u001b[0mjsocket_auth_server\u001b[0m\u001b[0;34m.\u001b[0m\u001b[0mgetResult\u001b[0m\u001b[0;34m(\u001b[0m\u001b[0;34m)\u001b[0m\u001b[0;34m\u001b[0m\u001b[0;34m\u001b[0m\u001b[0m\n\u001b[0m\u001b[1;32m    285\u001b[0m \u001b[0;34m\u001b[0m\u001b[0m\n\u001b[1;32m    286\u001b[0m         \u001b[0;31m# Separate RecordBatches from batch order indices in results\u001b[0m\u001b[0;34m\u001b[0m\u001b[0;34m\u001b[0m\u001b[0m\n",
            "\u001b[0;32m/usr/local/lib/python3.11/dist-packages/py4j/java_gateway.py\u001b[0m in \u001b[0;36m__call__\u001b[0;34m(self, *args)\u001b[0m\n\u001b[1;32m   1320\u001b[0m \u001b[0;34m\u001b[0m\u001b[0m\n\u001b[1;32m   1321\u001b[0m         \u001b[0manswer\u001b[0m \u001b[0;34m=\u001b[0m \u001b[0mself\u001b[0m\u001b[0;34m.\u001b[0m\u001b[0mgateway_client\u001b[0m\u001b[0;34m.\u001b[0m\u001b[0msend_command\u001b[0m\u001b[0;34m(\u001b[0m\u001b[0mcommand\u001b[0m\u001b[0;34m)\u001b[0m\u001b[0;34m\u001b[0m\u001b[0;34m\u001b[0m\u001b[0m\n\u001b[0;32m-> 1322\u001b[0;31m         return_value = get_return_value(\n\u001b[0m\u001b[1;32m   1323\u001b[0m             answer, self.gateway_client, self.target_id, self.name)\n\u001b[1;32m   1324\u001b[0m \u001b[0;34m\u001b[0m\u001b[0m\n",
            "\u001b[0;32m/usr/local/lib/python3.11/dist-packages/pyspark/errors/exceptions/captured.py\u001b[0m in \u001b[0;36mdeco\u001b[0;34m(*a, **kw)\u001b[0m\n\u001b[1;32m    177\u001b[0m     \u001b[0;32mdef\u001b[0m \u001b[0mdeco\u001b[0m\u001b[0;34m(\u001b[0m\u001b[0;34m*\u001b[0m\u001b[0ma\u001b[0m\u001b[0;34m:\u001b[0m \u001b[0mAny\u001b[0m\u001b[0;34m,\u001b[0m \u001b[0;34m**\u001b[0m\u001b[0mkw\u001b[0m\u001b[0;34m:\u001b[0m \u001b[0mAny\u001b[0m\u001b[0;34m)\u001b[0m \u001b[0;34m->\u001b[0m \u001b[0mAny\u001b[0m\u001b[0;34m:\u001b[0m\u001b[0;34m\u001b[0m\u001b[0;34m\u001b[0m\u001b[0m\n\u001b[1;32m    178\u001b[0m         \u001b[0;32mtry\u001b[0m\u001b[0;34m:\u001b[0m\u001b[0;34m\u001b[0m\u001b[0;34m\u001b[0m\u001b[0m\n\u001b[0;32m--> 179\u001b[0;31m             \u001b[0;32mreturn\u001b[0m \u001b[0mf\u001b[0m\u001b[0;34m(\u001b[0m\u001b[0;34m*\u001b[0m\u001b[0ma\u001b[0m\u001b[0;34m,\u001b[0m \u001b[0;34m**\u001b[0m\u001b[0mkw\u001b[0m\u001b[0;34m)\u001b[0m\u001b[0;34m\u001b[0m\u001b[0;34m\u001b[0m\u001b[0m\n\u001b[0m\u001b[1;32m    180\u001b[0m         \u001b[0;32mexcept\u001b[0m \u001b[0mPy4JJavaError\u001b[0m \u001b[0;32mas\u001b[0m \u001b[0me\u001b[0m\u001b[0;34m:\u001b[0m\u001b[0;34m\u001b[0m\u001b[0;34m\u001b[0m\u001b[0m\n\u001b[1;32m    181\u001b[0m             \u001b[0mconverted\u001b[0m \u001b[0;34m=\u001b[0m \u001b[0mconvert_exception\u001b[0m\u001b[0;34m(\u001b[0m\u001b[0me\u001b[0m\u001b[0;34m.\u001b[0m\u001b[0mjava_exception\u001b[0m\u001b[0;34m)\u001b[0m\u001b[0;34m\u001b[0m\u001b[0;34m\u001b[0m\u001b[0m\n",
            "\u001b[0;32m/usr/local/lib/python3.11/dist-packages/py4j/protocol.py\u001b[0m in \u001b[0;36mget_return_value\u001b[0;34m(answer, gateway_client, target_id, name)\u001b[0m\n\u001b[1;32m    324\u001b[0m             \u001b[0mvalue\u001b[0m \u001b[0;34m=\u001b[0m \u001b[0mOUTPUT_CONVERTER\u001b[0m\u001b[0;34m[\u001b[0m\u001b[0mtype\u001b[0m\u001b[0;34m]\u001b[0m\u001b[0;34m(\u001b[0m\u001b[0manswer\u001b[0m\u001b[0;34m[\u001b[0m\u001b[0;36m2\u001b[0m\u001b[0;34m:\u001b[0m\u001b[0;34m]\u001b[0m\u001b[0;34m,\u001b[0m \u001b[0mgateway_client\u001b[0m\u001b[0;34m)\u001b[0m\u001b[0;34m\u001b[0m\u001b[0;34m\u001b[0m\u001b[0m\n\u001b[1;32m    325\u001b[0m             \u001b[0;32mif\u001b[0m \u001b[0manswer\u001b[0m\u001b[0;34m[\u001b[0m\u001b[0;36m1\u001b[0m\u001b[0;34m]\u001b[0m \u001b[0;34m==\u001b[0m \u001b[0mREFERENCE_TYPE\u001b[0m\u001b[0;34m:\u001b[0m\u001b[0;34m\u001b[0m\u001b[0;34m\u001b[0m\u001b[0m\n\u001b[0;32m--> 326\u001b[0;31m                 raise Py4JJavaError(\n\u001b[0m\u001b[1;32m    327\u001b[0m                     \u001b[0;34m\"An error occurred while calling {0}{1}{2}.\\n\"\u001b[0m\u001b[0;34m.\u001b[0m\u001b[0;34m\u001b[0m\u001b[0;34m\u001b[0m\u001b[0m\n\u001b[1;32m    328\u001b[0m                     format(target_id, \".\", name), value)\n",
            "\u001b[0;31mPy4JJavaError\u001b[0m: An error occurred while calling o407.getResult.\n: org.apache.spark.SparkException: Exception thrown in awaitResult: \n\tat org.apache.spark.util.SparkThreadUtils$.awaitResult(SparkThreadUtils.scala:56)\n\tat org.apache.spark.util.ThreadUtils$.awaitResult(ThreadUtils.scala:310)\n\tat org.apache.spark.security.SocketAuthServer.getResult(SocketAuthServer.scala:98)\n\tat org.apache.spark.security.SocketAuthServer.getResult(SocketAuthServer.scala:94)\n\tat sun.reflect.NativeMethodAccessorImpl.invoke0(Native Method)\n\tat sun.reflect.NativeMethodAccessorImpl.invoke(NativeMethodAccessorImpl.java:62)\n\tat sun.reflect.DelegatingMethodAccessorImpl.invoke(DelegatingMethodAccessorImpl.java:43)\n\tat java.lang.reflect.Method.invoke(Method.java:498)\n\tat py4j.reflection.MethodInvoker.invoke(MethodInvoker.java:244)\n\tat py4j.reflection.ReflectionEngine.invoke(ReflectionEngine.java:374)\n\tat py4j.Gateway.invoke(Gateway.java:282)\n\tat py4j.commands.AbstractCommand.invokeMethod(AbstractCommand.java:132)\n\tat py4j.commands.CallCommand.execute(CallCommand.java:79)\n\tat py4j.ClientServerConnection.waitForCommands(ClientServerConnection.java:182)\n\tat py4j.ClientServerConnection.run(ClientServerConnection.java:106)\n\tat java.lang.Thread.run(Thread.java:750)\nCaused by: org.apache.spark.SparkException: Job aborted due to stage failure: Total size of serialized results of 6 tasks (1184.7 MiB) is bigger than spark.driver.maxResultSize (1024.0 MiB)\n\tat org.apache.spark.scheduler.DAGScheduler.failJobAndIndependentStages(DAGScheduler.scala:2856)\n\tat org.apache.spark.scheduler.DAGScheduler.$anonfun$abortStage$2(DAGScheduler.scala:2792)\n\tat org.apache.spark.scheduler.DAGScheduler.$anonfun$abortStage$2$adapted(DAGScheduler.scala:2791)\n\tat scala.collection.mutable.ResizableArray.foreach(ResizableArray.scala:62)\n\tat scala.collection.mutable.ResizableArray.foreach$(ResizableArray.scala:55)\n\tat scala.collection.mutable.ArrayBuffer.foreach(ArrayBuffer.scala:49)\n\tat org.apache.spark.scheduler.DAGScheduler.abortStage(DAGScheduler.scala:2791)\n\tat org.apache.spark.scheduler.DAGScheduler.$anonfun$handleTaskSetFailed$1(DAGScheduler.scala:1247)\n\tat org.apache.spark.scheduler.DAGScheduler.$anonfun$handleTaskSetFailed$1$adapted(DAGScheduler.scala:1247)\n\tat scala.Option.foreach(Option.scala:407)\n\tat org.apache.spark.scheduler.DAGScheduler.handleTaskSetFailed(DAGScheduler.scala:1247)\n\tat org.apache.spark.scheduler.DAGSchedulerEventProcessLoop.doOnReceive(DAGScheduler.scala:3060)\n\tat org.apache.spark.scheduler.DAGSchedulerEventProcessLoop.onReceive(DAGScheduler.scala:2994)\n\tat org.apache.spark.scheduler.DAGSchedulerEventProcessLoop.onReceive(DAGScheduler.scala:2983)\n\tat org.apache.spark.util.EventLoop$$anon$1.run(EventLoop.scala:49)\n\tat org.apache.spark.scheduler.DAGScheduler.runJob(DAGScheduler.scala:989)\n\tat org.apache.spark.SparkContext.runJob(SparkContext.scala:2393)\n\tat org.apache.spark.SparkContext.runJob(SparkContext.scala:2488)\n\tat org.apache.spark.sql.Dataset.$anonfun$collectAsArrowToPython$5(Dataset.scala:4263)\n\tat scala.runtime.java8.JFunction0$mcV$sp.apply(JFunction0$mcV$sp.java:23)\n\tat org.apache.spark.util.SparkErrorUtils.tryWithSafeFinally(SparkErrorUtils.scala:64)\n\tat org.apache.spark.util.SparkErrorUtils.tryWithSafeFinally$(SparkErrorUtils.scala:61)\n\tat org.apache.spark.util.Utils$.tryWithSafeFinally(Utils.scala:94)\n\tat org.apache.spark.sql.Dataset.$anonfun$collectAsArrowToPython$2(Dataset.scala:4267)\n\tat org.apache.spark.sql.Dataset.$anonfun$collectAsArrowToPython$2$adapted(Dataset.scala:4243)\n\tat org.apache.spark.sql.Dataset.$anonfun$withAction$2(Dataset.scala:4323)\n\tat org.apache.spark.sql.execution.QueryExecution$.withInternalError(QueryExecution.scala:546)\n\tat org.apache.spark.sql.Dataset.$anonfun$withAction$1(Dataset.scala:4321)\n\tat org.apache.spark.sql.execution.SQLExecution$.$anonfun$withNewExecutionId$6(SQLExecution.scala:125)\n\tat org.apache.spark.sql.execution.SQLExecution$.withSQLConfPropagated(SQLExecution.scala:201)\n\tat org.apache.spark.sql.execution.SQLExecution$.$anonfun$withNewExecutionId$1(SQLExecution.scala:108)\n\tat org.apache.spark.sql.SparkSession.withActive(SparkSession.scala:900)\n\tat org.apache.spark.sql.execution.SQLExecution$.withNewExecutionId(SQLExecution.scala:66)\n\tat org.apache.spark.sql.Dataset.withAction(Dataset.scala:4321)\n\tat org.apache.spark.sql.Dataset.$anonfun$collectAsArrowToPython$1(Dataset.scala:4243)\n\tat org.apache.spark.sql.Dataset.$anonfun$collectAsArrowToPython$1$adapted(Dataset.scala:4242)\n\tat org.apache.spark.security.SocketAuthServer$.$anonfun$serveToStream$2(SocketAuthServer.scala:140)\n\tat scala.runtime.java8.JFunction0$mcV$sp.apply(JFunction0$mcV$sp.java:23)\n\tat org.apache.spark.util.SparkErrorUtils.tryWithSafeFinally(SparkErrorUtils.scala:64)\n\tat org.apache.spark.util.SparkErrorUtils.tryWithSafeFinally$(SparkErrorUtils.scala:61)\n\tat org.apache.spark.util.Utils$.tryWithSafeFinally(Utils.scala:94)\n\tat org.apache.spark.security.SocketAuthServer$.$anonfun$serveToStream$1(SocketAuthServer.scala:142)\n\tat org.apache.spark.security.SocketAuthServer$.$anonfun$serveToStream$1$adapted(SocketAuthServer.scala:137)\n\tat org.apache.spark.security.SocketFuncServer.handleConnection(SocketAuthServer.scala:114)\n\tat org.apache.spark.security.SocketFuncServer.handleConnection(SocketAuthServer.scala:108)\n\tat org.apache.spark.security.SocketAuthServer$$anon$1.$anonfun$run$4(SocketAuthServer.scala:69)\n\tat scala.util.Try$.apply(Try.scala:213)\n\tat org.apache.spark.security.SocketAuthServer$$anon$1.run(SocketAuthServer.scala:69)\n"
          ]
        }
      ],
      "source": [
        "master_pd = master.toPandas()"
      ]
    },
    {
      "cell_type": "code",
      "execution_count": null,
      "metadata": {
        "id": "QRv05EvfJfxy"
      },
      "outputs": [],
      "source": [
        "# Separação das features categorias e numericas\n",
        "cat_cols = ['city', 'gender', 'registered_via', 'is_auto_renew','is_cancel']\n",
        "num_cols = ['bd', 'payment_plan_days', 'actual_amount_paid', 'num_25', 'num_50', 'num_75', 'num_985', 'num_100', 'num_unq', 'total_secs']"
      ]
    },
    {
      "cell_type": "code",
      "execution_count": null,
      "metadata": {
        "colab": {
          "base_uri": "https://localhost:8080/",
          "height": 222
        },
        "id": "YvZB8fMeKfDQ",
        "outputId": "82605ac0-6769-4515-ebb0-3eabd80749cd"
      },
      "outputs": [
        {
          "ename": "NameError",
          "evalue": "name 'master_pd' is not defined",
          "output_type": "error",
          "traceback": [
            "\u001b[0;31m---------------------------------------------------------------------------\u001b[0m",
            "\u001b[0;31mNameError\u001b[0m                                 Traceback (most recent call last)",
            "\u001b[0;32m<ipython-input-30-ff945cd77b4b>\u001b[0m in \u001b[0;36m<cell line: 0>\u001b[0;34m()\u001b[0m\n\u001b[1;32m      1\u001b[0m \u001b[0;32mfor\u001b[0m \u001b[0mi\u001b[0m \u001b[0;32min\u001b[0m \u001b[0mcat_cols\u001b[0m\u001b[0;34m:\u001b[0m\u001b[0;34m\u001b[0m\u001b[0;34m\u001b[0m\u001b[0m\n\u001b[0;32m----> 2\u001b[0;31m   \u001b[0mmaster_pd\u001b[0m\u001b[0;34m[\u001b[0m\u001b[0mi\u001b[0m\u001b[0;34m]\u001b[0m \u001b[0;34m=\u001b[0m \u001b[0mmaster_pd\u001b[0m\u001b[0;34m[\u001b[0m\u001b[0mi\u001b[0m\u001b[0;34m]\u001b[0m\u001b[0;34m.\u001b[0m\u001b[0mastype\u001b[0m\u001b[0;34m(\u001b[0m\u001b[0;34m'string'\u001b[0m\u001b[0;34m)\u001b[0m\u001b[0;34m\u001b[0m\u001b[0;34m\u001b[0m\u001b[0m\n\u001b[0m\u001b[1;32m      3\u001b[0m   \u001b[0mplt\u001b[0m\u001b[0;34m.\u001b[0m\u001b[0mfigure\u001b[0m\u001b[0;34m(\u001b[0m\u001b[0mfigsize\u001b[0m\u001b[0;34m=\u001b[0m\u001b[0;34m(\u001b[0m\u001b[0;36m10\u001b[0m\u001b[0;34m,\u001b[0m \u001b[0;36m5\u001b[0m\u001b[0;34m)\u001b[0m\u001b[0;34m)\u001b[0m\u001b[0;34m\u001b[0m\u001b[0;34m\u001b[0m\u001b[0m\n\u001b[1;32m      4\u001b[0m   \u001b[0msns\u001b[0m\u001b[0;34m.\u001b[0m\u001b[0mcountplot\u001b[0m\u001b[0;34m(\u001b[0m\u001b[0mdata\u001b[0m\u001b[0;34m=\u001b[0m\u001b[0mmaster_pd\u001b[0m\u001b[0;34m,\u001b[0m \u001b[0mx\u001b[0m\u001b[0;34m=\u001b[0m\u001b[0mi\u001b[0m\u001b[0;34m,\u001b[0m \u001b[0mhue\u001b[0m\u001b[0;34m=\u001b[0m\u001b[0;34m'target'\u001b[0m\u001b[0;34m)\u001b[0m\u001b[0;34m\u001b[0m\u001b[0;34m\u001b[0m\u001b[0m\n\u001b[1;32m      5\u001b[0m   \u001b[0mplt\u001b[0m\u001b[0;34m.\u001b[0m\u001b[0mxlabel\u001b[0m\u001b[0;34m(\u001b[0m\u001b[0mi\u001b[0m\u001b[0;34m)\u001b[0m\u001b[0;34m\u001b[0m\u001b[0;34m\u001b[0m\u001b[0m\n",
            "\u001b[0;31mNameError\u001b[0m: name 'master_pd' is not defined"
          ]
        }
      ],
      "source": [
        "for i in cat_cols:\n",
        "  master_pd[i] = master_pd[i].astype('string')\n",
        "  plt.figure(figsize=(10, 5))\n",
        "  sns.countplot(data=master_pd, x=i, hue='target')\n",
        "  plt.xlabel(i)\n",
        "  plt.ylabel('Count')\n",
        "  plt.legend(title='Target', loc='upper right')\n",
        "  plt.show()"
      ]
    },
    {
      "cell_type": "code",
      "execution_count": null,
      "metadata": {
        "id": "LiCYuUeZKyT6"
      },
      "outputs": [],
      "source": [
        "for i in num_cols:\n",
        "  plt.figure(figsize=(10, 5))\n",
        "  sns.boxplot(data=master_pd, x='target', y=i)\n",
        "  plt.xlabel('Target')\n",
        "  plt.ylabel(i)\n",
        "  plt.show()"
      ]
    },
    {
      "cell_type": "markdown",
      "metadata": {
        "id": "LnBPVrCUljgQ"
      },
      "source": [
        "# Modelo\n",
        "* Avaliação de dois algoritmos para realizar a classificação binária: XGBoost e regressão logística\n",
        "*"
      ]
    },
    {
      "cell_type": "code",
      "execution_count": null,
      "metadata": {
        "id": "WY2A9h1WPeHR"
      },
      "outputs": [],
      "source": []
    }
  ],
  "metadata": {
    "colab": {
      "provenance": [],
      "mount_file_id": "174GONhf-U3hwHwKEOrDc3g1VmQt9N6mO",
      "authorship_tag": "ABX9TyPA4xVZGnrrbol/bMEE00XY",
      "include_colab_link": true
    },
    "kernelspec": {
      "display_name": "Python 3",
      "name": "python3"
    },
    "language_info": {
      "name": "python"
    }
  },
  "nbformat": 4,
  "nbformat_minor": 0
}