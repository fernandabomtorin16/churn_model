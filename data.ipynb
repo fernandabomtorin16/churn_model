{
  "nbformat": 4,
  "nbformat_minor": 0,
  "metadata": {
    "colab": {
      "provenance": [],
      "mount_file_id": "174GONhf-U3hwHwKEOrDc3g1VmQt9N6mO",
      "authorship_tag": "ABX9TyOcb58bTswf8qL1TsLSZ1oJ",
      "include_colab_link": true
    },
    "kernelspec": {
      "name": "python3",
      "display_name": "Python 3"
    },
    "language_info": {
      "name": "python"
    }
  },
  "cells": [
    {
      "cell_type": "markdown",
      "metadata": {
        "id": "view-in-github",
        "colab_type": "text"
      },
      "source": [
        "<a href=\"https://colab.research.google.com/github/fernandabomtorin16/churn_model/blob/main/data.ipynb\" target=\"_parent\"><img src=\"https://colab.research.google.com/assets/colab-badge.svg\" alt=\"Open In Colab\"/></a>"
      ]
    },
    {
      "cell_type": "code",
      "source": [
        "# !apt-get update\n",
        "# !apt-get install openjdk-8-jdk-headless -qq > /dev/null\n",
        "# !pip install -q pyspark"
      ],
      "metadata": {
        "id": "zb771hDKFw_S"
      },
      "execution_count": 2,
      "outputs": []
    },
    {
      "cell_type": "code",
      "source": [
        "# # Configurar variáveis de ambiente\n",
        "# import os\n",
        "# os.environ[\"JAVA_HOME\"] = \"/usr/lib/jvm/java-8-openjdk-amd64\"\n",
        "# os.environ[\"SPARK_HOME\"] = \"/usr/local/lib/python3.10/dist-packages/pyspark\""
      ],
      "metadata": {
        "id": "Qiq3fltmF-XD"
      },
      "execution_count": 3,
      "outputs": []
    },
    {
      "cell_type": "code",
      "execution_count": 4,
      "metadata": {
        "id": "ssGrU0OtCgSD"
      },
      "outputs": [],
      "source": [
        "import os\n",
        "import pandas as pd\n",
        "import numpy as np\n",
        "import seaborn as sns\n",
        "import matplotlib.pyplot as plt\n",
        "import pyarrow.parquet as pq\n",
        "import dask.dataframe as dd\n",
        "from pyspark.sql import SparkSession\n",
        "\n",
        "spark = SparkSession.builder \\\n",
        "    .appName(\"ColabPySpark\") \\\n",
        "    .getOrCreate()"
      ]
    },
    {
      "cell_type": "markdown",
      "source": [
        "# Extração dos dados"
      ],
      "metadata": {
        "id": "fihcVVwKH65u"
      }
    },
    {
      "cell_type": "code",
      "source": [
        "# Loading das bases de dados\n",
        "df_transactions = spark.read.parquet(\"/content/drive/MyDrive/Data Master/transactions.parquet\")\n",
        "df_members = spark.read.parquet(\"/content/drive/MyDrive/Data Master/members.parquet\")\n",
        "df_logs = spark.read.parquet(\"/content/drive/MyDrive/Data Master/user_logs.parquet\")"
      ],
      "metadata": {
        "id": "p_sZ_AJmG-8G"
      },
      "execution_count": 12,
      "outputs": []
    },
    {
      "cell_type": "code",
      "source": [
        "df_transactions.show(5)"
      ],
      "metadata": {
        "colab": {
          "base_uri": "https://localhost:8080/"
        },
        "id": "1kuPv4qLH4lr",
        "outputId": "a70490fd-dcb0-4449-a23b-c5d44672bfa5"
      },
      "execution_count": 16,
      "outputs": [
        {
          "output_type": "stream",
          "name": "stdout",
          "text": [
            "+--------------------+-----------------+-----------------+---------------+------------------+-------------+----------------+----------------------+---------+------+\n",
            "|                msno|payment_method_id|payment_plan_days|plan_list_price|actual_amount_paid|is_auto_renew|transaction_date|membership_expire_date|is_cancel| safra|\n",
            "+--------------------+-----------------+-----------------+---------------+------------------+-------------+----------------+----------------------+---------+------+\n",
            "|+++IZseRRiQS9aaSk...|               38|              410|           1788|              1788|            0|        20151121|              20170104|        0|201511|\n",
            "|+++snpr7pmobhLKUg...|               41|               30|            149|               149|            1|        20150526|              20150626|        0|201505|\n",
            "|+++snpr7pmobhLKUg...|               41|               30|            149|               149|            1|        20150926|              20151026|        0|201509|\n",
            "|++/9R3sX37CjxbY/A...|               41|               30|            149|               149|            1|        20160615|              20160715|        0|201606|\n",
            "|++/Gw1B9K+XOlB3hL...|               40|               31|            149|               149|            1|        20150113|              20150216|        0|201501|\n",
            "+--------------------+-----------------+-----------------+---------------+------------------+-------------+----------------+----------------------+---------+------+\n",
            "only showing top 5 rows\n",
            "\n"
          ]
        }
      ]
    },
    {
      "cell_type": "code",
      "source": [
        "df_members.show(5)"
      ],
      "metadata": {
        "colab": {
          "base_uri": "https://localhost:8080/"
        },
        "id": "C4ABd8DRHdA7",
        "outputId": "f4d47e87-222a-4ef9-a185-481734acf0ae"
      },
      "execution_count": 10,
      "outputs": [
        {
          "output_type": "stream",
          "name": "stdout",
          "text": [
            "+--------------------+------+----------------------+----+---+------+--------------+--------+\n",
            "|                msno| safra|registration_init_time|city| bd|gender|registered_via|is_ativo|\n",
            "+--------------------+------+----------------------+----+---+------+--------------+--------+\n",
            "|+++snpr7pmobhLKUg...|201612|              20140927|   1|  0|  NULL|             7|       1|\n",
            "|++/AwGzubug3gT6J+...|201607|              20150322|   1|  0|  NULL|             9|       0|\n",
            "|++/Gw1B9K+XOlB3hL...|201601|              20121217|  15| 32|  male|             3|       1|\n",
            "|++02XbtviomSxcIBU...|201603|              20131112|  14| 21|  male|             7|       0|\n",
            "|++0O0Bq04sB/9ZcOS...|201610|              20141021|   5| 33|  male|             3|       0|\n",
            "+--------------------+------+----------------------+----+---+------+--------------+--------+\n",
            "only showing top 5 rows\n",
            "\n"
          ]
        }
      ]
    },
    {
      "cell_type": "code",
      "source": [
        "df_logs.show(5)"
      ],
      "metadata": {
        "colab": {
          "base_uri": "https://localhost:8080/"
        },
        "id": "KZPBiBBeHdfW",
        "outputId": "d1b66e99-8f9b-46b4-82f8-21be5a6e80b1"
      },
      "execution_count": 11,
      "outputs": [
        {
          "output_type": "stream",
          "name": "stdout",
          "text": [
            "+--------------------+------+------+------+------+-------+-------+-------+----------+\n",
            "|                msno| safra|num_25|num_50|num_75|num_985|num_100|num_unq|total_secs|\n",
            "+--------------------+------+------+------+------+-------+-------+-------+----------+\n",
            "|SwlrSivYHoKF9V5wm...|201701| 121.0|  28.0|  14.0|   29.0|  704.0|  827.0|184606.903|\n",
            "|rE5wSmHEF1Dhu55zh...|201605|  26.0|   2.0|   5.0|    6.0|  462.0|  256.0|119439.485|\n",
            "|hx+cyaQ/Jcdr/Z5fo...|201611| 161.0|  71.0|  49.0|   34.0|  668.0|  891.0|204791.242|\n",
            "|53QW6B70J23X2UCvx...|201502|  37.0|   9.0|   3.0|    9.0|  408.0|  447.0|101186.041|\n",
            "|/0S1N/oRyxGLZlzxn...|201506| 205.0|  49.0|  23.0|   21.0|  225.0|  489.0| 69957.524|\n",
            "+--------------------+------+------+------+------+-------+-------+-------+----------+\n",
            "only showing top 5 rows\n",
            "\n"
          ]
        }
      ]
    },
    {
      "cell_type": "code",
      "source": [],
      "metadata": {
        "id": "OYYJhGvoHncP"
      },
      "execution_count": null,
      "outputs": []
    }
  ]
}